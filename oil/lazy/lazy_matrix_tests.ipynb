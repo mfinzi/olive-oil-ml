{
 "cells": [
  {
   "cell_type": "code",
   "execution_count": 2,
   "metadata": {},
   "outputs": [],
   "source": [
    "from oil.lazy.lazy_matrix import LazyMatrix, lazy\n",
    "from oil.lazy.low_rank import LowRank\n",
    "%matplotlib inline\n",
    "%load_ext autoreload\n",
    "%autoreload 2"
   ]
  },
  {
   "cell_type": "code",
   "execution_count": 3,
   "metadata": {},
   "outputs": [],
   "source": [
    "import numpy as np"
   ]
  },
  {
   "cell_type": "code",
   "execution_count": 4,
   "metadata": {},
   "outputs": [],
   "source": [
    "float_type = np.float64\n",
    "## Toy Problem 2 for stochastic eigen decomposition\n",
    "## PCA\n",
    "mb = 1000\n",
    "rank = 100\n",
    "n = int(1e6)\n",
    "toy_eigs2 = np.sqrt(.9*np.ones(rank))\n",
    "toy_eigs2[0] = 1\n",
    "toy_eigs2[:10] = np.array([1.1,.95,.7,.5,.3,.01,.001,-.4,-.7,-.94]).astype(np.float32)\n",
    "S = np.diag(toy_eigs2)\n",
    "#U = torch.ones(rank,1e6).normal_().numpy()\n",
    "U = np.random.randn(n,rank).astype(float_type)\n",
    "U,_ = np.linalg.qr(U)\n",
    "V = np.random.randn(rank,rank).astype(float_type)\n",
    "V,_ = np.linalg.qr(V)\n",
    "#V = V.astype(np.float64)\n",
    "X = (np.sqrt(n)*U@S@V.T).astype(float_type)\n",
    "cov = X.T@X/n\n",
    "\n",
    "index = toy_eigs2.argmax()\n",
    "v = V.T[index]\n",
    "\n",
    "def toy_A():\n",
    "    indices = np.random.permutation(n).reshape(n//mb,mb)\n",
    "    for batch_ids in indices:\n",
    "        m = len(batch_ids)\n",
    "        x = X[batch_ids]\n",
    "        yield [lambda v: (1/m)*x.T@(x@v)]"
   ]
  },
  {
   "cell_type": "code",
   "execution_count": 5,
   "metadata": {},
   "outputs": [],
   "source": [
    "m = 1000\n",
    "rank = 10\n",
    "n = int(1e5)\n",
    "toy_eigs2 = np.sqrt(.9*np.ones(rank))\n",
    "toy_eigs2[0] = 1\n",
    "toy_eigs2[:10] = np.array([1.1,.95,.7,.5,.3,.01,.001,-.4,-.7,-.94]).astype(np.float32)\n",
    "S = np.diag(toy_eigs2)\n",
    "#U = torch.ones(rank,1e6).normal_().numpy()\n",
    "U = np.random.randn(n,rank).astype(float_type)\n",
    "U,_ = np.linalg.qr(U)\n",
    "V = np.random.randn(m,rank).astype(float_type)\n",
    "V,_ = np.linalg.qr(V)\n",
    "#V = V.astype(np.float64)\n",
    "X = (np.sqrt(n)*U@S@V.T).astype(float_type)"
   ]
  },
  {
   "cell_type": "code",
   "execution_count": 6,
   "metadata": {},
   "outputs": [
    {
     "data": {
      "text/plain": [
       "(100000, 1000)"
      ]
     },
     "execution_count": 6,
     "metadata": {},
     "output_type": "execute_result"
    }
   ],
   "source": [
    "X.shape"
   ]
  },
  {
   "cell_type": "code",
   "execution_count": 7,
   "metadata": {},
   "outputs": [
    {
     "data": {
      "text/plain": [
       "(100000, 10)"
      ]
     },
     "execution_count": 7,
     "metadata": {},
     "output_type": "execute_result"
    }
   ],
   "source": [
    "U.shape"
   ]
  },
  {
   "cell_type": "code",
   "execution_count": 8,
   "metadata": {},
   "outputs": [
    {
     "data": {
      "text/plain": [
       "(1000, 10)"
      ]
     },
     "execution_count": 8,
     "metadata": {},
     "output_type": "execute_result"
    }
   ],
   "source": [
    "V.shape"
   ]
  },
  {
   "cell_type": "code",
   "execution_count": 9,
   "metadata": {},
   "outputs": [],
   "source": [
    "X_lazy = LowRank(U@S,V)"
   ]
  },
  {
   "cell_type": "code",
   "execution_count": 10,
   "metadata": {},
   "outputs": [
    {
     "data": {
      "text/plain": [
       "array([[ 0.05499907,  0.02862312,  0.04330404, ..., -0.01993921,\n",
       "        -0.01280142, -0.0457409 ],\n",
       "       [-0.05933099, -0.02927586, -0.0825242 , ...,  0.00904728,\n",
       "        -0.01464811,  0.1086615 ],\n",
       "       [ 0.09817139,  0.12248526,  0.01193939, ..., -0.00047453,\n",
       "        -0.01416449,  0.03580394],\n",
       "       ...,\n",
       "       [-0.04307749,  0.02604584, -0.0054444 , ..., -0.05025208,\n",
       "        -0.02080824, -0.04466284],\n",
       "       [ 0.05171415, -0.0473899 ,  0.03908065, ..., -0.00095259,\n",
       "         0.01799553, -0.02662304],\n",
       "       [-0.07158374,  0.01617636, -0.02732761, ..., -0.00619405,\n",
       "        -0.02061255,  0.01279712]])"
      ]
     },
     "execution_count": 10,
     "metadata": {},
     "output_type": "execute_result"
    }
   ],
   "source": [
    "X"
   ]
  },
  {
   "cell_type": "code",
   "execution_count": 11,
   "metadata": {},
   "outputs": [
    {
     "data": {
      "text/plain": [
       "array([[ 1.73922335e-04,  9.05142679e-05,  1.36939406e-04, ...,\n",
       "        -6.30533325e-05, -4.04816359e-05, -1.44645441e-04],\n",
       "       [-1.87621062e-04, -9.25784070e-05, -2.60964421e-04, ...,\n",
       "         2.86100137e-05, -4.63213968e-05,  3.43617843e-04],\n",
       "       [ 3.10445190e-04,  3.87332416e-04,  3.77556536e-05, ...,\n",
       "        -1.50059430e-06, -4.47920508e-05,  1.13221996e-04],\n",
       "       ...,\n",
       "       [-1.36222991e-04,  8.23641647e-05, -1.72166949e-05, ...,\n",
       "        -1.58911027e-04, -6.58014228e-05, -1.41236289e-04],\n",
       "       [ 1.63534492e-04, -1.49860011e-04,  1.23583860e-04, ...,\n",
       "        -3.01236783e-06,  5.69068506e-05, -8.41894512e-05],\n",
       "       [-2.26367674e-04,  5.11541508e-05, -8.64175041e-05, ...,\n",
       "        -1.95873053e-05, -6.51826163e-05,  4.04680450e-05]])"
      ]
     },
     "execution_count": 11,
     "metadata": {},
     "output_type": "execute_result"
    }
   ],
   "source": [
    "X_lazy.evaluate()"
   ]
  },
  {
   "cell_type": "code",
   "execution_count": 12,
   "metadata": {},
   "outputs": [
    {
     "data": {
      "text/plain": [
       "array([[ 1.73922335e-04,  9.05142679e-05,  1.36939406e-04, ...,\n",
       "        -6.30533325e-05, -4.04816359e-05, -1.44645441e-04],\n",
       "       [-1.87621062e-04, -9.25784070e-05, -2.60964421e-04, ...,\n",
       "         2.86100137e-05, -4.63213968e-05,  3.43617843e-04],\n",
       "       [ 3.10445190e-04,  3.87332416e-04,  3.77556536e-05, ...,\n",
       "        -1.50059430e-06, -4.47920508e-05,  1.13221996e-04],\n",
       "       ...,\n",
       "       [-1.36222991e-04,  8.23641647e-05, -1.72166949e-05, ...,\n",
       "        -1.58911027e-04, -6.58014228e-05, -1.41236289e-04],\n",
       "       [ 1.63534492e-04, -1.49860011e-04,  1.23583860e-04, ...,\n",
       "        -3.01236783e-06,  5.69068506e-05, -8.41894512e-05],\n",
       "       [-2.26367674e-04,  5.11541508e-05, -8.64175041e-05, ...,\n",
       "        -1.95873053e-05, -6.51826163e-05,  4.04680450e-05]])"
      ]
     },
     "execution_count": 12,
     "metadata": {},
     "output_type": "execute_result"
    }
   ],
   "source": [
    "U@S@V.T"
   ]
  },
  {
   "cell_type": "code",
   "execution_count": 14,
   "metadata": {},
   "outputs": [
    {
     "data": {
      "text/plain": [
       "<oil.lazy.lazy_matrix.LazyMatrix at 0x7ff5cb3edf28>"
      ]
     },
     "execution_count": 14,
     "metadata": {},
     "output_type": "execute_result"
    }
   ],
   "source": [
    "lazy(U)"
   ]
  },
  {
   "cell_type": "code",
   "execution_count": 15,
   "metadata": {},
   "outputs": [],
   "source": [
    "X_lazy2 = lazy(U)@lazy(S)@lazy(V.T)"
   ]
  },
  {
   "cell_type": "code",
   "execution_count": 16,
   "metadata": {},
   "outputs": [
    {
     "data": {
      "text/plain": [
       "array([[ 1.73922335e-04,  9.05142679e-05,  1.36939406e-04, ...,\n",
       "        -6.30533325e-05, -4.04816359e-05, -1.44645441e-04],\n",
       "       [-1.87621062e-04, -9.25784070e-05, -2.60964421e-04, ...,\n",
       "         2.86100137e-05, -4.63213968e-05,  3.43617843e-04],\n",
       "       [ 3.10445190e-04,  3.87332416e-04,  3.77556536e-05, ...,\n",
       "        -1.50059430e-06, -4.47920508e-05,  1.13221996e-04],\n",
       "       ...,\n",
       "       [-1.36222991e-04,  8.23641647e-05, -1.72166949e-05, ...,\n",
       "        -1.58911027e-04, -6.58014228e-05, -1.41236289e-04],\n",
       "       [ 1.63534492e-04, -1.49860011e-04,  1.23583860e-04, ...,\n",
       "        -3.01236783e-06,  5.69068506e-05, -8.41894512e-05],\n",
       "       [-2.26367674e-04,  5.11541508e-05, -8.64175041e-05, ...,\n",
       "        -1.95873053e-05, -6.51826163e-05,  4.04680450e-05]])"
      ]
     },
     "execution_count": 16,
     "metadata": {},
     "output_type": "execute_result"
    }
   ],
   "source": [
    "X_lazy2.evaluate()"
   ]
  },
  {
   "cell_type": "code",
   "execution_count": null,
   "metadata": {},
   "outputs": [],
   "source": [
    "np.eye(10)"
   ]
  },
  {
   "cell_type": "code",
   "execution_count": null,
   "metadata": {},
   "outputs": [],
   "source": []
  }
 ],
 "metadata": {
  "kernelspec": {
   "display_name": "Python 3",
   "language": "python",
   "name": "python3"
  },
  "language_info": {
   "codemirror_mode": {
    "name": "ipython",
    "version": 3
   },
   "file_extension": ".py",
   "mimetype": "text/x-python",
   "name": "python",
   "nbconvert_exporter": "python",
   "pygments_lexer": "ipython3",
   "version": "3.6.4"
  }
 },
 "nbformat": 4,
 "nbformat_minor": 2
}
