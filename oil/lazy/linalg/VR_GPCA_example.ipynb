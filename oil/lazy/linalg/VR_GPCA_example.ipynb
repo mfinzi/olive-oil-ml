{
 "cells": [
  {
   "cell_type": "code",
   "execution_count": 2,
   "metadata": {
    "scrolled": true
   },
   "outputs": [],
   "source": [
    "from oil.lazy.lazy_matrix import LazyMatrix, Lazy\n",
    "from oil.lazy.lazy_types import LazyAvg\n",
    "from oil.utils.utils import reusable\n",
    "from oil.lazy.linalg.VRmethods import GradLoader, oja_grad2,SGHA_grad2,SGD,SVRG, SGHA_grad,oja_subspace_grad\n",
    "from oil.logging.lazyLogger import LazyLogger\n",
    "\n",
    "%matplotlib inline\n",
    "%load_ext autoreload\n",
    "%autoreload 2"
   ]
  },
  {
   "cell_type": "code",
   "execution_count": 41,
   "metadata": {},
   "outputs": [],
   "source": [
    "import torch\n",
    "import numpy as np\n",
    "import scipy as sp\n",
    "import scipy.linalg\n",
    "import matplotlib.pyplot as plt\n",
    "import time\n",
    "import pandas as pd"
   ]
  },
  {
   "cell_type": "markdown",
   "metadata": {},
   "source": [
    "## VR-PCA"
   ]
  },
  {
   "cell_type": "code",
   "execution_count": 42,
   "metadata": {},
   "outputs": [],
   "source": [
    "## Toy Dataset setup for PCA\n",
    "def PCA_dataset(n=10**5,rank=100,float_type=np.float64):\n",
    "    toy_eigs2 = np.random.rand(rank)**2\n",
    "    toy_eigs2[:30] += np.linspace(0,1,30)#np.array([1.0,.95,.7,.5,.3,.01,.001,-.4,-.7,-.94])\n",
    "    toy_eigs2 = np.sort(toy_eigs2)[::-1]\n",
    "    S = np.diag(toy_eigs2).astype(float_type)\n",
    "    U = np.random.randn(n,rank).astype(float_type)\n",
    "    U,_ = np.linalg.qr(U)\n",
    "    V = np.random.randn(rank,rank).astype(float_type)\n",
    "    V,_ = np.linalg.qr(V)\n",
    "    X = (np.sqrt(n)*U@S@V.T).astype(float_type)\n",
    "    A = X.T@X/n\n",
    "    return X,V,A\n",
    "\n",
    "def cov_gen(X,bs=1000):\n",
    "    def _gen():\n",
    "        n = X.shape[0]\n",
    "        indices = np.random.permutation(n).reshape(n//bs,bs)\n",
    "        for batch_ids in indices:\n",
    "            x = X[batch_ids]\n",
    "            yield Lazy(x.T)@Lazy(x)/bs\n",
    "    return reusable(_gen)"
   ]
  },
  {
   "cell_type": "code",
   "execution_count": 43,
   "metadata": {},
   "outputs": [],
   "source": [
    "n=10**5; rank = 100; float_type = np.float64\n",
    "X,V,A_full = PCA_dataset(n,rank,float_type)\n",
    "\n",
    "# Create a Lazy Average from iterable of minibatches\n",
    "A = LazyAvg(cov_gen(X))\n",
    "grads = GradLoader(oja_grad2,[A])"
   ]
  },
  {
   "cell_type": "code",
   "execution_count": 44,
   "metadata": {},
   "outputs": [],
   "source": [
    "# Setup code for logging\n",
    "logger = LazyLogger(**{'no_print':True, 'minPeriod':0, 'timeFrac':1})\n",
    "logger.i = 0 # annoying but we will add some temporary state to keep track of step\n",
    "sin_pair = lambda u, w: 1-((u@w)**2 /((w@w)*(u@u)))\n",
    "def log(w,lr,grad):\n",
    "    logger.i+=1\n",
    "    with logger as do_log:\n",
    "        if do_log:\n",
    "            wallclocktime = time.time()\n",
    "            metrics = {}\n",
    "            metrics[r\"$||\\nabla L(w)||$\"] = np.linalg.norm(grad)\n",
    "            metrics[r\"$|\\sin^2\\measuredangle(v,w)|$\"] = sin_pair(w,V[:,0])\n",
    "            logger.add_scalars('metrics',metrics,step=logger.i)"
   ]
  },
  {
   "cell_type": "code",
   "execution_count": 45,
   "metadata": {},
   "outputs": [
    {
     "data": {
      "application/vnd.jupyter.widget-view+json": {
       "model_id": "e451a48cd6a446e1bd17180a7258923b",
       "version_major": 2,
       "version_minor": 0
      },
      "text/plain": [
       "HBox(children=(IntProgress(value=0, max=30), HTML(value='')))"
      ]
     },
     "metadata": {},
     "output_type": "display_data"
    },
    {
     "name": "stdout",
     "output_type": "stream",
     "text": [
      "\n"
     ]
    }
   ],
   "source": [
    "w0 = np.random.randn(rank).astype(float_type)\n",
    "w0 /= np.linalg.norm(w0)\n",
    "lr = lambda e: .1#*cosLr(num_epochs)(e)\n",
    "num_epochs = 30\n",
    "logger.scalar_frame=pd.DataFrame()\n",
    "w = SVRG(grads,w0,lr,num_epochs,log)"
   ]
  },
  {
   "cell_type": "code",
   "execution_count": 46,
   "metadata": {},
   "outputs": [
    {
     "data": {
      "text/plain": [
       "<Figure size 432x288 with 0 Axes>"
      ]
     },
     "metadata": {},
     "output_type": "display_data"
    },
    {
     "data": {
      "image/png": "[encoded data removed]",
      "text/plain": [
       "<Figure size 432x288 with 1 Axes>"
      ]
     },
     "metadata": {},
     "output_type": "display_data"
    }
   ],
   "source": [
    "plt.style.use('ggplot')\n",
    "plt.rcParams.update({'font.size': 14})\n",
    "f = plt.figure()\n",
    "logger.scalar_frame.plot(logy=True)\n",
    "plt.axhline(y=np.finfo(float_type).eps,label = r\"Machine $\\epsilon$\",color='k')\n",
    "plt.ylabel('Relative Error')\n",
    "plt.xlabel(\"Iterations\")\n",
    "plt.legend()\n",
    "f.savefig(\"VR_PCA.pdf\", bbox_inches='tight')"
   ]
  },
  {
   "cell_type": "markdown",
   "metadata": {},
   "source": [
    "## VR-GPCA"
   ]
  },
  {
   "cell_type": "code",
   "execution_count": 47,
   "metadata": {},
   "outputs": [],
   "source": [
    "## Toy Dataset setup for GPCA\n",
    "def GPCA_dataset(n=10**5,rank=100,float_type=np.float64):\n",
    "    # Construct B matrix\n",
    "    ideal_diag = np.diag(np.random.rand(rank))#np.abs(np.eye(rank))\n",
    "    R = np.random.randn(rank,rank)\n",
    "    R,_ = np.linalg.qr(R)\n",
    "    B_ideal = R.T@ideal_diag@R\n",
    "    # Get Y fron n samples from underlying distribution N(0,B_ideal)\n",
    "    Y = np.random.multivariate_normal(np.zeros(rank),B_ideal,n).astype(float_type)\n",
    "    B = Y.T@Y/n\n",
    "    \n",
    "    # Construct A from generalized SVD\n",
    "    toy_eigs3 = np.random.rand(rank)**2\n",
    "    toy_eigs3[:30] += np.linspace(0,1,30)\n",
    "    toy_eigs3 = np.sort(toy_eigs3)[::-1]\n",
    "    \n",
    "    S = np.diag(toy_eigs3)\n",
    "    U = np.random.randn(n,rank)\n",
    "    U,_ = np.linalg.qr(U)\n",
    "    V = np.random.randn(rank,rank)\n",
    "    V,_ = np.linalg.qr(V)\n",
    "    invSqrtB = sp.linalg.fractional_matrix_power(B,-1/2)\n",
    "    V = invSqrtB@V # So that V.T@B@V = I (B orthogonal)\n",
    "    X = (np.sqrt(n)*U@S@(B@V).T).astype(float_type)\n",
    "    A = X.T@X/n\n",
    "    \n",
    "#     # Extract out top generalized eigenvector\n",
    "#     index = toy_eigs3.argmax()\n",
    "#     v = V.T[index].astype(float_type)\n",
    "#     v = v/np.sqrt(v@B@v)\n",
    "    return X,Y,V,A,B"
   ]
  },
  {
   "cell_type": "code",
   "execution_count": 48,
   "metadata": {},
   "outputs": [],
   "source": [
    "n = 10**6; rank = 100; float_type=np.float64\n",
    "X,Y,V,A_full,B_full = GPCA_dataset(n,rank,float_type)\n",
    "A = LazyAvg(cov_gen(X,bs=10**3))\n",
    "B = LazyAvg(cov_gen(Y,bs=10**3))\n",
    "grads2 = GradLoader(SGHA_grad,(A,B))"
   ]
  },
  {
   "cell_type": "code",
   "execution_count": 49,
   "metadata": {},
   "outputs": [],
   "source": [
    "# Setup code for logging\n",
    "logger = LazyLogger(**{'no_print':True, 'minPeriod':0, 'timeFrac':1})\n",
    "logger.i = 0 # annoying but we will add some temporary state to keep track of step\n",
    "#sin_pair = lambda u, w: 1-((u@B@w)**2 /((w@B@w)*(u@B@u)))\n",
    "sin_pair = lambda u, w: 1-((u@w)**2 /((w@w)*(u@u)))\n",
    "def log(w,lr,grad):\n",
    "    logger.i+=1\n",
    "    with logger as do_log:\n",
    "        if do_log:\n",
    "            wallclocktime = time.time()\n",
    "            metrics = {}\n",
    "            metrics[r\"$||\\nabla L(w)||$\"] = np.linalg.norm(grad)\n",
    "            metrics[r\"$|\\sin^2\\measuredangle(v,w)|$\"] = sin_pair(w,V[:,0])\n",
    "            logger.add_scalars('metrics',metrics,step=logger.i)"
   ]
  },
  {
   "cell_type": "code",
   "execution_count": 50,
   "metadata": {},
   "outputs": [
    {
     "data": {
      "application/vnd.jupyter.widget-view+json": {
       "model_id": "08126beea2f1493896dfa3966a8853a0",
       "version_major": 2,
       "version_minor": 0
      },
      "text/plain": [
       "HBox(children=(IntProgress(value=0, max=75), HTML(value='')))"
      ]
     },
     "metadata": {},
     "output_type": "display_data"
    },
    {
     "name": "stdout",
     "output_type": "stream",
     "text": [
      "\n"
     ]
    }
   ],
   "source": [
    "w0 = np.random.randn(rank).astype(float_type)\n",
    "w0 /= np.linalg.norm(w0)\n",
    "lr = lambda e: .5#*cosLr(num_epochs)(e)\n",
    "num_epochs = 75\n",
    "logger.scalar_frame=pd.DataFrame()\n",
    "w = SVRG(grads2,w0,lr,num_epochs,log)"
   ]
  },
  {
   "cell_type": "code",
   "execution_count": null,
   "metadata": {},
   "outputs": [],
   "source": [
    "plt.style.use('ggplot')\n",
    "plt.rcParams.update({'font.size': 14})\n",
    "f = plt.figure()\n",
    "logger.scalar_frame.plot(logy=True)\n",
    "plt.axhline(y=np.finfo(float_type).eps,label = r\"Machine $\\epsilon$\",color='k')\n",
    "plt.ylabel('Relative Error')\n",
    "plt.xlabel(\"Iterations\")\n",
    "plt.legend()\n",
    "f.savefig(\"VR_GPCA.pdf\", bbox_inches='tight')"
   ]
  },
  {
   "cell_type": "code",
   "execution_count": null,
   "metadata": {},
   "outputs": [],
   "source": [
    "len(logger.scalar_frame)"
   ]
  },
  {
   "cell_type": "markdown",
   "metadata": {},
   "source": [
    "## Block VR-PCA (k=10)"
   ]
  },
  {
   "cell_type": "code",
   "execution_count": 31,
   "metadata": {},
   "outputs": [],
   "source": [
    "n=10**5; rank = 100; float_type = np.float64\n",
    "X,V,A_full = PCA_dataset(n,rank,float_type)\n",
    "k = 10 # block size\n",
    "# Create a Lazy Average from iterable of minibatches\n",
    "A = LazyAvg(cov_gen(X))\n",
    "grads = GradLoader(oja_subspace_grad,[A])"
   ]
  },
  {
   "cell_type": "code",
   "execution_count": 32,
   "metadata": {},
   "outputs": [],
   "source": [
    "# Setup code for logging\n",
    "logger = LazyLogger(**{'no_print':True, 'minPeriod':0, 'timeFrac':1})\n",
    "logger.i = 0 # annoying but we will add some temporary state to keep track of step\n",
    "VVT = V[:,:k]@V[:,:k].T\n",
    "def log(W,lr,grad):\n",
    "    logger.i+=1\n",
    "    with logger as do_log:\n",
    "        if do_log:\n",
    "            wallclocktime = time.time()\n",
    "            metrics = {}\n",
    "            metrics[r\"$||\\nabla L(W)||_F$\"] = np.linalg.norm(grad,ord='fro')\n",
    "            metrics[r\"$||VV^T - WW^T||_F$\"] = np.linalg.norm(VVT - W@W.T,ord='fro')\n",
    "            logger.add_scalars('metrics',metrics,step=logger.i)"
   ]
  },
  {
   "cell_type": "code",
   "execution_count": 33,
   "metadata": {},
   "outputs": [
    {
     "data": {
      "application/vnd.jupyter.widget-view+json": {
       "model_id": "a4863c3afca443139eaf656a2892b862",
       "version_major": 2,
       "version_minor": 0
      },
      "text/plain": [
       "HBox(children=(IntProgress(value=0, max=150), HTML(value='')))"
      ]
     },
     "metadata": {},
     "output_type": "display_data"
    },
    {
     "name": "stdout",
     "output_type": "stream",
     "text": [
      "\n"
     ]
    }
   ],
   "source": [
    "W0 = np.random.randn(rank,k).astype(float_type)\n",
    "W0, _ =  np.linalg.qr(W0) #orthogonalize the matrix\n",
    "lr = lambda e: .1#*cosLr(num_epochs)(e)\n",
    "num_epochs = 150\n",
    "W = SVRG(grads,W0,lr,num_epochs,log)"
   ]
  },
  {
   "cell_type": "code",
   "execution_count": 34,
   "metadata": {},
   "outputs": [
    {
     "data": {
      "text/plain": [
       "<Figure size 432x288 with 0 Axes>"
      ]
     },
     "metadata": {},
     "output_type": "display_data"
    },
    {
     "data": {
      "image/png": "[encoded data removed]",
      "text/plain": [
       "<Figure size 432x288 with 1 Axes>"
      ]
     },
     "metadata": {},
     "output_type": "display_data"
    }
   ],
   "source": [
    "plt.style.use('ggplot')\n",
    "plt.rcParams.update({'font.size': 14})\n",
    "f = plt.figure()\n",
    "logger.scalar_frame.plot(logy=True)\n",
    "plt.axhline(y=np.finfo(float_type).eps,label = r\"Machine $\\epsilon$\",color='k')\n",
    "plt.ylabel('Relative Error')\n",
    "plt.xlabel(\"Iterations\")\n",
    "plt.legend()\n",
    "f.savefig(\"VR_GPCA_subspace.pdf\", bbox_inches='tight')"
   ]
  },
  {
   "cell_type": "markdown",
   "metadata": {},
   "source": [
    "## Block VR-GPCA (k=10)"
   ]
  },
  {
   "cell_type": "code",
   "execution_count": 17,
   "metadata": {},
   "outputs": [
    {
     "ename": "AttributeError",
     "evalue": "'numpy.ndarray' object has no attribute 'sqrt'",
     "output_type": "error",
     "traceback": [
      "\u001b[0;31m---------------------------------------------------------------------------\u001b[0m",
      "\u001b[0;31mAttributeError\u001b[0m                            Traceback (most recent call last)",
      "\u001b[0;32m<ipython-input-17-6effe44635f9>\u001b[0m in \u001b[0;36m<module>\u001b[0;34m\u001b[0m\n\u001b[1;32m      1\u001b[0m \u001b[0;32mimport\u001b[0m \u001b[0mnumpy\u001b[0m \u001b[0;32mas\u001b[0m \u001b[0mnp\u001b[0m\u001b[0;34m\u001b[0m\u001b[0m\n\u001b[1;32m      2\u001b[0m \u001b[0;32mimport\u001b[0m \u001b[0mtorch\u001b[0m\u001b[0;34m\u001b[0m\u001b[0m\n\u001b[0;32m----> 3\u001b[0;31m \u001b[0mnp\u001b[0m\u001b[0;34m.\u001b[0m\u001b[0mrandom\u001b[0m\u001b[0;34m.\u001b[0m\u001b[0mrand\u001b[0m\u001b[0;34m(\u001b[0m\u001b[0;36m10\u001b[0m\u001b[0;34m,\u001b[0m\u001b[0;36m5\u001b[0m\u001b[0;34m)\u001b[0m\u001b[0;34m.\u001b[0m\u001b[0msqrt\u001b[0m\u001b[0;34m(\u001b[0m\u001b[0;34m)\u001b[0m\u001b[0;34m\u001b[0m\u001b[0m\n\u001b[0m",
      "\u001b[0;31mAttributeError\u001b[0m: 'numpy.ndarray' object has no attribute 'sqrt'"
     ]
    }
   ],
   "source": [
    "import numpy as np\n",
    "import torch\n",
    "np.random.rand(10,5).sqrt()"
   ]
  },
  {
   "cell_type": "code",
   "execution_count": 25,
   "metadata": {},
   "outputs": [
    {
     "data": {
      "text/plain": [
       "tensor(1.2981, device='cuda:0')"
      ]
     },
     "execution_count": 25,
     "metadata": {},
     "output_type": "execute_result"
    }
   ],
   "source": [
    "torch.sqrt(torch.rand(10).cuda()@torch.rand(10).cuda())"
   ]
  },
  {
   "cell_type": "code",
   "execution_count": 15,
   "metadata": {},
   "outputs": [
    {
     "ename": "TypeError",
     "evalue": "normal(): argument 'mean' (position 1) must be Tensor, not int",
     "output_type": "error",
     "traceback": [
      "\u001b[0;31m---------------------------------------------------------------------------\u001b[0m",
      "\u001b[0;31mTypeError\u001b[0m                                 Traceback (most recent call last)",
      "\u001b[0;32m<ipython-input-15-272210ea4ef9>\u001b[0m in \u001b[0;36m<module>\u001b[0;34m\u001b[0m\n\u001b[0;32m----> 1\u001b[0;31m \u001b[0mtorch\u001b[0m\u001b[0;34m.\u001b[0m\u001b[0mnormal\u001b[0m\u001b[0;34m(\u001b[0m\u001b[0;36m10\u001b[0m\u001b[0;34m)\u001b[0m\u001b[0;34m\u001b[0m\u001b[0m\n\u001b[0m",
      "\u001b[0;31mTypeError\u001b[0m: normal(): argument 'mean' (position 1) must be Tensor, not int"
     ]
    }
   ],
   "source": [
    "torch.normal(10)"
   ]
  },
  {
   "cell_type": "code",
   "execution_count": 20,
   "metadata": {},
   "outputs": [
    {
     "data": {
      "text/plain": [
       "2.2786547960468644"
      ]
     },
     "execution_count": 20,
     "metadata": {},
     "output_type": "execute_result"
    }
   ],
   "source": [
    "np.sqrt(np.random.rand(10)@np.ones(10))"
   ]
  },
  {
   "cell_type": "code",
   "execution_count": 27,
   "metadata": {},
   "outputs": [
    {
     "name": "stdout",
     "output_type": "stream",
     "text": [
      "0\n",
      "1\n",
      "2\n"
     ]
    }
   ],
   "source": [
    "for i in range(10):\n",
    "    print(i)\n",
    "    if i==2: break"
   ]
  },
  {
   "cell_type": "code",
   "execution_count": null,
   "metadata": {},
   "outputs": [],
   "source": []
  }
 ],
 "metadata": {
  "kernelspec": {
   "display_name": "Python 3",
   "language": "python",
   "name": "python3"
  },
  "language_info": {
   "codemirror_mode": {
    "name": "ipython",
    "version": 3
   },
   "file_extension": ".py",
   "mimetype": "text/x-python",
   "name": "python",
   "nbconvert_exporter": "python",
   "pygments_lexer": "ipython3",
   "version": "3.6.6"
  }
 },
 "nbformat": 4,
 "nbformat_minor": 2
}
