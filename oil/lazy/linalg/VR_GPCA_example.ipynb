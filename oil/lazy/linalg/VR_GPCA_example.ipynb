{
 "cells": [
  {
   "cell_type": "code",
   "execution_count": 1,
   "metadata": {
    "scrolled": true
   },
   "outputs": [],
   "source": [
    "from oil.lazy.lazy_matrix import LazyMatrix, Lazy\n",
    "from oil.lazy.lazy_types import LazyAvg\n",
    "from oil.utils.utils import reusable\n",
    "from oil.lazy.linalg.VRmethods import GradLoader, oja_grad2,SGHA_grad2,SGD,SVRG, SGHA_grad,oja_subspace_grad,SGHA_subspace_grad2,SGHA_subspace_grad\n",
    "from oil.logging.lazyLogger import LazyLogger\n",
    "from oil.lazy.linalg.lanczos import power_method\n",
    "%matplotlib inline\n",
    "%load_ext autoreload\n",
    "%autoreload 2"
   ]
  },
  {
   "cell_type": "code",
   "execution_count": 2,
   "metadata": {},
   "outputs": [],
   "source": [
    "import torch\n",
    "import numpy as np\n",
    "import scipy as sp\n",
    "import scipy.linalg\n",
    "import matplotlib.pyplot as plt\n",
    "import time\n",
    "import pandas as pd"
   ]
  },
  {
   "cell_type": "markdown",
   "metadata": {},
   "source": [
    "## VR-PCA"
   ]
  },
  {
   "cell_type": "code",
   "execution_count": 3,
   "metadata": {},
   "outputs": [],
   "source": [
    "## Toy Dataset setup for PCA\n",
    "def PCA_dataset(n=10**5,rank=100,float_type=np.float64):\n",
    "    toy_eigs2 = np.random.rand(rank)**2\n",
    "    toy_eigs2[:30] += np.linspace(0,1,30)#np.array([1.0,.95,.7,.5,.3,.01,.001,-.4,-.7,-.94])\n",
    "    toy_eigs2 = np.sort(toy_eigs2)[::-1]\n",
    "    S = np.diag(toy_eigs2).astype(float_type)\n",
    "    U = np.random.randn(n,rank).astype(float_type)\n",
    "    U,_ = np.linalg.qr(U)\n",
    "    V = np.random.randn(rank,rank).astype(float_type)\n",
    "    V,_ = np.linalg.qr(V)\n",
    "    X = (np.sqrt(n)*U@S@V.T).astype(float_type)\n",
    "    A = X.T@X/n\n",
    "    return X,V,A\n",
    "\n",
    "def cov_gen(X,bs=1000):\n",
    "    def _gen():\n",
    "        n = X.shape[0]\n",
    "        indices = np.random.permutation(n).reshape(n//bs,bs)\n",
    "        for batch_ids in indices:\n",
    "            x = X[batch_ids]\n",
    "            yield Lazy(x.T)@Lazy(x)/bs\n",
    "    return reusable(_gen)"
   ]
  },
  {
   "cell_type": "code",
   "execution_count": null,
   "metadata": {},
   "outputs": [],
   "source": [
    "n=10**5; rank = 1000; float_type = np.float64\n",
    "X,V,A_full = PCA_dataset(n,rank,float_type)\n",
    "\n",
    "# Create a Lazy Average from iterable of minibatches\n",
    "A = LazyAvg(cov_gen(X))\n",
    "grads = GradLoader(oja_grad2,[A])"
   ]
  },
  {
   "cell_type": "code",
   "execution_count": null,
   "metadata": {},
   "outputs": [],
   "source": [
    "# Setup code for logging\n",
    "logger = LazyLogger(**{'no_print':True, 'minPeriod':0, 'timeFrac':1})\n",
    "logger.i = 0 # annoying but we will add some temporary state to keep track of step\n",
    "sin_pair = lambda u, w: 1-((u@w)**2 /((w@w)*(u@u)))\n",
    "def log(w,lr,grad):\n",
    "    logger.i+=1\n",
    "    with logger as do_log:\n",
    "        if do_log:\n",
    "            wallclocktime = time.time()\n",
    "            metrics = {}\n",
    "            metrics[r\"$||\\nabla L(w)||$\"] = np.linalg.norm(grad)\n",
    "            metrics[r\"$\\sin^2\\measuredangle(v,w)$\"] = sin_pair(w,V[:,0])\n",
    "            logger.add_scalars('metrics',metrics,step=logger.i)"
   ]
  },
  {
   "cell_type": "code",
   "execution_count": null,
   "metadata": {},
   "outputs": [],
   "source": [
    "w0 = np.random.randn(rank).astype(float_type)\n",
    "w0 /= np.linalg.norm(w0)\n",
    "lr = lambda e: .1#*cosLr(num_epochs)(e)\n",
    "num_epochs = 30\n",
    "w = SVRG(grads,w0,lr,num_epochs,log)"
   ]
  },
  {
   "cell_type": "code",
   "execution_count": null,
   "metadata": {},
   "outputs": [],
   "source": [
    "plt.style.use('ggplot')\n",
    "plt.rcParams.update({'font.size': 14})\n",
    "f = plt.figure()\n",
    "logger.scalar_frame.plot(logy=True)\n",
    "plt.axhline(y=np.finfo(float_type).eps,label = r\"Machine $\\epsilon$\",color='k')\n",
    "plt.ylabel('Relative Error')\n",
    "plt.xlabel(\"Iterations\")\n",
    "plt.legend()\n",
    "f.savefig(\"VR_PCA.pdf\", bbox_inches='tight')"
   ]
  },
  {
   "cell_type": "markdown",
   "metadata": {},
   "source": [
    "## VR-GPCA"
   ]
  },
  {
   "cell_type": "code",
   "execution_count": 4,
   "metadata": {},
   "outputs": [],
   "source": [
    "## Toy Dataset setup for GPCA\n",
    "def GPCA_dataset(n=10**5,rank=100,float_type=np.float64):\n",
    "    # Construct B matrix\n",
    "    ideal_diag = np.diag(np.random.rand(rank))#np.abs(np.eye(rank))\n",
    "    R = np.random.randn(rank,rank)\n",
    "    R,_ = np.linalg.qr(R)\n",
    "    B_ideal = R.T@ideal_diag@R\n",
    "    # Get Y fron n samples from underlying distribution N(0,B_ideal)\n",
    "    Y = np.random.multivariate_normal(np.zeros(rank),B_ideal,n).astype(float_type)\n",
    "    B = Y.T@Y/n\n",
    "    \n",
    "    # Construct A from generalized SVD\n",
    "    toy_eigs3 = np.random.rand(rank)**2\n",
    "    toy_eigs3[:30] += np.linspace(0,1,30)\n",
    "    toy_eigs3 = np.sort(toy_eigs3)[::-1]\n",
    "    \n",
    "    S = np.diag(toy_eigs3)\n",
    "    U = np.random.randn(n,rank)\n",
    "    U,_ = np.linalg.qr(U)\n",
    "    V = np.random.randn(rank,rank)\n",
    "    V,_ = np.linalg.qr(V)\n",
    "    invSqrtB = sp.linalg.fractional_matrix_power(B,-1/2)\n",
    "    V = invSqrtB@V # So that V.T@B@V = I (B orthogonal)\n",
    "    X = (np.sqrt(n)*U@S@(B@V).T).astype(float_type)\n",
    "    A = X.T@X/n\n",
    "    \n",
    "#     # Extract out top generalized eigenvector\n",
    "#     index = toy_eigs3.argmax()\n",
    "#     v = V.T[index].astype(float_type)\n",
    "#     v = v/np.sqrt(v@B@v)\n",
    "    return X,Y,V,A,B"
   ]
  },
  {
   "cell_type": "code",
   "execution_count": null,
   "metadata": {},
   "outputs": [],
   "source": [
    "n = 10**5; rank = 100; float_type=np.float64\n",
    "X,Y,V,A_full,B_full = GPCA_dataset(n,rank,float_type)\n",
    "A = LazyAvg(cov_gen(X,bs=10**3))\n",
    "B = LazyAvg(cov_gen(Y,bs=10**3))\n",
    "grads2 = GradLoader(SGHA_grad,(A,B))"
   ]
  },
  {
   "cell_type": "code",
   "execution_count": null,
   "metadata": {},
   "outputs": [],
   "source": [
    "# Setup code for logging\n",
    "logger = LazyLogger(**{'no_print':True, 'minPeriod':0, 'timeFrac':1})\n",
    "logger.i = 0 # annoying but we will add some temporary state to keep track of step\n",
    "#sin_pair = lambda u, w: 1-((u@B@w)**2 /((w@B@w)*(u@B@u)))\n",
    "sin_pair = lambda u, w: 1-((u@w)**2 /((w@w)*(u@u)))\n",
    "def log(w,lr,grad):\n",
    "    logger.i+=1\n",
    "    with logger as do_log:\n",
    "        if do_log:\n",
    "            wallclocktime = time.time()\n",
    "            metrics = {}\n",
    "            metrics[r\"$||\\nabla L(w)||$\"] = np.linalg.norm(grad)\n",
    "            metrics[r\"$\\sin^2\\measuredangle(v,w)$\"] = sin_pair(w,V[:,0])\n",
    "            logger.add_scalars('metrics',metrics,step=logger.i)"
   ]
  },
  {
   "cell_type": "code",
   "execution_count": null,
   "metadata": {},
   "outputs": [],
   "source": [
    "w0 = np.random.randn(rank).astype(float_type)\n",
    "w0 /= np.linalg.norm(w0)\n",
    "lr = lambda e: .5#*cosLr(num_epochs)(e)\n",
    "num_epochs = 75\n",
    "w = SVRG(grads2,w0,lr,num_epochs,log)"
   ]
  },
  {
   "cell_type": "code",
   "execution_count": null,
   "metadata": {},
   "outputs": [],
   "source": [
    "plt.style.use('ggplot')\n",
    "plt.rcParams.update({'font.size': 14})\n",
    "f = plt.figure()\n",
    "logger.scalar_frame.plot(logy=True)\n",
    "plt.axhline(y=np.finfo(float_type).eps,label = r\"Machine $\\epsilon$\",color='k')\n",
    "plt.ylabel('Relative Error')\n",
    "plt.xlabel(\"Iterations\")\n",
    "plt.legend()\n",
    "f.savefig(\"VR_GPCA.pdf\", bbox_inches='tight')"
   ]
  },
  {
   "cell_type": "code",
   "execution_count": null,
   "metadata": {},
   "outputs": [],
   "source": [
    "len(logger.scalar_frame)"
   ]
  },
  {
   "cell_type": "markdown",
   "metadata": {},
   "source": [
    "## Block VR-PCA (k=10)"
   ]
  },
  {
   "cell_type": "code",
   "execution_count": 5,
   "metadata": {},
   "outputs": [],
   "source": [
    "n=10**5; rank = 100; float_type = np.float64\n",
    "X,V,A_full = PCA_dataset(n,rank,float_type)\n",
    "k = 10 # block size\n",
    "# Create a Lazy Average from iterable of minibatches\n",
    "A = LazyAvg(cov_gen(X))\n",
    "grads = GradLoader(oja_subspace_grad,[A])"
   ]
  },
  {
   "cell_type": "code",
   "execution_count": 6,
   "metadata": {},
   "outputs": [],
   "source": [
    "# Setup code for logging\n",
    "logger = LazyLogger(**{'no_print':True, 'minPeriod':0, 'timeFrac':1})\n",
    "logger.i = 0 # annoying but we will add some temporary state to keep track of step\n",
    "VVT = V[:,:k]@V[:,:k].T\n",
    "def log(W,lr,grad):\n",
    "    logger.i+=1\n",
    "    with logger as do_log:\n",
    "        if do_log:\n",
    "            wallclocktime = time.time()\n",
    "            metrics = {}\n",
    "            metrics[r\"$||\\nabla L(W)||_F$\"] = np.linalg.norm(grad,ord='fro')\n",
    "            metrics[r\"$||VV^T - WW^T||_F$\"] = np.linalg.norm(VVT - W@W.T,ord='fro')\n",
    "            logger.add_scalars('metrics',metrics,step=logger.i)"
   ]
  },
  {
   "cell_type": "code",
   "execution_count": 8,
   "metadata": {},
   "outputs": [
    {
     "data": {
      "application/vnd.jupyter.widget-view+json": {
       "model_id": "3360abe0d4574d4ea6da37dc2b8a46b1",
       "version_major": 2,
       "version_minor": 0
      },
      "text/plain": [
       "HBox(children=(IntProgress(value=0, max=300), HTML(value='')))"
      ]
     },
     "metadata": {},
     "output_type": "display_data"
    },
    {
     "name": "stdout",
     "output_type": "stream",
     "text": [
      "\n"
     ]
    }
   ],
   "source": [
    "W0 = np.random.randn(rank,k).astype(float_type)\n",
    "W0, _ =  np.linalg.qr(W0) #orthogonalize the matrix\n",
    "lr = lambda e: .1#*cosLr(num_epochs)(e)\n",
    "num_epochs = 300\n",
    "W = SVRG(grads,W0,lr,num_epochs,log)"
   ]
  },
  {
   "cell_type": "code",
   "execution_count": 9,
   "metadata": {},
   "outputs": [
    {
     "data": {
      "text/plain": [
       "<Figure size 432x288 with 0 Axes>"
      ]
     },
     "metadata": {},
     "output_type": "display_data"
    },
    {
     "data": {
      "image/png": "[encoded data removed]",
      "text/plain": [
       "<Figure size 432x288 with 1 Axes>"
      ]
     },
     "metadata": {},
     "output_type": "display_data"
    }
   ],
   "source": [
    "plt.style.use('ggplot')\n",
    "plt.rcParams.update({'font.size': 14})\n",
    "f = plt.figure()\n",
    "logger.scalar_frame.plot(logy=True)\n",
    "plt.axhline(y=np.finfo(float_type).eps,label = r\"Machine $\\epsilon$\",color='k')\n",
    "plt.ylabel('Relative Error')\n",
    "plt.xlabel(\"Iterations\")\n",
    "plt.legend()\n",
    "f.savefig(\"VR_PCA_subspace.pdf\", bbox_inches='tight')"
   ]
  },
  {
   "cell_type": "markdown",
   "metadata": {},
   "source": [
    "## Block VR-GPCA (k=10)"
   ]
  },
  {
   "cell_type": "code",
   "execution_count": 75,
   "metadata": {},
   "outputs": [],
   "source": [
    "n = 10**5; rank = 100; float_type=np.float64\n",
    "X,Y,V,A_full,B_full = GPCA_dataset(n,rank,float_type)\n",
    "A = LazyAvg(cov_gen(X))\n",
    "B = LazyAvg(cov_gen(Y))\n",
    "grads2 = GradLoader(SGHA_subspace_grad2,(A,B,B))\n",
    "k=10"
   ]
  },
  {
   "cell_type": "code",
   "execution_count": 76,
   "metadata": {},
   "outputs": [],
   "source": [
    "import scipy as sp\n",
    "B_invsqrt = sp.linalg.inv(sp.linalg.sqrtm(B_full))"
   ]
  },
  {
   "cell_type": "code",
   "execution_count": 80,
   "metadata": {},
   "outputs": [],
   "source": [
    "# Setup code for logging\n",
    "logger = LazyLogger(**{'no_print':True, 'minPeriod':0, 'timeFrac':1})\n",
    "logger.i = 0 # annoying but we will add some temporary state to keep track of step\n",
    "VVTB = V[:,:k]@V[:,:k].T@B_full\n",
    "def log(W,lr,grad):\n",
    "    logger.i+=1\n",
    "    with logger as do_log:\n",
    "        if do_log:\n",
    "            wallclocktime = time.time()\n",
    "            metrics = {}\n",
    "            eigs = W.T@B_full@W\n",
    "            WWT = W@sp.linalg.inv(eigs)@W.T\n",
    "            metrics[r\"$||\\nabla L(W)||_F$\"] = np.linalg.norm(grad,ord='fro')\n",
    "            metrics[r\"$||VV^TB - W(W^TBW)^{-1}W^TB||_F$\"] = np.linalg.norm(VVTB - WWT@B_full,ord='fro')\n",
    "            logger.add_scalars('metrics',metrics,step=logger.i)"
   ]
  },
  {
   "cell_type": "code",
   "execution_count": 81,
   "metadata": {},
   "outputs": [
    {
     "data": {
      "application/vnd.jupyter.widget-view+json": {
       "model_id": "d2feccdecbc841e2be98bfc857486a6f",
       "version_major": 2,
       "version_minor": 0
      },
      "text/plain": [
       "HBox(children=(IntProgress(value=0, max=300), HTML(value='')))"
      ]
     },
     "metadata": {},
     "output_type": "display_data"
    },
    {
     "name": "stdout",
     "output_type": "stream",
     "text": [
      "\n"
     ]
    }
   ],
   "source": [
    "W0 = np.random.randn(rank,k).astype(float_type)\n",
    "W0, _ =  np.linalg.qr(W0) #orthogonalize the matrix\n",
    "lr = lambda e: .3#*cosLr(num_epochs)(e)\n",
    "num_epochs = 300\n",
    "W = SVRG(grads2,W0,lr,num_epochs,log)"
   ]
  },
  {
   "cell_type": "code",
   "execution_count": 82,
   "metadata": {},
   "outputs": [
    {
     "data": {
      "text/plain": [
       "<Figure size 432x288 with 0 Axes>"
      ]
     },
     "metadata": {},
     "output_type": "display_data"
    },
    {
     "data": {
      "image/png": "[encoded data removed]",
      "text/plain": [
       "<Figure size 432x288 with 1 Axes>"
      ]
     },
     "metadata": {},
     "output_type": "display_data"
    }
   ],
   "source": [
    "plt.style.use('ggplot')\n",
    "plt.rcParams.update({'font.size': 14})\n",
    "f = plt.figure()\n",
    "logger.scalar_frame.plot(logy=True)\n",
    "plt.axhline(y=np.finfo(float_type).eps,label = r\"Machine $\\epsilon$\",color='k')\n",
    "plt.ylabel('Relative Error')\n",
    "plt.xlabel(\"Iterations\")\n",
    "plt.legend()\n",
    "f.savefig(\"VR_GPCA_subspace.pdf\", bbox_inches='tight')"
   ]
  },
  {
   "cell_type": "code",
   "execution_count": null,
   "metadata": {},
   "outputs": [],
   "source": []
  }
 ],
 "metadata": {
  "kernelspec": {
   "display_name": "Python 3",
   "language": "python",
   "name": "python3"
  },
  "language_info": {
   "codemirror_mode": {
    "name": "ipython",
    "version": 3
   },
   "file_extension": ".py",
   "mimetype": "text/x-python",
   "name": "python",
   "nbconvert_exporter": "python",
   "pygments_lexer": "ipython3",
   "version": "3.6.6"
  }
 },
 "nbformat": 4,
 "nbformat_minor": 2
}
