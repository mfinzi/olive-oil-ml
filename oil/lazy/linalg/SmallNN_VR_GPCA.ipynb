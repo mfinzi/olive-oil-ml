{
 "cells": [
  {
   "cell_type": "code",
   "execution_count": 1,
   "metadata": {
    "scrolled": true
   },
   "outputs": [],
   "source": [
    "from __future__ import division\n",
    "import os\n",
    "os.sys.path.append(\"/home/izmailovpavel/Documents/Projects/pristine-ml/\")\n",
    "\n",
    "from oil.lazy.lazy_matrix import LazyMatrix, Lazy\n",
    "from oil.lazy.lazy_types import LazyAvg\n",
    "from oil.utils.utils import reusable\n",
    "from oil.lazy.linalg.VRmethods import GradLoader, oja_grad2,SGHA_grad2,SGD,SVRG, SGHA_grad,oja_subspace_grad\n",
    "from oil.logging.lazyLogger import LazyLogger\n",
    "\n",
    "%matplotlib inline\n",
    "%load_ext autoreload\n",
    "%autoreload 2"
   ]
  },
  {
   "cell_type": "code",
   "execution_count": 2,
   "metadata": {},
   "outputs": [],
   "source": [
    "import torch\n",
    "import numpy as np\n",
    "import scipy as sp\n",
    "import scipy.linalg\n",
    "import matplotlib.pyplot as plt\n",
    "import time\n",
    "import pandas as pd"
   ]
  },
  {
   "cell_type": "markdown",
   "metadata": {},
   "source": [
    "## Network import"
   ]
  },
  {
   "cell_type": "code",
   "execution_count": 3,
   "metadata": {},
   "outputs": [
    {
     "name": "stdout",
     "output_type": "stream",
     "text": [
      "The autoreload extension is already loaded. To reload it, use:\n",
      "  %reload_ext autoreload\n"
     ]
    }
   ],
   "source": [
    "import numpy as np\n",
    "import torch\n",
    "import sys\n",
    "sys.path.append(\"/home/izmailovpavel/Documents/Projects/mode-geometry/\")\n",
    "# from models import VGG16\n",
    "# from torchvision.datasets import CIFAR100\n",
    "import torch.nn.functional as F\n",
    "# import tqdm\n",
    "# import data\n",
    "import data_noaug\n",
    "import models\n",
    "import utils\n",
    "# import understanding_utils\n",
    "# from understanding_utils import UnderstandingNetwork\n",
    "# from torch.autograd import Variable\n",
    "\n",
    "from matplotlib import pyplot as plt\n",
    "%matplotlib inline\n",
    "%load_ext autoreload\n",
    "%autoreload 2"
   ]
  },
  {
   "cell_type": "code",
   "execution_count": 4,
   "metadata": {},
   "outputs": [
    {
     "name": "stdout",
     "output_type": "stream",
     "text": [
      "Files already downloaded and verified\n",
      "You are going to run models on the test set. Are you sure?\n",
      "Files already downloaded and verified\n"
     ]
    }
   ],
   "source": [
    "path = \"/home/izmailovpavel/datasets/cifar100/\"\n",
    "loaders, num_classes = data_noaug.loaders(\n",
    "    \"CIFAR10\",\n",
    "    \"/home/izmailovpavel/datasets/\",\n",
    "    128,\n",
    "    4,\n",
    "    \"VGG\",\n",
    "    True\n",
    ")\n",
    "# loaders[\"train\"] = reusable(loaders[\"train\"])\n",
    "# loaders[\"test\"] = reusable(loaders[\"test\"])"
   ]
  },
  {
   "cell_type": "code",
   "execution_count": 5,
   "metadata": {},
   "outputs": [],
   "source": [
    "torch.backends.cudnn.benchmark = True\n",
    "num_classes = 10\n",
    "criterion = F.cross_entropy"
   ]
  },
  {
   "cell_type": "code",
   "execution_count": 6,
   "metadata": {},
   "outputs": [
    {
     "name": "stdout",
     "output_type": "stream",
     "text": [
      "{'accuracy': 84.84, 'loss': 0.4700113704681396, 'nll': 0.4700113704681396}\n"
     ]
    }
   ],
   "source": [
    "architecture = getattr(models, \"SmallConvFC\")\n",
    "\n",
    "model = architecture.base(num_classes=num_classes, **architecture.kwargs)\n",
    "model.cuda()\n",
    "checkpoint = torch.load(\"/home/izmailovpavel/Documents/ckpts/c10/smallconvfc/run1/checkpoint-200.pt\")\n",
    "# checkpoint = torch.load(\"/home/izmailovpavel/Documents/ckpts/c10/smallconvfc/run2/checkpoint-200.pt\")\n",
    "model.load_state_dict(checkpoint['model_state'])\n",
    "# checkpoint = torch.load(\"/home/izmailovpavel/Documents/ckpts/c10/smallconvfc/run6/checkpoint-300.pt\")\n",
    "# model.load_state_dict(checkpoint['swa_state'])\n",
    "\n",
    "model.device = next(model.parameters()).device\n",
    "model.eval()\n",
    "\n",
    "print(utils.test(loaders[\"test\"], model, criterion))"
   ]
  },
  {
   "cell_type": "markdown",
   "metadata": {},
   "source": [
    "## Hessian"
   ]
  },
  {
   "cell_type": "code",
   "execution_count": 7,
   "metadata": {},
   "outputs": [],
   "source": [
    "from oil.lazy.hessian import Hessian, Fisher"
   ]
  },
  {
   "cell_type": "code",
   "execution_count": 8,
   "metadata": {},
   "outputs": [],
   "source": [
    "lazy_H = Hessian(model, loaders[\"train\"], loss=criterion)"
   ]
  },
  {
   "cell_type": "code",
   "execution_count": 9,
   "metadata": {},
   "outputs": [],
   "source": [
    "v = torch.ones([134122]).cuda()"
   ]
  },
  {
   "cell_type": "code",
   "execution_count": 10,
   "metadata": {},
   "outputs": [
    {
     "data": {
      "text/plain": [
       "tensor([ 1.6278,  0.3642, -1.2045,  ...,  0.8824, -0.0901, -0.6819], device='cuda:0')"
      ]
     },
     "execution_count": 10,
     "metadata": {},
     "output_type": "execute_result"
    }
   ],
   "source": [
    "lazy_H @ v"
   ]
  },
  {
   "cell_type": "code",
   "execution_count": 11,
   "metadata": {},
   "outputs": [],
   "source": [
    "for h in lazy_H:\n",
    "    break"
   ]
  },
  {
   "cell_type": "code",
   "execution_count": 12,
   "metadata": {},
   "outputs": [
    {
     "data": {
      "text/plain": [
       "tensor([ 1.9909, -0.4636, -3.8205,  ...,  3.1634,  1.0116,  0.9070], device='cuda:0')"
      ]
     },
     "execution_count": 12,
     "metadata": {},
     "output_type": "execute_result"
    }
   ],
   "source": [
    "h @ v"
   ]
  },
  {
   "cell_type": "markdown",
   "metadata": {},
   "source": [
    "## Power Method"
   ]
  },
  {
   "cell_type": "code",
   "execution_count": 30,
   "metadata": {},
   "outputs": [
    {
     "name": "stdout",
     "output_type": "stream",
     "text": [
      "tensor(0.2006, device='cuda:0')\n",
      "tensor(18.8292, device='cuda:0')\n",
      "tensor(21.5357, device='cuda:0')\n",
      "tensor(22.5957, device='cuda:0')\n",
      "tensor(23.3662, device='cuda:0')\n",
      "tensor(23.9731, device='cuda:0')\n",
      "tensor(24.5076, device='cuda:0')\n",
      "tensor(24.8274, device='cuda:0')\n",
      "tensor(25.0906, device='cuda:0')\n",
      "tensor(25.2632, device='cuda:0')\n",
      "tensor(25.3946, device='cuda:0')\n",
      "tensor(25.4614, device='cuda:0')\n",
      "tensor(25.5121, device='cuda:0')\n",
      "tensor(25.5787, device='cuda:0')\n",
      "tensor(25.5713, device='cuda:0')\n",
      "tensor(25.5865, device='cuda:0')\n",
      "tensor(25.5821, device='cuda:0')\n",
      "tensor(25.5961, device='cuda:0')\n",
      "tensor(25.5922, device='cuda:0')\n",
      "tensor(25.5967, device='cuda:0')\n",
      "tensor(25.5981, device='cuda:0')\n",
      "tensor(25.5868, device='cuda:0')\n",
      "tensor(25.6068, device='cuda:0')\n",
      "tensor(25.5965, device='cuda:0')\n",
      "tensor(25.5981, device='cuda:0')\n",
      "tensor(25.6094, device='cuda:0')\n",
      "tensor(25.5986, device='cuda:0')\n",
      "tensor(25.6092, device='cuda:0')\n",
      "tensor(25.6067, device='cuda:0')\n",
      "tensor(25.6023, device='cuda:0')\n",
      "tensor(25.5933, device='cuda:0')\n",
      "tensor(25.5940, device='cuda:0')\n",
      "tensor(25.6014, device='cuda:0')\n",
      "tensor(25.6103, device='cuda:0')\n",
      "tensor(25.6014, device='cuda:0')\n",
      "tensor(25.6021, device='cuda:0')\n",
      "tensor(25.6093, device='cuda:0')\n",
      "tensor(25.6094, device='cuda:0')\n",
      "tensor(25.5940, device='cuda:0')\n",
      "tensor(25.6048, device='cuda:0')\n",
      "tensor(25.5979, device='cuda:0')\n",
      "tensor(25.6062, device='cuda:0')\n",
      "tensor(25.6008, device='cuda:0')\n",
      "tensor(25.6034, device='cuda:0')\n",
      "tensor(25.6060, device='cuda:0')\n",
      "tensor(25.5933, device='cuda:0')\n",
      "tensor(25.6003, device='cuda:0')\n",
      "tensor(25.6100, device='cuda:0')\n",
      "tensor(25.6113, device='cuda:0')\n",
      "tensor(25.5932, device='cuda:0')\n",
      "tensor(25.6107, device='cuda:0')\n",
      "tensor(25.6074, device='cuda:0')\n",
      "tensor(25.6043, device='cuda:0')\n",
      "tensor(25.5978, device='cuda:0')\n",
      "tensor(25.6110, device='cuda:0')\n",
      "tensor(25.6152, device='cuda:0')\n",
      "tensor(25.5987, device='cuda:0')\n",
      "tensor(25.6098, device='cuda:0')\n",
      "tensor(25.6015, device='cuda:0')\n",
      "tensor(25.6056, device='cuda:0')\n",
      "tensor(25.6041, device='cuda:0')\n",
      "tensor(25.6138, device='cuda:0')\n",
      "tensor(25.6099, device='cuda:0')\n",
      "tensor(25.5903, device='cuda:0')\n",
      "tensor(25.5914, device='cuda:0')\n",
      "tensor(25.5991, device='cuda:0')\n",
      "tensor(25.6106, device='cuda:0')\n",
      "tensor(25.6086, device='cuda:0')\n",
      "tensor(25.6003, device='cuda:0')\n",
      "tensor(25.6055, device='cuda:0')\n",
      "tensor(25.5990, device='cuda:0')\n",
      "tensor(25.6112, device='cuda:0')\n",
      "tensor(25.5943, device='cuda:0')\n",
      "tensor(25.6004, device='cuda:0')\n",
      "tensor(25.6165, device='cuda:0')\n",
      "tensor(25.6230, device='cuda:0')\n",
      "tensor(25.6072, device='cuda:0')\n",
      "tensor(25.6155, device='cuda:0')\n",
      "tensor(25.6027, device='cuda:0')\n",
      "tensor(25.6057, device='cuda:0')\n",
      "tensor(25.6020, device='cuda:0')\n",
      "tensor(25.5921, device='cuda:0')\n",
      "tensor(25.6043, device='cuda:0')\n",
      "tensor(25.6095, device='cuda:0')\n",
      "tensor(25.6046, device='cuda:0')\n",
      "tensor(25.5945, device='cuda:0')\n",
      "tensor(25.6008, device='cuda:0')\n",
      "tensor(25.6118, device='cuda:0')\n",
      "tensor(25.6150, device='cuda:0')\n",
      "tensor(25.6088, device='cuda:0')\n",
      "tensor(25.6054, device='cuda:0')\n",
      "tensor(25.6013, device='cuda:0')\n",
      "tensor(25.5989, device='cuda:0')\n",
      "tensor(25.5968, device='cuda:0')\n",
      "tensor(25.5993, device='cuda:0')\n",
      "tensor(25.5986, device='cuda:0')\n",
      "tensor(25.5983, device='cuda:0')\n",
      "tensor(25.5924, device='cuda:0')\n",
      "tensor(25.5967, device='cuda:0')\n",
      "tensor(25.6086, device='cuda:0')\n"
     ]
    }
   ],
   "source": [
    "w = torch.randn(lazy_H.shape[0]).cuda()\n",
    "w /= torch.norm(w)\n",
    "\n",
    "for i in range(100):\n",
    "    w = lazy_H @ w\n",
    "    print(torch.norm(w))\n",
    "    w /= torch.norm(w)\n",
    "    "
   ]
  },
  {
   "cell_type": "markdown",
   "metadata": {},
   "source": [
    "## VR-PCA"
   ]
  },
  {
   "cell_type": "code",
   "execution_count": 13,
   "metadata": {},
   "outputs": [],
   "source": [
    "# float_type = np.float64\n",
    "lazy_H = Hessian(model, loaders[\"train\"], loss=criterion)\n",
    "grads = GradLoader(oja_grad2,[lazy_H])"
   ]
  },
  {
   "cell_type": "code",
   "execution_count": 14,
   "metadata": {},
   "outputs": [],
   "source": [
    "# Setup code for logging\n",
    "logger = LazyLogger(**{'no_print':True, 'minPeriod':0, 'timeFrac':1})\n",
    "logger.i = 0 # annoying but we will add some temporary state to keep track of step\n",
    "# sin_pair = lambda u, w: 1-((u@w)**2 /((w@w)*(u@u)))\n",
    "def log(w, lr, grad):\n",
    "    logger.i+=1\n",
    "    with logger as do_log:\n",
    "        if do_log:\n",
    "            wallclocktime = time.time()\n",
    "            metrics = {}\n",
    "            metrics[r\"$||\\nabla L(w)||$\"] = np.linalg.norm(grad)\n",
    "            if (logger.i - 1) % 1000 == 0:\n",
    "                metrics[\"Rayleigh Quotient\"] = w @ (lazy_H @ w) / (w @ w)\n",
    "                print(logger.i, \":\", metrics[\"Rayleigh Quotient\"])\n",
    "            else:\n",
    "                metrics[\"Rayleigh Quotient\"] = 0\n",
    "#             metrics[r\"$|\\sin^2\\measuredangle(v,w)|$\"] = sin_pair(w,V[:,0])\n",
    "            logger.add_scalars('metrics', metrics, step=logger.i)"
   ]
  },
  {
   "cell_type": "code",
   "execution_count": 33,
   "metadata": {},
   "outputs": [
    {
     "data": {
      "application/vnd.jupyter.widget-view+json": {
       "model_id": "3abc443918144cebb1ec98f32f9fd545",
       "version_major": 2,
       "version_minor": 0
      },
      "text/plain": [
       "HBox(children=(IntProgress(value=0, max=50), HTML(value='')))"
      ]
     },
     "metadata": {},
     "output_type": "display_data"
    },
    {
     "name": "stdout",
     "output_type": "stream",
     "text": [
      "1 : tensor(0.0061, device='cuda:0')\n",
      "2001 : tensor(25.6246, device='cuda:0')\n",
      "3001 : tensor(25.6083, device='cuda:0')\n",
      "4001 : tensor(25.6073, device='cuda:0')\n",
      "5001 : tensor(25.5936, device='cuda:0')\n",
      "6001 : tensor(25.5972, device='cuda:0')\n",
      "7001 : tensor(25.6026, device='cuda:0')\n",
      "8001 : tensor(25.5998, device='cuda:0')\n",
      "9001 : tensor(25.6040, device='cuda:0')\n",
      "10001 : tensor(25.5967, device='cuda:0')\n",
      "11001 : tensor(25.6141, device='cuda:0')\n",
      "12001 : tensor(25.6028, device='cuda:0')\n",
      "13001 : tensor(25.6048, device='cuda:0')\n",
      "14001 : tensor(25.5972, device='cuda:0')\n",
      "15001 : tensor(25.6003, device='cuda:0')\n",
      "16001 : tensor(25.6021, device='cuda:0')\n",
      "17001 : tensor(25.6010, device='cuda:0')\n",
      "18001 : tensor(25.6016, device='cuda:0')\n",
      "19001 : tensor(25.5947, device='cuda:0')\n"
     ]
    }
   ],
   "source": [
    "w0 = torch.randn(lazy_H.shape[0]).cuda()\n",
    "w0 /= torch.norm(w0)\n",
    "lr = lambda e: .01#*cosLr(num_epochs)(e)\n",
    "num_epochs = 50#30\n",
    "logger.scalar_frame=pd.DataFrame()\n",
    "w = SVRG(grads,w0,lr,num_epochs,log)"
   ]
  },
  {
   "cell_type": "code",
   "execution_count": 25,
   "metadata": {},
   "outputs": [
    {
     "data": {
      "text/plain": [
       "dict_keys(['runs/Dec02_21-02-56_nepashka/metrics/$||\\\\nabla L(w)||$', 'runs/Dec02_21-02-56_nepashka/metrics/Rayleigh Quotient'])"
      ]
     },
     "execution_count": 25,
     "metadata": {},
     "output_type": "execute_result"
    }
   ],
   "source": [
    " logger.scalar_dict.keys()"
   ]
  },
  {
   "cell_type": "code",
   "execution_count": 34,
   "metadata": {},
   "outputs": [
    {
     "ename": "NameError",
     "evalue": "name 'float_type' is not defined",
     "output_type": "error",
     "traceback": [
      "\u001b[0;31m---------------------------------------------------------------------------\u001b[0m",
      "\u001b[0;31mNameError\u001b[0m                                 Traceback (most recent call last)",
      "\u001b[0;32m<ipython-input-34-1abc15e93e74>\u001b[0m in \u001b[0;36m<module>\u001b[0;34m\u001b[0m\n\u001b[1;32m      3\u001b[0m \u001b[0mf\u001b[0m \u001b[0;34m=\u001b[0m \u001b[0mplt\u001b[0m\u001b[0;34m.\u001b[0m\u001b[0mfigure\u001b[0m\u001b[0;34m(\u001b[0m\u001b[0;34m)\u001b[0m\u001b[0;34m\u001b[0m\u001b[0m\n\u001b[1;32m      4\u001b[0m \u001b[0mlogger\u001b[0m\u001b[0;34m.\u001b[0m\u001b[0mscalar_frame\u001b[0m\u001b[0;34m.\u001b[0m\u001b[0mplot\u001b[0m\u001b[0;34m(\u001b[0m\u001b[0mlogy\u001b[0m\u001b[0;34m=\u001b[0m\u001b[0;32mTrue\u001b[0m\u001b[0;34m)\u001b[0m\u001b[0;34m\u001b[0m\u001b[0m\n\u001b[0;32m----> 5\u001b[0;31m \u001b[0mplt\u001b[0m\u001b[0;34m.\u001b[0m\u001b[0maxhline\u001b[0m\u001b[0;34m(\u001b[0m\u001b[0my\u001b[0m\u001b[0;34m=\u001b[0m\u001b[0mnp\u001b[0m\u001b[0;34m.\u001b[0m\u001b[0mfinfo\u001b[0m\u001b[0;34m(\u001b[0m\u001b[0mfloat_type\u001b[0m\u001b[0;34m)\u001b[0m\u001b[0;34m.\u001b[0m\u001b[0meps\u001b[0m\u001b[0;34m,\u001b[0m\u001b[0mlabel\u001b[0m \u001b[0;34m=\u001b[0m \u001b[0;34mr\"Machine $\\epsilon$\"\u001b[0m\u001b[0;34m,\u001b[0m\u001b[0mcolor\u001b[0m\u001b[0;34m=\u001b[0m\u001b[0;34m'k'\u001b[0m\u001b[0;34m)\u001b[0m\u001b[0;34m\u001b[0m\u001b[0m\n\u001b[0m\u001b[1;32m      6\u001b[0m \u001b[0mplt\u001b[0m\u001b[0;34m.\u001b[0m\u001b[0mylabel\u001b[0m\u001b[0;34m(\u001b[0m\u001b[0;34m'Relative Error'\u001b[0m\u001b[0;34m)\u001b[0m\u001b[0;34m\u001b[0m\u001b[0m\n\u001b[1;32m      7\u001b[0m \u001b[0mplt\u001b[0m\u001b[0;34m.\u001b[0m\u001b[0mxlabel\u001b[0m\u001b[0;34m(\u001b[0m\u001b[0;34m\"Iterations\"\u001b[0m\u001b[0;34m)\u001b[0m\u001b[0;34m\u001b[0m\u001b[0m\n",
      "\u001b[0;31mNameError\u001b[0m: name 'float_type' is not defined"
     ]
    },
    {
     "data": {
      "text/plain": [
       "<Figure size 432x288 with 0 Axes>"
      ]
     },
     "metadata": {},
     "output_type": "display_data"
    },
    {
     "data": {
      "image/png": "[encoded data removed]",
      "text/plain": [
       "<Figure size 432x288 with 1 Axes>"
      ]
     },
     "metadata": {},
     "output_type": "display_data"
    }
   ],
   "source": [
    "plt.style.use('ggplot')\n",
    "plt.rcParams.update({'font.size': 14})\n",
    "f = plt.figure()\n",
    "logger.scalar_frame.plot(logy=True)\n",
    "plt.axhline(y=np.finfo(float_type).eps,label = r\"Machine $\\epsilon$\",color='k')\n",
    "plt.ylabel('Relative Error')\n",
    "plt.xlabel(\"Iterations\")\n",
    "plt.legend()\n",
    "f.savefig(\"VR_PCA.pdf\", bbox_inches='tight')"
   ]
  },
  {
   "cell_type": "code",
   "execution_count": 27,
   "metadata": {},
   "outputs": [
    {
     "data": {
      "text/plain": [
       "tensor(26.3018, device='cuda:0')"
      ]
     },
     "execution_count": 27,
     "metadata": {},
     "output_type": "execute_result"
    }
   ],
   "source": [
    "w @ (lazy_H @ w) / (w @ w)"
   ]
  },
  {
   "cell_type": "code",
   "execution_count": 28,
   "metadata": {},
   "outputs": [
    {
     "data": {
      "text/plain": [
       "tensor(26.0362, device='cuda:0')"
      ]
     },
     "execution_count": 28,
     "metadata": {},
     "output_type": "execute_result"
    }
   ],
   "source": [
    "w @ w"
   ]
  },
  {
   "cell_type": "markdown",
   "metadata": {},
   "source": [
    "## VR-GPCA"
   ]
  },
  {
   "cell_type": "code",
   "execution_count": 13,
   "metadata": {},
   "outputs": [
    {
     "name": "stderr",
     "output_type": "stream",
     "text": [
      "Exception ignored in: <bound method _DataLoaderIter.__del__ of <torch.utils.data.dataloader._DataLoaderIter object at 0x7fd2c63a8438>>\n",
      "Traceback (most recent call last):\n",
      "  File \"/home/izmailovpavel/.local/lib/python3.5/site-packages/torch/utils/data/dataloader.py\", line 399, in __del__\n",
      "    self._shutdown_workers()\n",
      "  File \"/home/izmailovpavel/.local/lib/python3.5/site-packages/torch/utils/data/dataloader.py\", line 378, in _shutdown_workers\n",
      "    self.worker_result_queue.get()\n",
      "  File \"/usr/lib/python3.5/multiprocessing/queues.py\", line 345, in get\n",
      "    return ForkingPickler.loads(res)\n",
      "  File \"/home/izmailovpavel/.local/lib/python3.5/site-packages/torch/multiprocessing/reductions.py\", line 151, in rebuild_storage_fd\n",
      "    fd = df.detach()\n",
      "  File \"/usr/lib/python3.5/multiprocessing/resource_sharer.py\", line 57, in detach\n",
      "    with _resource_sharer.get_connection(self._id) as conn:\n",
      "  File \"/usr/lib/python3.5/multiprocessing/resource_sharer.py\", line 87, in get_connection\n",
      "    c = Client(address, authkey=process.current_process().authkey)\n",
      "  File \"/usr/lib/python3.5/multiprocessing/connection.py\", line 494, in Client\n",
      "    deliver_challenge(c, authkey)\n",
      "  File \"/usr/lib/python3.5/multiprocessing/connection.py\", line 722, in deliver_challenge\n",
      "    response = connection.recv_bytes(256)        # reject large message\n",
      "  File \"/usr/lib/python3.5/multiprocessing/connection.py\", line 216, in recv_bytes\n",
      "    buf = self._recv_bytes(maxlength)\n",
      "  File \"/usr/lib/python3.5/multiprocessing/connection.py\", line 407, in _recv_bytes\n",
      "    buf = self._recv(4)\n",
      "  File \"/usr/lib/python3.5/multiprocessing/connection.py\", line 379, in _recv\n",
      "    chunk = read(handle, remaining)\n",
      "ConnectionResetError: [Errno 104] Connection reset by peer\n"
     ]
    }
   ],
   "source": [
    "lazy_H = Hessian(model, loaders[\"train\"], loss=criterion)\n",
    "lazy_F = Fisher(model, loaders[\"train\"])\n",
    "grads = GradLoader(SGHA_grad,[lazy_H, lazy_F])"
   ]
  },
  {
   "cell_type": "code",
   "execution_count": 14,
   "metadata": {},
   "outputs": [],
   "source": [
    "# Setup code for logging\n",
    "# logger = LazyLogger(**{'no_print':True, 'minPeriod':0, 'timeFrac':1})\n",
    "logger = LazyLogger(**{'no_print':False, 'minPeriod':0, 'timeFrac':1})\n",
    "logger.i = 0 # annoying but we will add some temporary state to keep track of step\n",
    "def log(w,lr,grad):\n",
    "    logger.i+=1\n",
    "    with logger as do_log:\n",
    "        if do_log:\n",
    "            wallclocktime = time.time()\n",
    "            metrics = {}\n",
    "            metrics[r\"$||\\nabla L(w)||$\"] = np.linalg.norm(grad)\n",
    "            if (logger.i - 1) % 10 == 0:\n",
    "                metrics[\"Rayleigh Quotient\"] = w @ (lazy_H @ w) / (w @ (lazy_F @ w))\n",
    "                print(logger.i, \":\", metrics[\"Rayleigh Quotient\"])\n",
    "            else:\n",
    "                metrics[\"Rayleigh Quotient\"] = 0\n",
    "            logger.add_scalars('metrics',metrics,step=logger.i)"
   ]
  },
  {
   "cell_type": "code",
   "execution_count": 16,
   "metadata": {},
   "outputs": [
    {
     "data": {
      "application/vnd.jupyter.widget-view+json": {
       "model_id": "dda8068a6be940f08399af1db0bf8e94",
       "version_major": 2,
       "version_minor": 0
      },
      "text/plain": [
       "HBox(children=(IntProgress(value=0), HTML(value='')))"
      ]
     },
     "metadata": {},
     "output_type": "display_data"
    },
    {
     "name": "stdout",
     "output_type": "stream",
     "text": [
      "Epoch  0\n",
      "1 : tensor(1.0033, device='cuda:0')\n",
      "Epoch  1\n",
      "681 : tensor(1.0221, device='cuda:0')\n",
      "Epoch  2\n",
      "901 : tensor(1.0297, device='cuda:0')\n",
      "1001 : tensor(1.0338, device='cuda:0')\n",
      "1071 : tensor(1.0359, device='cuda:0')\n",
      "Epoch  3\n",
      "1271 : tensor(1.0458, device='cuda:0')\n",
      "1351 : tensor(1.0491, device='cuda:0')\n",
      "1381 : tensor(1.0506, device='cuda:0')\n",
      "1511 : tensor(1.0574, device='cuda:0')\n",
      "Epoch  4\n",
      "1631 : tensor(1.0646, device='cuda:0')\n",
      "Epoch  5\n",
      "2161 : tensor(1.1014, device='cuda:0')\n",
      "2191 : tensor(1.1026, device='cuda:0')\n",
      "2321 : tensor(1.1143, device='cuda:0')\n",
      "Epoch  6\n",
      "2381 : tensor(1.1200, device='cuda:0')\n",
      "2451 : tensor(1.1265, device='cuda:0')\n",
      "Epoch  7\n",
      "2971 : tensor(1.1921, device='cuda:0')\n",
      "Epoch  8\n",
      "3161 : tensor(1.2215, device='cuda:0')\n",
      "Epoch  9\n",
      "3841 : tensor(1.3639, device='cuda:0')\n",
      "Epoch  10\n",
      "3911 : tensor(1.3843, device='cuda:0')\n",
      "3941 : tensor(1.3916, device='cuda:0')\n",
      "Epoch  11\n",
      "4331 : tensor(1.4949, device='cuda:0')\n",
      "4361 : tensor(1.5044, device='cuda:0')\n",
      "Epoch  12\n",
      "4751 : tensor(1.6106, device='cuda:0')\n",
      "4781 : tensor(1.6211, device='cuda:0')\n",
      "Epoch  13\n",
      "5171 : tensor(1.7315, device='cuda:0')\n",
      "5201 : tensor(1.7367, device='cuda:0')\n",
      "Epoch  14\n",
      "5651 : tensor(1.8693, device='cuda:0')\n",
      "Epoch  15\n",
      "5981 : tensor(1.9717, device='cuda:0')\n",
      "Epoch  16\n",
      "6341 : tensor(2.0851, device='cuda:0')\n",
      "6481 : tensor(2.1295, device='cuda:0')\n",
      "Epoch  17\n",
      "7031 : tensor(2.3110, device='cuda:0')\n",
      "Epoch  18\n",
      "Epoch  19\n",
      "7481 : tensor(2.4696, device='cuda:0')\n",
      "7611 : tensor(2.5134, device='cuda:0')\n",
      "Epoch  20\n",
      "7821 : tensor(2.5857, device='cuda:0')\n",
      "7951 : tensor(2.6380, device='cuda:0')\n",
      "8081 : tensor(2.6824, device='cuda:0')\n",
      "Epoch  21\n",
      "Epoch  22\n",
      "8901 : tensor(2.9964, device='cuda:0')\n",
      "Epoch  23\n",
      "9091 : tensor(3.0743, device='cuda:0')\n",
      "9141 : tensor(3.1026, device='cuda:0')\n",
      "9191 : tensor(3.1126, device='cuda:0')\n",
      "Epoch  24\n",
      "Epoch  25\n",
      "9991 : tensor(3.4527, device='cuda:0')\n",
      "10111 : tensor(3.5020, device='cuda:0')\n",
      "Epoch  26\n",
      "10191 : tensor(3.5428, device='cuda:0')\n",
      "Epoch  27\n",
      "10721 : tensor(3.7725, device='cuda:0')\n",
      "10911 : tensor(3.8698, device='cuda:0')\n",
      "Epoch  28\n",
      "11021 : tensor(3.9205, device='cuda:0')\n",
      "11281 : tensor(4.0394, device='cuda:0')\n",
      "Epoch  29\n",
      "11551 : tensor(4.1753, device='cuda:0')\n",
      "Epoch  30\n",
      "11731 : tensor(4.2630, device='cuda:0')\n",
      "11801 : tensor(4.3000, device='cuda:0')\n",
      "11921 : tensor(4.3564, device='cuda:0')\n",
      "12041 : tensor(4.4214, device='cuda:0')\n",
      "Epoch  31\n",
      "Epoch  32\n",
      "12651 : tensor(4.7402, device='cuda:0')\n",
      "12841 : tensor(4.8507, device='cuda:0')\n",
      "Epoch  33\n",
      "13111 : tensor(4.9972, device='cuda:0')\n",
      "13181 : tensor(5.0345, device='cuda:0')\n",
      "Epoch  34\n",
      "13411 : tensor(5.1698, device='cuda:0')\n",
      "13531 : tensor(5.2317, device='cuda:0')\n",
      "13651 : tensor(5.2958, device='cuda:0')\n",
      "Epoch  35\n",
      "13971 : tensor(5.4860, device='cuda:0')\n",
      "Epoch  36\n",
      "14101 : tensor(5.5530, device='cuda:0')\n",
      "14221 : tensor(5.6347, device='cuda:0')\n",
      "14341 : tensor(5.7067, device='cuda:0')\n",
      "14461 : tensor(5.7800, device='cuda:0')\n",
      "Epoch  37\n",
      "Epoch  38\n",
      "14931 : tensor(6.0728, device='cuda:0')\n",
      "Epoch  39\n",
      "15411 : tensor(6.3814, device='cuda:0')\n",
      "15481 : tensor(6.4352, device='cuda:0')\n",
      "Epoch  40\n",
      "15641 : tensor(6.5417, device='cuda:0')\n",
      "15781 : tensor(6.6224, device='cuda:0')\n",
      "15901 : tensor(6.7180, device='cuda:0')\n",
      "16021 : tensor(6.7989, device='cuda:0')\n",
      "Epoch  41\n",
      "Epoch  42\n",
      "16561 : tensor(7.1833, device='cuda:0')\n",
      "16631 : tensor(7.2247, device='cuda:0')\n",
      "16701 : tensor(7.2735, device='cuda:0')\n",
      "Epoch  43\n",
      "16981 : tensor(7.4742, device='cuda:0')\n",
      "17101 : tensor(7.5608, device='cuda:0')\n",
      "Epoch  44\n",
      "17301 : tensor(7.7125, device='cuda:0')\n",
      "17421 : tensor(7.8010, device='cuda:0')\n",
      "17541 : tensor(7.8943, device='cuda:0')\n",
      "Epoch  45\n",
      "Epoch  46\n",
      "18241 : tensor(8.4398, device='cuda:0')\n",
      "18311 : tensor(8.4872, device='cuda:0')\n",
      "Epoch  47\n",
      "18401 : tensor(8.5786, device='cuda:0')\n",
      "18521 : tensor(8.6588, device='cuda:0')\n",
      "18641 : tensor(8.7486, device='cuda:0')\n",
      "18761 : tensor(8.8515, device='cuda:0')\n",
      "Epoch  48\n",
      "18841 : tensor(8.9284, device='cuda:0')\n",
      "18961 : tensor(9.0228, device='cuda:0')\n",
      "19081 : tensor(9.1075, device='cuda:0')\n",
      "Epoch  49\n",
      "Epoch  50\n",
      "19551 : tensor(9.5280, device='cuda:0')\n",
      "19671 : tensor(9.6177, device='cuda:0')\n",
      "Epoch  51\n",
      "Epoch  52\n",
      "20451 : tensor(10.3243, device='cuda:0')\n",
      "20571 : tensor(10.4414, device='cuda:0')\n",
      "20691 : tensor(10.5597, device='cuda:0')\n",
      "Epoch  53\n",
      "21101 : tensor(10.9045, device='cuda:0')\n",
      "Epoch  54\n",
      "21211 : tensor(11.0114, device='cuda:0')\n",
      "21471 : tensor(11.2786, device='cuda:0')\n",
      "Epoch  55\n",
      "21881 : tensor(11.6455, device='cuda:0')\n",
      "Epoch  56\n",
      "21921 : tensor(11.7020, device='cuda:0')\n",
      "22201 : tensor(11.9702, device='cuda:0')\n",
      "22271 : tensor(12.0598, device='cuda:0')\n",
      "Epoch  57\n",
      "22431 : tensor(12.2190, device='cuda:0')\n",
      "Epoch  58\n",
      "22771 : tensor(12.5516, device='cuda:0')\n",
      "22841 : tensor(12.6219, device='cuda:0')\n",
      "22961 : tensor(12.7461, device='cuda:0')\n",
      "Epoch  59\n",
      "Epoch  60\n",
      "23461 : tensor(13.2770, device='cuda:0')\n",
      "23601 : tensor(13.4580, device='cuda:0')\n",
      "Epoch  61\n",
      "23921 : tensor(13.7771, device='cuda:0')\n",
      "24151 : tensor(14.0164, device='cuda:0')\n",
      "24221 : tensor(14.0813, device='cuda:0')\n",
      "Epoch  62\n",
      "24381 : tensor(14.2810, device='cuda:0')\n",
      "24451 : tensor(14.3502, device='cuda:0')\n",
      "Epoch  63\n",
      "24821 : tensor(14.8129, device='cuda:0')\n",
      "24961 : tensor(14.9478, device='cuda:0')\n",
      "Epoch  64\n",
      "25191 : tensor(15.1811, device='cuda:0')\n",
      "Epoch  65\n",
      "25531 : tensor(15.5078, device='cuda:0')\n",
      "25761 : tensor(15.6020, device='cuda:0')\n",
      "Epoch  66\n",
      "25831 : tensor(15.6479, device='cuda:0')\n",
      "25901 : tensor(15.6690, device='cuda:0')\n",
      "26091 : tensor(15.7596, device='cuda:0')\n",
      "Epoch  67\n",
      "26341 : tensor(15.8974, device='cuda:0')\n",
      "26461 : tensor(15.9828, device='cuda:0')\n",
      "26581 : tensor(15.9959, device='cuda:0')\n",
      "Epoch  68\n",
      "26661 : tensor(16.0481, device='cuda:0')\n",
      "26781 : tensor(16.0908, device='cuda:0')\n",
      "26901 : tensor(16.1364, device='cuda:0')\n",
      "Epoch  69\n",
      "Epoch  70\n",
      "27371 : tensor(16.3645, device='cuda:0')\n",
      "27441 : tensor(16.4120, device='cuda:0')\n",
      "27561 : tensor(16.4625, device='cuda:0')\n",
      "27681 : tensor(16.4949, device='cuda:0')\n",
      "Epoch  71\n",
      "Epoch  72\n",
      "28201 : tensor(16.7761, device='cuda:0')\n",
      "28321 : tensor(16.8669, device='cuda:0')\n",
      "28441 : tensor(16.9018, device='cuda:0')\n",
      "Epoch  73\n",
      "Epoch  74\n",
      "29031 : tensor(17.1868, device='cuda:0')\n",
      "29101 : tensor(17.1927, device='cuda:0')\n",
      "29221 : tensor(17.2628, device='cuda:0')\n",
      "Epoch  75\n",
      "Epoch  76\n",
      "30041 : tensor(17.7133, device='cuda:0')\n",
      "Epoch  77\n",
      "30131 : tensor(17.7248, device='cuda:0')\n",
      "30461 : tensor(17.8917, device='cuda:0')\n",
      "Epoch  78\n",
      "30591 : tensor(17.9482, device='cuda:0')\n",
      "30821 : tensor(18.0958, device='cuda:0')\n",
      "Epoch  79\n",
      "31031 : tensor(18.1847, device='cuda:0')\n",
      "31171 : tensor(18.2504, device='cuda:0')\n",
      "Epoch  80\n",
      "31281 : tensor(18.3046, device='cuda:0')\n",
      "31491 : tensor(18.4247, device='cuda:0')\n",
      "Epoch  81\n",
      "31881 : tensor(18.6194, device='cuda:0')\n",
      "Epoch  82\n",
      "32201 : tensor(18.7948, device='cuda:0')\n",
      "32431 : tensor(18.9242, device='cuda:0')\n",
      "Epoch  83\n",
      "32661 : tensor(19.0582, device='cuda:0')\n",
      "Epoch  84\n",
      "32891 : tensor(19.1600, device='cuda:0')\n",
      "33121 : tensor(19.2615, device='cuda:0')\n",
      "Epoch  85\n",
      "33351 : tensor(19.4405, device='cuda:0')\n",
      "33581 : tensor(19.5067, device='cuda:0')\n",
      "Epoch  86\n",
      "33811 : tensor(19.6281, device='cuda:0')\n",
      "Epoch  87\n",
      "34041 : tensor(19.7734, device='cuda:0')\n",
      "34271 : tensor(19.8920, device='cuda:0')\n",
      "Epoch  88\n",
      "34501 : tensor(20.0051, device='cuda:0')\n",
      "34731 : tensor(20.1379, device='cuda:0')\n",
      "Epoch  89\n",
      "34961 : tensor(20.2902, device='cuda:0')\n",
      "Epoch  90\n",
      "35191 : tensor(20.3369, device='cuda:0')\n",
      "35421 : tensor(20.5225, device='cuda:0')\n",
      "Epoch  91\n",
      "35651 : tensor(20.6230, device='cuda:0')\n",
      "35881 : tensor(20.7537, device='cuda:0')\n",
      "Epoch  92\n",
      "36111 : tensor(20.8847, device='cuda:0')\n",
      "36341 : tensor(21.0315, device='cuda:0')\n",
      "Epoch  93\n",
      "36571 : tensor(21.1543, device='cuda:0')\n",
      "Epoch  94\n",
      "36801 : tensor(21.2028, device='cuda:0')\n",
      "37031 : tensor(21.4177, device='cuda:0')\n",
      "Epoch  95\n",
      "37261 : tensor(21.5263, device='cuda:0')\n",
      "37491 : tensor(21.7208, device='cuda:0')\n",
      "Epoch  96\n",
      "37721 : tensor(21.7999, device='cuda:0')\n",
      "Epoch  97\n",
      "37951 : tensor(21.9128, device='cuda:0')\n",
      "38181 : tensor(22.1060, device='cuda:0')\n",
      "Epoch  98\n",
      "38411 : tensor(22.1853, device='cuda:0')\n",
      "38641 : tensor(22.3193, device='cuda:0')\n",
      "Epoch  99\n",
      "38871 : tensor(22.5019, device='cuda:0')\n",
      "\n"
     ]
    }
   ],
   "source": [
    "w0 = torch.randn(lazy_H.shape[0]).cuda()\n",
    "w0 /= torch.norm(w0)\n",
    "lr = lambda e: .0025 if e < 65 else 0.001#*cosLr(num_epochs)(e)\n",
    "num_epochs = 100\n",
    "logger.scalar_frame=pd.DataFrame()\n",
    "w = SVRG(grads,w0,lr,num_epochs,log)"
   ]
  },
  {
   "cell_type": "code",
   "execution_count": 17,
   "metadata": {},
   "outputs": [
    {
     "ename": "NameError",
     "evalue": "name 'float_type' is not defined",
     "output_type": "error",
     "traceback": [
      "\u001b[0;31m---------------------------------------------------------------------------\u001b[0m",
      "\u001b[0;31mNameError\u001b[0m                                 Traceback (most recent call last)",
      "\u001b[0;32m<ipython-input-17-388f29b584e8>\u001b[0m in \u001b[0;36m<module>\u001b[0;34m\u001b[0m\n\u001b[1;32m      3\u001b[0m \u001b[0mf\u001b[0m \u001b[0;34m=\u001b[0m \u001b[0mplt\u001b[0m\u001b[0;34m.\u001b[0m\u001b[0mfigure\u001b[0m\u001b[0;34m(\u001b[0m\u001b[0;34m)\u001b[0m\u001b[0;34m\u001b[0m\u001b[0m\n\u001b[1;32m      4\u001b[0m \u001b[0mlogger\u001b[0m\u001b[0;34m.\u001b[0m\u001b[0mscalar_frame\u001b[0m\u001b[0;34m.\u001b[0m\u001b[0mplot\u001b[0m\u001b[0;34m(\u001b[0m\u001b[0mlogy\u001b[0m\u001b[0;34m=\u001b[0m\u001b[0;32mTrue\u001b[0m\u001b[0;34m)\u001b[0m\u001b[0;34m\u001b[0m\u001b[0m\n\u001b[0;32m----> 5\u001b[0;31m \u001b[0mplt\u001b[0m\u001b[0;34m.\u001b[0m\u001b[0maxhline\u001b[0m\u001b[0;34m(\u001b[0m\u001b[0my\u001b[0m\u001b[0;34m=\u001b[0m\u001b[0mnp\u001b[0m\u001b[0;34m.\u001b[0m\u001b[0mfinfo\u001b[0m\u001b[0;34m(\u001b[0m\u001b[0mfloat_type\u001b[0m\u001b[0;34m)\u001b[0m\u001b[0;34m.\u001b[0m\u001b[0meps\u001b[0m\u001b[0;34m,\u001b[0m\u001b[0mlabel\u001b[0m \u001b[0;34m=\u001b[0m \u001b[0;34mr\"Machine $\\epsilon$\"\u001b[0m\u001b[0;34m,\u001b[0m\u001b[0mcolor\u001b[0m\u001b[0;34m=\u001b[0m\u001b[0;34m'k'\u001b[0m\u001b[0;34m)\u001b[0m\u001b[0;34m\u001b[0m\u001b[0m\n\u001b[0m\u001b[1;32m      6\u001b[0m \u001b[0mplt\u001b[0m\u001b[0;34m.\u001b[0m\u001b[0mylabel\u001b[0m\u001b[0;34m(\u001b[0m\u001b[0;34m'Relative Error'\u001b[0m\u001b[0;34m)\u001b[0m\u001b[0;34m\u001b[0m\u001b[0m\n\u001b[1;32m      7\u001b[0m \u001b[0mplt\u001b[0m\u001b[0;34m.\u001b[0m\u001b[0mxlabel\u001b[0m\u001b[0;34m(\u001b[0m\u001b[0;34m\"Iterations\"\u001b[0m\u001b[0;34m)\u001b[0m\u001b[0;34m\u001b[0m\u001b[0m\n",
      "\u001b[0;31mNameError\u001b[0m: name 'float_type' is not defined"
     ]
    },
    {
     "data": {
      "text/plain": [
       "<Figure size 432x288 with 0 Axes>"
      ]
     },
     "metadata": {},
     "output_type": "display_data"
    },
    {
     "data": {
      "image/png": "[encoded data removed]",
      "text/plain": [
       "<Figure size 432x288 with 1 Axes>"
      ]
     },
     "metadata": {},
     "output_type": "display_data"
    }
   ],
   "source": [
    "plt.style.use('ggplot')\n",
    "plt.rcParams.update({'font.size': 14})\n",
    "f = plt.figure()\n",
    "logger.scalar_frame.plot(logy=True)\n",
    "plt.axhline(y=np.finfo(float_type).eps,label = r\"Machine $\\epsilon$\",color='k')\n",
    "plt.ylabel('Relative Error')\n",
    "plt.xlabel(\"Iterations\")\n",
    "plt.legend()\n",
    "f.savefig(\"VR_GPCA.pdf\", bbox_inches='tight')"
   ]
  },
  {
   "cell_type": "code",
   "execution_count": null,
   "metadata": {},
   "outputs": [],
   "source": [
    "len(logger.scalar_frame)"
   ]
  },
  {
   "cell_type": "markdown",
   "metadata": {},
   "source": [
    "## Block VR-PCA (k=10)"
   ]
  },
  {
   "cell_type": "code",
   "execution_count": 31,
   "metadata": {},
   "outputs": [],
   "source": [
    "n=10**5; rank = 100; float_type = np.float64\n",
    "X,V,A_full = PCA_dataset(n,rank,float_type)\n",
    "k = 10 # block size\n",
    "# Create a Lazy Average from iterable of minibatches\n",
    "A = LazyAvg(cov_gen(X))\n",
    "grads = GradLoader(oja_subspace_grad,[A])"
   ]
  },
  {
   "cell_type": "code",
   "execution_count": 32,
   "metadata": {},
   "outputs": [],
   "source": [
    "# Setup code for logging\n",
    "logger = LazyLogger(**{'no_print':True, 'minPeriod':0, 'timeFrac':1})\n",
    "logger.i = 0 # annoying but we will add some temporary state to keep track of step\n",
    "VVT = V[:,:k]@V[:,:k].T\n",
    "def log(W,lr,grad):\n",
    "    logger.i+=1\n",
    "    with logger as do_log:\n",
    "        if do_log:\n",
    "            wallclocktime = time.time()\n",
    "            metrics = {}\n",
    "            metrics[r\"$||\\nabla L(W)||_F$\"] = np.linalg.norm(grad,ord='fro')\n",
    "            metrics[r\"$||VV^T - WW^T||_F$\"] = np.linalg.norm(VVT - W@W.T,ord='fro')\n",
    "            logger.add_scalars('metrics',metrics,step=logger.i)"
   ]
  },
  {
   "cell_type": "code",
   "execution_count": 33,
   "metadata": {},
   "outputs": [
    {
     "data": {
      "application/vnd.jupyter.widget-view+json": {
       "model_id": "a4863c3afca443139eaf656a2892b862",
       "version_major": 2,
       "version_minor": 0
      },
      "text/plain": [
       "HBox(children=(IntProgress(value=0, max=150), HTML(value='')))"
      ]
     },
     "metadata": {},
     "output_type": "display_data"
    },
    {
     "name": "stdout",
     "output_type": "stream",
     "text": [
      "\n"
     ]
    }
   ],
   "source": [
    "W0 = np.random.randn(rank,k).astype(float_type)\n",
    "W0, _ =  np.linalg.qr(W0) #orthogonalize the matrix\n",
    "lr = lambda e: .1#*cosLr(num_epochs)(e)\n",
    "num_epochs = 150\n",
    "W = SVRG(grads,W0,lr,num_epochs,log)"
   ]
  },
  {
   "cell_type": "code",
   "execution_count": 34,
   "metadata": {},
   "outputs": [
    {
     "data": {
      "text/plain": [
       "<Figure size 432x288 with 0 Axes>"
      ]
     },
     "metadata": {},
     "output_type": "display_data"
    },
    {
     "data": {
      "image/png": "[encoded data removed]",
      "text/plain": [
       "<Figure size 432x288 with 1 Axes>"
      ]
     },
     "metadata": {},
     "output_type": "display_data"
    }
   ],
   "source": [
    "plt.style.use('ggplot')\n",
    "plt.rcParams.update({'font.size': 14})\n",
    "f = plt.figure()\n",
    "logger.scalar_frame.plot(logy=True)\n",
    "plt.axhline(y=np.finfo(float_type).eps,label = r\"Machine $\\epsilon$\",color='k')\n",
    "plt.ylabel('Relative Error')\n",
    "plt.xlabel(\"Iterations\")\n",
    "plt.legend()\n",
    "f.savefig(\"VR_GPCA_subspace.pdf\", bbox_inches='tight')"
   ]
  },
  {
   "cell_type": "markdown",
   "metadata": {},
   "source": [
    "## Block VR-GPCA (k=10)"
   ]
  },
  {
   "cell_type": "code",
   "execution_count": 17,
   "metadata": {},
   "outputs": [
    {
     "ename": "AttributeError",
     "evalue": "'numpy.ndarray' object has no attribute 'sqrt'",
     "output_type": "error",
     "traceback": [
      "\u001b[0;31m---------------------------------------------------------------------------\u001b[0m",
      "\u001b[0;31mAttributeError\u001b[0m                            Traceback (most recent call last)",
      "\u001b[0;32m<ipython-input-17-6effe44635f9>\u001b[0m in \u001b[0;36m<module>\u001b[0;34m\u001b[0m\n\u001b[1;32m      1\u001b[0m \u001b[0;32mimport\u001b[0m \u001b[0mnumpy\u001b[0m \u001b[0;32mas\u001b[0m \u001b[0mnp\u001b[0m\u001b[0;34m\u001b[0m\u001b[0m\n\u001b[1;32m      2\u001b[0m \u001b[0;32mimport\u001b[0m \u001b[0mtorch\u001b[0m\u001b[0;34m\u001b[0m\u001b[0m\n\u001b[0;32m----> 3\u001b[0;31m \u001b[0mnp\u001b[0m\u001b[0;34m.\u001b[0m\u001b[0mrandom\u001b[0m\u001b[0;34m.\u001b[0m\u001b[0mrand\u001b[0m\u001b[0;34m(\u001b[0m\u001b[0;36m10\u001b[0m\u001b[0;34m,\u001b[0m\u001b[0;36m5\u001b[0m\u001b[0;34m)\u001b[0m\u001b[0;34m.\u001b[0m\u001b[0msqrt\u001b[0m\u001b[0;34m(\u001b[0m\u001b[0;34m)\u001b[0m\u001b[0;34m\u001b[0m\u001b[0m\n\u001b[0m",
      "\u001b[0;31mAttributeError\u001b[0m: 'numpy.ndarray' object has no attribute 'sqrt'"
     ]
    }
   ],
   "source": [
    "import numpy as np\n",
    "import torch\n",
    "np.random.rand(10,5).sqrt()"
   ]
  },
  {
   "cell_type": "code",
   "execution_count": 25,
   "metadata": {},
   "outputs": [
    {
     "data": {
      "text/plain": [
       "tensor(1.2981, device='cuda:0')"
      ]
     },
     "execution_count": 25,
     "metadata": {},
     "output_type": "execute_result"
    }
   ],
   "source": [
    "torch.sqrt(torch.rand(10).cuda()@torch.rand(10).cuda())"
   ]
  },
  {
   "cell_type": "code",
   "execution_count": 15,
   "metadata": {},
   "outputs": [
    {
     "ename": "TypeError",
     "evalue": "normal(): argument 'mean' (position 1) must be Tensor, not int",
     "output_type": "error",
     "traceback": [
      "\u001b[0;31m---------------------------------------------------------------------------\u001b[0m",
      "\u001b[0;31mTypeError\u001b[0m                                 Traceback (most recent call last)",
      "\u001b[0;32m<ipython-input-15-272210ea4ef9>\u001b[0m in \u001b[0;36m<module>\u001b[0;34m\u001b[0m\n\u001b[0;32m----> 1\u001b[0;31m \u001b[0mtorch\u001b[0m\u001b[0;34m.\u001b[0m\u001b[0mnormal\u001b[0m\u001b[0;34m(\u001b[0m\u001b[0;36m10\u001b[0m\u001b[0;34m)\u001b[0m\u001b[0;34m\u001b[0m\u001b[0m\n\u001b[0m",
      "\u001b[0;31mTypeError\u001b[0m: normal(): argument 'mean' (position 1) must be Tensor, not int"
     ]
    }
   ],
   "source": [
    "torch.normal(10)"
   ]
  },
  {
   "cell_type": "code",
   "execution_count": 20,
   "metadata": {},
   "outputs": [
    {
     "data": {
      "text/plain": [
       "2.2786547960468644"
      ]
     },
     "execution_count": 20,
     "metadata": {},
     "output_type": "execute_result"
    }
   ],
   "source": [
    "np.sqrt(np.random.rand(10)@np.ones(10))"
   ]
  },
  {
   "cell_type": "code",
   "execution_count": 27,
   "metadata": {},
   "outputs": [
    {
     "name": "stdout",
     "output_type": "stream",
     "text": [
      "0\n",
      "1\n",
      "2\n"
     ]
    }
   ],
   "source": [
    "for i in range(10):\n",
    "    print(i)\n",
    "    if i==2: break"
   ]
  },
  {
   "cell_type": "code",
   "execution_count": null,
   "metadata": {},
   "outputs": [],
   "source": []
  }
 ],
 "metadata": {
  "kernelspec": {
   "display_name": "Python 3",
   "language": "python",
   "name": "python3"
  },
  "language_info": {
   "codemirror_mode": {
    "name": "ipython",
    "version": 3
   },
   "file_extension": ".py",
   "mimetype": "text/x-python",
   "name": "python",
   "nbconvert_exporter": "python",
   "pygments_lexer": "ipython3",
   "version": "3.5.2"
  }
 },
 "nbformat": 4,
 "nbformat_minor": 2
}
