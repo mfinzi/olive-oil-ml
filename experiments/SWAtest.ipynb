{
 "cells": [
  {
   "cell_type": "code",
   "execution_count": 1,
   "metadata": {},
   "outputs": [],
   "source": [
    "import numpy as np\n",
    "import torch, torchvision\n",
    "import torch.optim as optim\n",
    "\n",
    "from bgan.cnnTrainer import CnnTrainer\n",
    "from bgan.networkparts import layer13\n",
    "import bgan.augLayers as augLayers\n",
    "from bgan.schedules import cosLr, sigmoidConsRamp\n",
    "from bgan.datasets import CIFAR10\n",
    "\n",
    "%matplotlib inline\n",
    "%load_ext autoreload\n",
    "%autoreload 2"
   ]
  },
  {
   "cell_type": "code",
   "execution_count": 2,
   "metadata": {},
   "outputs": [
    {
     "name": "stdout",
     "output_type": "stream",
     "text": [
      "Files already downloaded and verified\n",
      "Files already downloaded and verified\n"
     ]
    }
   ],
   "source": [
    "total_epochs = 1000\n",
    "\n",
    "opt_constr = lambda params, base_lr: optim.SGD(params, base_lr, .9, weight_decay=1e-4, nesterov=True)\n",
    "lr_lambda = cosLr(total_epochs, 1)\n",
    "\n",
    "savedir = '/home/maf388/tb-experiments/swaTest/'\n",
    "config = {'base_lr':.1, 'amntLab':4000, \n",
    "          'lab_BS':50, 'ul_BS':50, 'num_workers':2,\n",
    "          'lr_lambda':lr_lambda, 'opt_constr':opt_constr\n",
    "          }\n",
    "\n",
    "datasets = CIFAR10()\n",
    "CNN = layer13(numClasses=10)"
   ]
  },
  {
   "cell_type": "code",
   "execution_count": 3,
   "metadata": {},
   "outputs": [],
   "source": [
    "load_path = '/home/maf388/tb-experiments/rejectCnn/checkpoints/c.999.ckpt'"
   ]
  },
  {
   "cell_type": "code",
   "execution_count": 8,
   "metadata": {},
   "outputs": [
    {
     "name": "stdout",
     "output_type": "stream",
     "text": [
      "=> loading checkpoint '/home/maf388/tb-experiments/rejectCnn/checkpoints/c.999.ckpt'\n"
     ]
    }
   ],
   "source": [
    "trainer = CnnTrainer(CNN,datasets,savedir,load_path,**config)"
   ]
  },
  {
   "cell_type": "code",
   "execution_count": 9,
   "metadata": {},
   "outputs": [
    {
     "name": "stdout",
     "output_type": "stream",
     "text": [
      "[1000/1100][ 80000/88000] SWA_Val_Acc: 0.823 Val_Acc: 0.823 Train_Acc(Batch): 0.900 \n",
      "[1025/1125][ 82000/90000] SWA_Val_Acc: 0.839 Val_Acc: 0.803 Train_Acc(Batch): 0.940 \n",
      "[1050/1150][ 84000/92000] SWA_Val_Acc: 0.843 Val_Acc: 0.802 Train_Acc(Batch): 0.960 \n",
      "[1075/1175][ 86000/94000] SWA_Val_Acc: 0.843 Val_Acc: 0.791 Train_Acc(Batch): 0.900 \n"
     ]
    }
   ],
   "source": [
    "trainer.constSWA(100,1e-3)"
   ]
  },
  {
   "cell_type": "code",
   "execution_count": 10,
   "metadata": {},
   "outputs": [
    {
     "name": "stdout",
     "output_type": "stream",
     "text": [
      "[1100/1199][ 88000/95920] SWA_Val_Acc: 0.843 Val_Acc: 0.756 Train_Acc(Batch): 0.920 \n",
      "[1125/1199][ 90000/95920] SWA_Val_Acc: 0.844 Val_Acc: 0.764 Train_Acc(Batch): 0.940 \n",
      "[1150/1199][ 92000/95920] SWA_Val_Acc: 0.842 Val_Acc: 0.773 Train_Acc(Batch): 0.920 \n",
      "[1175/1199][ 94000/95920] SWA_Val_Acc: 0.847 Val_Acc: 0.795 Train_Acc(Batch): 1.000 \n"
     ]
    }
   ],
   "source": [
    "trainer.constSWA(100,1e-3)"
   ]
  },
  {
   "cell_type": "code",
   "execution_count": null,
   "metadata": {},
   "outputs": [],
   "source": []
  }
 ],
 "metadata": {
  "kernelspec": {
   "display_name": "Python 3",
   "language": "python",
   "name": "python3"
  },
  "language_info": {
   "codemirror_mode": {
    "name": "ipython",
    "version": 3
   },
   "file_extension": ".py",
   "mimetype": "text/x-python",
   "name": "python",
   "nbconvert_exporter": "python",
   "pygments_lexer": "ipython3",
   "version": "3.5.4"
  }
 },
 "nbformat": 4,
 "nbformat_minor": 2
}
