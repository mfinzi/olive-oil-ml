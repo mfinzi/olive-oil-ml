{
 "cells": [
  {
   "cell_type": "code",
   "execution_count": 1,
   "metadata": {},
   "outputs": [],
   "source": [
    "import numpy as np\n",
    "import torch, torchvision\n",
    "import torch.optim as optim\n",
    "import torch.nn as nn\n",
    "\n",
    "from oil.cnnTrainer import CnnTrainer\n",
    "from oil.networkparts import layer13\n",
    "import oil.augLayers as augLayers\n",
    "from oil.schedules import cosLr, sigmoidConsRamp\n",
    "from oil.datasets import CIFAR10, C10augLayers\n",
    "\n",
    "%matplotlib inline\n",
    "%load_ext autoreload\n",
    "%autoreload 2"
   ]
  },
  {
   "cell_type": "code",
   "execution_count": 2,
   "metadata": {},
   "outputs": [
    {
     "name": "stdout",
     "output_type": "stream",
     "text": [
      "Files already downloaded and verified\n",
      "Files already downloaded and verified\n"
     ]
    }
   ],
   "source": [
    "total_epochs = 250\n",
    "\n",
    "opt_constr = lambda params, base_lr: optim.SGD(params, base_lr, .9, weight_decay=1e-4, nesterov=True)\n",
    "lr_lambda = cosLr(total_epochs, 1)\n",
    "\n",
    "savedir = '/home/maf388/tb-experiments/layer13dev/'\n",
    "config = {'base_lr':.1, 'amntLab':1, 'amntDev':5000,\n",
    "          'lab_BS':50, 'ul_BS':50, 'num_workers':2,\n",
    "          'lr_lambda':lr_lambda, 'opt_constr':opt_constr\n",
    "          }\n",
    "\n",
    "datasets = CIFAR10(aug=False)\n",
    "CNN = layer13(numClasses=10)\n",
    "fullCNN = nn.Sequential(C10augLayers(),CNN)"
   ]
  },
  {
   "cell_type": "code",
   "execution_count": 3,
   "metadata": {},
   "outputs": [],
   "source": [
    "load_path = '/home/maf388/tb-experiments/layer13dev/checkpoints/c.249.ckpt'"
   ]
  },
  {
   "cell_type": "code",
   "execution_count": 4,
   "metadata": {},
   "outputs": [
    {
     "name": "stdout",
     "output_type": "stream",
     "text": [
      "Creating Train, Dev split         with 45000 Train and 5000 Dev\n",
      "=> loading checkpoint '/home/maf388/tb-experiments/layer13dev/checkpoints/c.249.ckpt'\n"
     ]
    }
   ],
   "source": [
    "trainer = CnnTrainer(fullCNN,datasets,savedir,load_path,**config)"
   ]
  },
  {
   "cell_type": "code",
   "execution_count": 5,
   "metadata": {},
   "outputs": [
    {
     "name": "stdout",
     "output_type": "stream",
     "text": [
      "[251/351][226000/315900] Test_Acc: 0.941 SWA_Dev_Acc: 0.945 Train_Acc(Batch): 1.000 SWA_Test_Acc: 0.941 Dev_Acc: 0.945 \n",
      "[253/351][228000/315900] Test_Acc: 0.934 SWA_Dev_Acc: 0.942 Train_Acc(Batch): 1.000 SWA_Test_Acc: 0.934 Dev_Acc: 0.942 \n",
      "[255/351][230000/315900] Test_Acc: 0.939 SWA_Dev_Acc: 0.943 Train_Acc(Batch): 1.000 SWA_Test_Acc: 0.939 Dev_Acc: 0.943 \n",
      "[257/351][232000/315900] Test_Acc: 0.940 SWA_Dev_Acc: 0.945 Train_Acc(Batch): 1.000 SWA_Test_Acc: 0.940 Dev_Acc: 0.945 \n",
      "[260/351][234000/315900] Test_Acc: 0.943 SWA_Dev_Acc: 0.946 Train_Acc(Batch): 1.000 SWA_Test_Acc: 0.943 Dev_Acc: 0.946 \n",
      "[262/351][236000/315900] Test_Acc: 0.887 SWA_Dev_Acc: 0.946 Train_Acc(Batch): 0.920 SWA_Test_Acc: 0.944 Dev_Acc: 0.899 \n",
      "[264/351][238000/315900] Test_Acc: 0.917 SWA_Dev_Acc: 0.947 Train_Acc(Batch): 0.980 SWA_Test_Acc: 0.942 Dev_Acc: 0.920 \n",
      "[266/351][240000/315900] Test_Acc: 0.928 SWA_Dev_Acc: 0.945 Train_Acc(Batch): 0.980 SWA_Test_Acc: 0.942 Dev_Acc: 0.933 \n",
      "[268/351][242000/315900] Test_Acc: 0.933 SWA_Dev_Acc: 0.947 Train_Acc(Batch): 1.000 SWA_Test_Acc: 0.943 Dev_Acc: 0.941 \n",
      "[271/351][244000/315900] Test_Acc: 0.924 SWA_Dev_Acc: 0.949 Train_Acc(Batch): 0.980 SWA_Test_Acc: 0.946 Dev_Acc: 0.928 \n",
      "[273/351][246000/315900] Test_Acc: 0.908 SWA_Dev_Acc: 0.950 Train_Acc(Batch): 0.940 SWA_Test_Acc: 0.947 Dev_Acc: 0.913 \n",
      "[275/351][248000/315900] Test_Acc: 0.909 SWA_Dev_Acc: 0.946 Train_Acc(Batch): 0.980 SWA_Test_Acc: 0.944 Dev_Acc: 0.914 \n",
      "[277/351][250000/315900] Test_Acc: 0.938 SWA_Dev_Acc: 0.949 Train_Acc(Batch): 1.000 SWA_Test_Acc: 0.947 Dev_Acc: 0.939 \n",
      "[280/351][252000/315900] Test_Acc: 0.936 SWA_Dev_Acc: 0.949 Train_Acc(Batch): 1.000 SWA_Test_Acc: 0.946 Dev_Acc: 0.938 \n",
      "[282/351][254000/315900] Test_Acc: 0.890 SWA_Dev_Acc: 0.948 Train_Acc(Batch): 1.000 SWA_Test_Acc: 0.947 Dev_Acc: 0.896 \n",
      "[284/351][256000/315900] Test_Acc: 0.907 SWA_Dev_Acc: 0.947 Train_Acc(Batch): 1.000 SWA_Test_Acc: 0.947 Dev_Acc: 0.912 \n",
      "[286/351][258000/315900] Test_Acc: 0.929 SWA_Dev_Acc: 0.948 Train_Acc(Batch): 1.000 SWA_Test_Acc: 0.946 Dev_Acc: 0.935 \n",
      "[288/351][260000/315900] Test_Acc: 0.940 SWA_Dev_Acc: 0.949 Train_Acc(Batch): 1.000 SWA_Test_Acc: 0.947 Dev_Acc: 0.939 \n",
      "[291/351][262000/315900] Test_Acc: 0.927 SWA_Dev_Acc: 0.947 Train_Acc(Batch): 1.000 SWA_Test_Acc: 0.947 Dev_Acc: 0.929 \n",
      "[293/351][264000/315900] Test_Acc: 0.884 SWA_Dev_Acc: 0.946 Train_Acc(Batch): 0.940 SWA_Test_Acc: 0.947 Dev_Acc: 0.889 \n",
      "[295/351][266000/315900] Test_Acc: 0.919 SWA_Dev_Acc: 0.949 Train_Acc(Batch): 1.000 SWA_Test_Acc: 0.948 Dev_Acc: 0.915 \n",
      "[297/351][268000/315900] Test_Acc: 0.935 SWA_Dev_Acc: 0.948 Train_Acc(Batch): 1.000 SWA_Test_Acc: 0.947 Dev_Acc: 0.937 \n",
      "[300/351][270000/315900] Test_Acc: 0.937 SWA_Dev_Acc: 0.948 Train_Acc(Batch): 1.000 SWA_Test_Acc: 0.947 Dev_Acc: 0.943 \n",
      "[302/351][272000/315900] Test_Acc: 0.887 SWA_Dev_Acc: 0.947 Train_Acc(Batch): 0.960 SWA_Test_Acc: 0.949 Dev_Acc: 0.889 \n",
      "[304/351][274000/315900] Test_Acc: 0.912 SWA_Dev_Acc: 0.949 Train_Acc(Batch): 0.980 SWA_Test_Acc: 0.947 Dev_Acc: 0.920 \n",
      "[306/351][276000/315900] Test_Acc: 0.934 SWA_Dev_Acc: 0.948 Train_Acc(Batch): 1.000 SWA_Test_Acc: 0.948 Dev_Acc: 0.938 \n",
      "[308/351][278000/315900] Test_Acc: 0.935 SWA_Dev_Acc: 0.947 Train_Acc(Batch): 1.000 SWA_Test_Acc: 0.948 Dev_Acc: 0.943 \n",
      "[311/351][280000/315900] Test_Acc: 0.919 SWA_Dev_Acc: 0.948 Train_Acc(Batch): 1.000 SWA_Test_Acc: 0.947 Dev_Acc: 0.922 \n",
      "[313/351][282000/315900] Test_Acc: 0.900 SWA_Dev_Acc: 0.947 Train_Acc(Batch): 0.940 SWA_Test_Acc: 0.947 Dev_Acc: 0.902 \n",
      "[315/351][284000/315900] Test_Acc: 0.927 SWA_Dev_Acc: 0.948 Train_Acc(Batch): 0.980 SWA_Test_Acc: 0.947 Dev_Acc: 0.929 \n",
      "[317/351][286000/315900] Test_Acc: 0.928 SWA_Dev_Acc: 0.949 Train_Acc(Batch): 1.000 SWA_Test_Acc: 0.948 Dev_Acc: 0.929 \n",
      "[320/351][288000/315900] Test_Acc: 0.936 SWA_Dev_Acc: 0.949 Train_Acc(Batch): 1.000 SWA_Test_Acc: 0.948 Dev_Acc: 0.938 \n",
      "[322/351][290000/315900] Test_Acc: 0.863 SWA_Dev_Acc: 0.949 Train_Acc(Batch): 0.940 SWA_Test_Acc: 0.947 Dev_Acc: 0.863 \n",
      "[324/351][292000/315900] Test_Acc: 0.916 SWA_Dev_Acc: 0.950 Train_Acc(Batch): 0.980 SWA_Test_Acc: 0.948 Dev_Acc: 0.920 \n",
      "[326/351][294000/315900] Test_Acc: 0.933 SWA_Dev_Acc: 0.949 Train_Acc(Batch): 1.000 SWA_Test_Acc: 0.948 Dev_Acc: 0.936 \n",
      "[328/351][296000/315900] Test_Acc: 0.939 SWA_Dev_Acc: 0.948 Train_Acc(Batch): 1.000 SWA_Test_Acc: 0.950 Dev_Acc: 0.940 \n",
      "[331/351][298000/315900] Test_Acc: 0.905 SWA_Dev_Acc: 0.948 Train_Acc(Batch): 0.960 SWA_Test_Acc: 0.948 Dev_Acc: 0.915 \n",
      "[333/351][300000/315900] Test_Acc: 0.898 SWA_Dev_Acc: 0.949 Train_Acc(Batch): 0.960 SWA_Test_Acc: 0.949 Dev_Acc: 0.897 \n",
      "[335/351][302000/315900] Test_Acc: 0.930 SWA_Dev_Acc: 0.950 Train_Acc(Batch): 1.000 SWA_Test_Acc: 0.947 Dev_Acc: 0.929 \n",
      "[337/351][304000/315900] Test_Acc: 0.938 SWA_Dev_Acc: 0.949 Train_Acc(Batch): 1.000 SWA_Test_Acc: 0.949 Dev_Acc: 0.943 \n",
      "[340/351][306000/315900] Test_Acc: 0.942 SWA_Dev_Acc: 0.950 Train_Acc(Batch): 1.000 SWA_Test_Acc: 0.949 Dev_Acc: 0.945 \n",
      "[342/351][308000/315900] Test_Acc: 0.887 SWA_Dev_Acc: 0.949 Train_Acc(Batch): 0.960 SWA_Test_Acc: 0.948 Dev_Acc: 0.888 \n",
      "[344/351][310000/315900] Test_Acc: 0.916 SWA_Dev_Acc: 0.950 Train_Acc(Batch): 1.000 SWA_Test_Acc: 0.949 Dev_Acc: 0.924 \n",
      "[346/351][312000/315900] Test_Acc: 0.929 SWA_Dev_Acc: 0.949 Train_Acc(Batch): 0.980 SWA_Test_Acc: 0.949 Dev_Acc: 0.932 \n",
      "[348/351][314000/315900] Test_Acc: 0.939 SWA_Dev_Acc: 0.949 Train_Acc(Batch): 1.000 SWA_Test_Acc: 0.949 Dev_Acc: 0.939 \n"
     ]
    }
   ],
   "source": [
    "trainer.cosineSWA(100,1e-2)"
   ]
  },
  {
   "cell_type": "code",
   "execution_count": 8,
   "metadata": {},
   "outputs": [],
   "source": [
    "trainer.save_checkpoint('/home/maf388/tb-experiments/layer13dev/checkpoints/swa.ckpt')"
   ]
  },
  {
   "cell_type": "code",
   "execution_count": null,
   "metadata": {},
   "outputs": [],
   "source": [
    "class A(object):\n",
    "    def x(self):\n",
    "        self.y()\n",
    "    def y(self):\n",
    "        print(\"A y\")\n",
    "        \n",
    "class B(A):\n",
    "    def y(self):\n",
    "        print(\"B y\")\n",
    "    def z(self):\n",
    "        super().x()\n",
    "        \n",
    "b = B()\n",
    "b.x()"
   ]
  },
  {
   "cell_type": "code",
   "execution_count": null,
   "metadata": {},
   "outputs": [],
   "source": [
    "b.z()"
   ]
  },
  {
   "cell_type": "code",
   "execution_count": null,
   "metadata": {},
   "outputs": [],
   "source": []
  }
 ],
 "metadata": {
  "kernelspec": {
   "display_name": "Python 3",
   "language": "python",
   "name": "python3"
  },
  "language_info": {
   "codemirror_mode": {
    "name": "ipython",
    "version": 3
   },
   "file_extension": ".py",
   "mimetype": "text/x-python",
   "name": "python",
   "nbconvert_exporter": "python",
   "pygments_lexer": "ipython3",
   "version": "3.5.4"
  }
 },
 "nbformat": 4,
 "nbformat_minor": 2
}
