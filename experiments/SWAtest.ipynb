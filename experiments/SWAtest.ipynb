{
 "cells": [
  {
   "cell_type": "code",
   "execution_count": 1,
   "metadata": {},
   "outputs": [],
   "source": [
    "import numpy as np\n",
    "import torch, torchvision\n",
    "import torch.optim as optim\n",
    "import torch.nn as nn\n",
    "\n",
    "from oil.cnnTrainer import CnnTrainer\n",
    "from oil.networkparts import layer13\n",
    "import oil.augLayers as augLayers\n",
    "from oil.schedules import cosLr, sigmoidConsRamp\n",
    "from oil.datasets import CIFAR10, C10augLayers\n",
    "\n",
    "%matplotlib inline\n",
    "%load_ext autoreload\n",
    "%autoreload 2"
   ]
  },
  {
   "cell_type": "code",
   "execution_count": 2,
   "metadata": {},
   "outputs": [
    {
     "name": "stdout",
     "output_type": "stream",
     "text": [
      "Files already downloaded and verified\n",
      "Files already downloaded and verified\n"
     ]
    }
   ],
   "source": [
    "total_epochs = 250\n",
    "\n",
    "opt_constr = lambda params, base_lr: optim.SGD(params, base_lr, .9, weight_decay=1e-4, nesterov=True)\n",
    "lr_lambda = cosLr(total_epochs, 1)\n",
    "\n",
    "savedir = '/home/maf388/tb-experiments/layer13dev/'\n",
    "config = {'base_lr':.1, 'amntLab':1, 'amntDev':5000,\n",
    "          'lab_BS':50, 'ul_BS':50, 'num_workers':2,\n",
    "          'lr_lambda':lr_lambda, 'opt_constr':opt_constr\n",
    "          }\n",
    "\n",
    "datasets = CIFAR10(aug=False)\n",
    "CNN = layer13(numClasses=10)\n",
    "fullCNN = nn.Sequential(C10augLayers(),CNN)"
   ]
  },
  {
   "cell_type": "code",
   "execution_count": 3,
   "metadata": {},
   "outputs": [],
   "source": [
    "load_path = '/home/maf388/tb-experiments/layer13dev/checkpoints/c.249.ckpt'"
   ]
  },
  {
   "cell_type": "code",
   "execution_count": null,
   "metadata": {},
   "outputs": [
    {
     "name": "stdout",
     "output_type": "stream",
     "text": [
      "Creating Train, Dev split         with 45000 Train and 5000 Dev\n",
      "=> loading checkpoint '/home/maf388/tb-experiments/layer13dev/checkpoints/c.249.ckpt'\n"
     ]
    }
   ],
   "source": [
    "trainer = CnnTrainer(fullCNN,datasets,savedir,load_path,**config)"
   ]
  },
  {
   "cell_type": "code",
   "execution_count": null,
   "metadata": {},
   "outputs": [
    {
     "name": "stdout",
     "output_type": "stream",
     "text": [
      "[251/351][226000/315900] Train_Acc(Batch): 1.000 SWA_Test_Acc: 0.939 Dev_Acc: 0.946 Test_Acc: 0.939 SWA_Dev_Acc: 0.946 \n",
      "[253/351][228000/315900] Train_Acc(Batch): 0.940 SWA_Test_Acc: 0.939 Dev_Acc: 0.888 Test_Acc: 0.888 SWA_Dev_Acc: 0.945 \n",
      "[255/351][230000/315900] Train_Acc(Batch): 0.980 SWA_Test_Acc: 0.943 Dev_Acc: 0.887 Test_Acc: 0.883 SWA_Dev_Acc: 0.945 \n",
      "[257/351][232000/315900] Train_Acc(Batch): 0.960 SWA_Test_Acc: 0.945 Dev_Acc: 0.888 Test_Acc: 0.882 SWA_Dev_Acc: 0.946 \n",
      "[260/351][234000/315900] Train_Acc(Batch): 0.920 SWA_Test_Acc: 0.944 Dev_Acc: 0.898 Test_Acc: 0.897 SWA_Dev_Acc: 0.948 \n",
      "[262/351][236000/315900] Train_Acc(Batch): 0.980 SWA_Test_Acc: 0.946 Dev_Acc: 0.915 Test_Acc: 0.910 SWA_Dev_Acc: 0.949 \n",
      "[264/351][238000/315900] Train_Acc(Batch): 1.000 SWA_Test_Acc: 0.945 Dev_Acc: 0.912 Test_Acc: 0.913 SWA_Dev_Acc: 0.949 \n",
      "[266/351][240000/315900] Train_Acc(Batch): 0.980 SWA_Test_Acc: 0.947 Dev_Acc: 0.902 Test_Acc: 0.902 SWA_Dev_Acc: 0.949 \n",
      "[268/351][242000/315900] Train_Acc(Batch): 0.960 SWA_Test_Acc: 0.946 Dev_Acc: 0.909 Test_Acc: 0.907 SWA_Dev_Acc: 0.949 \n",
      "[271/351][244000/315900] Train_Acc(Batch): 0.980 SWA_Test_Acc: 0.945 Dev_Acc: 0.919 Test_Acc: 0.913 SWA_Dev_Acc: 0.949 \n",
      "[273/351][246000/315900] Train_Acc(Batch): 1.000 SWA_Test_Acc: 0.944 Dev_Acc: 0.904 Test_Acc: 0.899 SWA_Dev_Acc: 0.949 \n",
      "[275/351][248000/315900] Train_Acc(Batch): 0.980 SWA_Test_Acc: 0.947 Dev_Acc: 0.911 Test_Acc: 0.899 SWA_Dev_Acc: 0.950 \n",
      "[277/351][250000/315900] Train_Acc(Batch): 0.980 SWA_Test_Acc: 0.946 Dev_Acc: 0.908 Test_Acc: 0.902 SWA_Dev_Acc: 0.951 \n",
      "[280/351][252000/315900] Train_Acc(Batch): 1.000 SWA_Test_Acc: 0.947 Dev_Acc: 0.909 Test_Acc: 0.904 SWA_Dev_Acc: 0.952 \n",
      "[282/351][254000/315900] Train_Acc(Batch): 0.980 SWA_Test_Acc: 0.945 Dev_Acc: 0.913 Test_Acc: 0.902 SWA_Dev_Acc: 0.951 \n",
      "[284/351][256000/315900] Train_Acc(Batch): 0.940 SWA_Test_Acc: 0.946 Dev_Acc: 0.914 Test_Acc: 0.908 SWA_Dev_Acc: 0.952 \n",
      "[286/351][258000/315900] Train_Acc(Batch): 1.000 SWA_Test_Acc: 0.946 Dev_Acc: 0.909 Test_Acc: 0.901 SWA_Dev_Acc: 0.951 \n",
      "[288/351][260000/315900] Train_Acc(Batch): 0.980 SWA_Test_Acc: 0.946 Dev_Acc: 0.913 Test_Acc: 0.911 SWA_Dev_Acc: 0.951 \n",
      "[291/351][262000/315900] Train_Acc(Batch): 1.000 SWA_Test_Acc: 0.947 Dev_Acc: 0.917 Test_Acc: 0.911 SWA_Dev_Acc: 0.952 \n",
      "[293/351][264000/315900] Train_Acc(Batch): 0.980 SWA_Test_Acc: 0.947 Dev_Acc: 0.916 Test_Acc: 0.911 SWA_Dev_Acc: 0.952 \n",
      "[295/351][266000/315900] Train_Acc(Batch): 0.940 SWA_Test_Acc: 0.947 Dev_Acc: 0.897 Test_Acc: 0.887 SWA_Dev_Acc: 0.950 \n",
      "[297/351][268000/315900] Train_Acc(Batch): 0.980 SWA_Test_Acc: 0.947 Dev_Acc: 0.911 Test_Acc: 0.907 SWA_Dev_Acc: 0.951 \n",
      "[300/351][270000/315900] Train_Acc(Batch): 1.000 SWA_Test_Acc: 0.946 Dev_Acc: 0.924 Test_Acc: 0.919 SWA_Dev_Acc: 0.951 \n",
      "[302/351][272000/315900] Train_Acc(Batch): 0.960 SWA_Test_Acc: 0.947 Dev_Acc: 0.915 Test_Acc: 0.908 SWA_Dev_Acc: 0.952 \n",
      "[304/351][274000/315900] Train_Acc(Batch): 0.980 SWA_Test_Acc: 0.946 Dev_Acc: 0.898 Test_Acc: 0.891 SWA_Dev_Acc: 0.951 \n",
      "[306/351][276000/315900] Train_Acc(Batch): 0.960 SWA_Test_Acc: 0.947 Dev_Acc: 0.896 Test_Acc: 0.886 SWA_Dev_Acc: 0.951 \n",
      "[308/351][278000/315900] Train_Acc(Batch): 1.000 SWA_Test_Acc: 0.948 Dev_Acc: 0.915 Test_Acc: 0.908 SWA_Dev_Acc: 0.952 \n",
      "[311/351][280000/315900] Train_Acc(Batch): 1.000 SWA_Test_Acc: 0.947 Dev_Acc: 0.889 Test_Acc: 0.887 SWA_Dev_Acc: 0.951 \n",
      "[313/351][282000/315900] Train_Acc(Batch): 1.000 SWA_Test_Acc: 0.948 Dev_Acc: 0.908 Test_Acc: 0.906 SWA_Dev_Acc: 0.953 \n",
      "[315/351][284000/315900] Train_Acc(Batch): 0.960 SWA_Test_Acc: 0.947 Dev_Acc: 0.899 Test_Acc: 0.888 SWA_Dev_Acc: 0.952 \n",
      "[317/351][286000/315900] Train_Acc(Batch): 0.960 SWA_Test_Acc: 0.946 Dev_Acc: 0.914 Test_Acc: 0.903 SWA_Dev_Acc: 0.950 \n",
      "[320/351][288000/315900] Train_Acc(Batch): 0.980 SWA_Test_Acc: 0.946 Dev_Acc: 0.919 Test_Acc: 0.916 SWA_Dev_Acc: 0.952 \n",
      "[322/351][290000/315900] Train_Acc(Batch): 0.960 SWA_Test_Acc: 0.947 Dev_Acc: 0.893 Test_Acc: 0.889 SWA_Dev_Acc: 0.952 \n",
      "[324/351][292000/315900] Train_Acc(Batch): 0.960 SWA_Test_Acc: 0.947 Dev_Acc: 0.909 Test_Acc: 0.900 SWA_Dev_Acc: 0.951 \n",
      "[326/351][294000/315900] Train_Acc(Batch): 1.000 SWA_Test_Acc: 0.947 Dev_Acc: 0.906 Test_Acc: 0.898 SWA_Dev_Acc: 0.951 \n",
      "[328/351][296000/315900] Train_Acc(Batch): 0.960 SWA_Test_Acc: 0.947 Dev_Acc: 0.906 Test_Acc: 0.897 SWA_Dev_Acc: 0.951 \n",
      "[331/351][298000/315900] Train_Acc(Batch): 0.980 SWA_Test_Acc: 0.946 Dev_Acc: 0.917 Test_Acc: 0.913 SWA_Dev_Acc: 0.952 \n",
      "[333/351][300000/315900] Train_Acc(Batch): 1.000 SWA_Test_Acc: 0.948 Dev_Acc: 0.918 Test_Acc: 0.909 SWA_Dev_Acc: 0.952 \n",
      "[335/351][302000/315900] Train_Acc(Batch): 0.960 SWA_Test_Acc: 0.948 Dev_Acc: 0.906 Test_Acc: 0.901 SWA_Dev_Acc: 0.952 \n",
      "[337/351][304000/315900] Train_Acc(Batch): 1.000 SWA_Test_Acc: 0.947 Dev_Acc: 0.921 Test_Acc: 0.913 SWA_Dev_Acc: 0.952 \n",
      "[340/351][306000/315900] Train_Acc(Batch): 0.920 SWA_Test_Acc: 0.948 Dev_Acc: 0.897 Test_Acc: 0.886 SWA_Dev_Acc: 0.951 \n",
      "[342/351][308000/315900] Train_Acc(Batch): 1.000 SWA_Test_Acc: 0.948 Dev_Acc: 0.914 Test_Acc: 0.905 SWA_Dev_Acc: 0.952 \n"
     ]
    }
   ],
   "source": [
    "trainer.constSWA(100,1e-2)"
   ]
  },
  {
   "cell_type": "code",
   "execution_count": null,
   "metadata": {},
   "outputs": [],
   "source": [
    "trainer.constSWA(100,1e-3)"
   ]
  },
  {
   "cell_type": "code",
   "execution_count": null,
   "metadata": {},
   "outputs": [],
   "source": [
    "class A(object):\n",
    "    def x(self):\n",
    "        self.y()\n",
    "    def y(self):\n",
    "        print(\"A y\")\n",
    "        \n",
    "class B(A):\n",
    "    def y(self):\n",
    "        print(\"B y\")\n",
    "    def z(self):\n",
    "        super().x()\n",
    "        \n",
    "b = B()\n",
    "b.x()"
   ]
  },
  {
   "cell_type": "code",
   "execution_count": null,
   "metadata": {},
   "outputs": [],
   "source": [
    "b.z()"
   ]
  },
  {
   "cell_type": "code",
   "execution_count": null,
   "metadata": {},
   "outputs": [],
   "source": []
  }
 ],
 "metadata": {
  "kernelspec": {
   "display_name": "Python 3",
   "language": "python",
   "name": "python3"
  },
  "language_info": {
   "codemirror_mode": {
    "name": "ipython",
    "version": 3
   },
   "file_extension": ".py",
   "mimetype": "text/x-python",
   "name": "python",
   "nbconvert_exporter": "python",
   "pygments_lexer": "ipython3",
   "version": "3.5.4"
  }
 },
 "nbformat": 4,
 "nbformat_minor": 2
}
