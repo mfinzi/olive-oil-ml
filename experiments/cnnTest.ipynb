{
 "cells": [
  {
   "cell_type": "code",
   "execution_count": 1,
   "metadata": {},
   "outputs": [],
   "source": [
    "import torch, torchvision\n",
    "import torchvision.transforms as transforms\n",
    "from torch.utils.data import DataLoader\n",
    "from torchvision.datasets import CIFAR10\n",
    "\n",
    "from bgan.cnnTrainer import CnnTrainer\n",
    "from bgan.wcnnTrainer import WcnnTrainer\n",
    "from bgan.vatCnnTrainer import VatCnnTrainer\n",
    "from bgan.networkparts import *\n",
    "import bgan.augLayers as augLayers\n",
    "%matplotlib inline\n",
    "%load_ext autoreload\n",
    "%autoreload 2"
   ]
  },
  {
   "cell_type": "markdown",
   "metadata": {},
   "source": [
    "## CNN Configuration"
   ]
  },
  {
   "cell_type": "code",
   "execution_count": 5,
   "metadata": {},
   "outputs": [],
   "source": [
    "savedir = '/home/maf388/tb-experiments/layer13wAugTransf2/'\n",
    "config = {'base_lr':1e-4, 'amntLab':4000, \n",
    "          'lab_BS':32}\n",
    "\n",
    "baseCNN = layer13(numClasses=10)\n",
    "\n",
    "fullCNN = nn.Sequential(\n",
    "#     augLayers.RandomTranslate(4),\n",
    "#     augLayers.RandomHorizontalFlip(),\n",
    "    augLayers.GaussianNoise(0.15),\n",
    "    baseCNN,\n",
    ")"
   ]
  },
  {
   "cell_type": "markdown",
   "metadata": {},
   "source": [
    "## Dataset"
   ]
  },
  {
   "cell_type": "code",
   "execution_count": 6,
   "metadata": {},
   "outputs": [
    {
     "name": "stdout",
     "output_type": "stream",
     "text": [
      "Files already downloaded and verified\n",
      "Files already downloaded and verified\n"
     ]
    }
   ],
   "source": [
    "img_size = 32\n",
    "transform_dev = transforms.Compose(\n",
    "    [transforms.Resize(img_size),\n",
    "     transforms.ToTensor(),\n",
    "     transforms.Normalize((0.4914, 0.4822, 0.4465), (0.2023, 0.1994, 0.2010))])\n",
    "\n",
    "transform_train = transform_dev\n",
    "transform_train = transforms.Compose(\n",
    "    [transforms.RandomCrop(32, padding=4),\n",
    "     transforms.RandomHorizontalFlip(),\n",
    "     transform_dev])\n",
    "\n",
    "pathToDataset = '/scratch/datasets/cifar10/'\n",
    "trainset = CIFAR10(pathToDataset, download=True, transform=transform_train)\n",
    "devset = CIFAR10(pathToDataset, train=False, download=True, transform=transform_dev)\n",
    "testset = None\n",
    "\n",
    "datasets = (trainset, devset, testset)"
   ]
  },
  {
   "cell_type": "code",
   "execution_count": 21,
   "metadata": {},
   "outputs": [
    {
     "name": "stdout",
     "output_type": "stream",
     "text": [
      "9.64 s ± 244 ms per loop (mean ± std. dev. of 7 runs, 1 loop each)\n"
     ]
    }
   ],
   "source": [
    "trainer = CnnTrainer(fullCNN,datasets,savedir,**config)"
   ]
  },
  {
   "cell_type": "code",
   "execution_count": 22,
   "metadata": {
    "scrolled": true
   },
   "outputs": [
    {
     "name": "stdout",
     "output_type": "stream",
     "text": [
      "[  0/640][     0/80000] Val_Acc: 0.100 Train_Acc(Batch): 0.031 \n",
      "Traceback (most recent call last):\n",
      "  File \"/home/maf388/.conda/envs/env0/lib/python3.5/site-packages/IPython/core/interactiveshell.py\", line 2910, in run_code\n",
      "    exec(code_obj, self.user_global_ns, self.user_ns)\n",
      "  File \"<ipython-input-22-0efafca1f2eb>\", line 1, in <module>\n",
      "    trainer.train(640)\n",
      "  File \"/home/maf388/bayesganfuture/bgan/cnnTrainer.py\", line 68, in train\n",
      "    trainData = to_var_gpu(next(self.train_iter))\n",
      "  File \"/home/maf388/bayesganfuture/bgan/utils.py\", line 12, in to_var_gpu\n",
      "    return type(x)(map(to_var_gpu, x))\n",
      "  File \"/home/maf388/bayesganfuture/bgan/utils.py\", line 14, in to_var_gpu\n",
      "    return Variable(x).cuda()\n",
      "  File \"/home/maf388/.conda/envs/env0/lib/python3.5/site-packages/torch/autograd/variable.py\", line 298, in cuda\n",
      "    return CudaTransfer.apply(self, device, async)\n",
      "  File \"/home/maf388/.conda/envs/env0/lib/python3.5/site-packages/torch/autograd/_functions/tensor.py\", line 201, in forward\n",
      "    return i.cuda(async=async)\n",
      "  File \"/home/maf388/.conda/envs/env0/lib/python3.5/site-packages/torch/_utils.py\", line 69, in _cuda\n",
      "    return new_type(self.size()).copy_(self, async)\n",
      "KeyboardInterrupt\n",
      "\n",
      "During handling of the above exception, another exception occurred:\n",
      "\n",
      "Traceback (most recent call last):\n",
      "  File \"/home/maf388/.conda/envs/env0/lib/python3.5/site-packages/IPython/core/interactiveshell.py\", line 1828, in showtraceback\n",
      "    stb = value._render_traceback_()\n",
      "AttributeError: 'KeyboardInterrupt' object has no attribute '_render_traceback_'\n",
      "\n",
      "During handling of the above exception, another exception occurred:\n",
      "\n",
      "Traceback (most recent call last):\n",
      "  File \"/home/maf388/.conda/envs/env0/lib/python3.5/site-packages/IPython/core/ultratb.py\", line 1090, in get_records\n",
      "    return _fixed_getinnerframes(etb, number_of_lines_of_context, tb_offset)\n",
      "  File \"/home/maf388/.conda/envs/env0/lib/python3.5/site-packages/IPython/core/ultratb.py\", line 311, in wrapped\n",
      "    return f(*args, **kwargs)\n",
      "  File \"/home/maf388/.conda/envs/env0/lib/python3.5/site-packages/IPython/core/ultratb.py\", line 345, in _fixed_getinnerframes\n",
      "    records = fix_frame_records_filenames(inspect.getinnerframes(etb, context))\n",
      "  File \"/home/maf388/.conda/envs/env0/lib/python3.5/inspect.py\", line 1459, in getinnerframes\n",
      "    frameinfo = (tb.tb_frame,) + getframeinfo(tb, context)\n",
      "  File \"/home/maf388/.conda/envs/env0/lib/python3.5/inspect.py\", line 1421, in getframeinfo\n",
      "    lines, lnum = findsource(frame)\n",
      "  File \"/home/maf388/.conda/envs/env0/lib/python3.5/site-packages/IPython/core/ultratb.py\", line 177, in findsource\n",
      "    lines = linecache.getlines(file, globals_dict)\n",
      "  File \"/home/maf388/.conda/envs/env0/lib/python3.5/linecache.py\", line 47, in getlines\n",
      "    return updatecache(filename, module_globals)\n",
      "  File \"/home/maf388/.conda/envs/env0/lib/python3.5/linecache.py\", line 136, in updatecache\n",
      "    with tokenize.open(fullname) as fp:\n",
      "  File \"/home/maf388/.conda/envs/env0/lib/python3.5/tokenize.py\", line 456, in open\n",
      "    encoding, lines = detect_encoding(buffer.readline)\n",
      "  File \"/home/maf388/.conda/envs/env0/lib/python3.5/tokenize.py\", line 425, in detect_encoding\n",
      "    first = read_or_stop()\n",
      "  File \"/home/maf388/.conda/envs/env0/lib/python3.5/tokenize.py\", line 383, in read_or_stop\n",
      "    return readline()\n",
      "  File \"/home/maf388/.conda/envs/env0/lib/python3.5/site-packages/torch/utils/data/dataloader.py\", line 175, in handler\n",
      "    _error_if_any_worker_fails()\n",
      "RuntimeError: DataLoader worker (pid 5302) exited unexpectedly with exit code 1.\n"
     ]
    },
    {
     "ename": "KeyboardInterrupt",
     "evalue": "",
     "output_type": "error",
     "traceback": [
      "\u001b[0;31m---------------------------------------------------------------------------\u001b[0m"
     ]
    }
   ],
   "source": [
    "trainer.train(640)"
   ]
  },
  {
   "cell_type": "code",
   "execution_count": null,
   "metadata": {},
   "outputs": [],
   "source": [
    "trainer.CNN.training"
   ]
  },
  {
   "cell_type": "code",
   "execution_count": null,
   "metadata": {},
   "outputs": [],
   "source": []
  }
 ],
 "metadata": {
  "kernelspec": {
   "display_name": "Python 3",
   "language": "python",
   "name": "python3"
  },
  "language_info": {
   "codemirror_mode": {
    "name": "ipython",
    "version": 3
   },
   "file_extension": ".py",
   "mimetype": "text/x-python",
   "name": "python",
   "nbconvert_exporter": "python",
   "pygments_lexer": "ipython3",
   "version": "3.5.4"
  }
 },
 "nbformat": 4,
 "nbformat_minor": 2
}
