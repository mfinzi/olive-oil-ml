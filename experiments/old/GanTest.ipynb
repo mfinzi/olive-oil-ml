{
 "cells": [
  {
   "cell_type": "code",
   "execution_count": 1,
   "metadata": {},
   "outputs": [],
   "source": [
    "import torch, torchvision\n",
    "import torch.optim as optim\n",
    "import torch.nn as nn\n",
    "import os\n",
    "#import oil.augLayers as augLayers\n",
    "from oil.model_trainers.gan import Gan\n",
    "from oil.model_trainers.classifier import Classifier\n",
    "from oil.datasetup.datasets import CIFAR10, C10augLayers\n",
    "from oil.datasetup.dataloaders import getUnlabLoader, getLabLoader\n",
    "#from oil.architectures.networkparts import layer13,ConvSmallNWN\n",
    "from oil.architectures import dcgan,resnetgan\n",
    "from oil.architectures.ganBase import add_spectral_norm, xavier_uniform_init\n",
    "from oil.utils.utils import cosLr, loader_to,imap,islice\n",
    "%load_ext autoreload\n",
    "%autoreload 2"
   ]
  },
  {
   "cell_type": "code",
   "execution_count": 2,
   "metadata": {},
   "outputs": [
    {
     "name": "stdout",
     "output_type": "stream",
     "text": [
      "Files already downloaded and verified\n",
      "Files already downloaded and verified\n",
      "Creating Train, Dev split         with 50000 Train and 0 Dev\n"
     ]
    }
   ],
   "source": [
    "train_epochs = 100\n",
    "#net_config =        {'numClasses':10}\n",
    "loader_config =     {'amnt_dev':0,'lab_BS':64,'dataseed':0,'num_workers':2}\n",
    "#opt_config =        {'lr':.1, 'momentum':.9, 'weight_decay':1e-4, 'nesterov':True}\n",
    "trainer_config =    {}\n",
    "\n",
    "trainer_config['log_dir'] = os.path.expanduser('~/tb-experiments/baseline_gan/')\n",
    "trainer_config['description'] = 'Test being made'\n",
    "\n",
    "\n",
    "device = torch.device('cuda')\n",
    "G = resnetgan.Generator().to(device)\n",
    "D = resnetgan.Discriminator().to(device)\n",
    "trainset, testset = CIFAR10(False, '~/datasets/cifar10/')\n",
    "\n",
    "dataloaders = {}\n",
    "dataloaders['train'], _ = getLabLoader(trainset,**loader_config)\n",
    "dataloaders['dev'] = islice(dataloaders['train'],4096//loader_config['lab_BS'])\n",
    "dataloaders = {k: imap(lambda z:z[0].to(device),v) for k,v in dataloaders.items()}\n",
    "\n",
    "trainer = Gan(G,dataloaders,D=D,n_disc=5, **trainer_config)\n"
   ]
  },
  {
   "cell_type": "code",
   "execution_count": null,
   "metadata": {},
   "outputs": [
    {
     "data": {
      "application/vnd.jupyter.widget-view+json": {
       "model_id": "f2810004c1594862914fcb64edc02f4d",
       "version_major": 2,
       "version_minor": 0
      },
      "text/plain": [
       "HBox(children=(IntProgress(value=0), HTML(value='')))"
      ]
     },
     "metadata": {},
     "output_type": "display_data"
    },
    {
     "name": "stderr",
     "output_type": "stream",
     "text": [
      "/home/marc/anaconda3/lib/python3.6/site-packages/torch/nn/modules/upsampling.py:122: UserWarning: nn.Upsampling is deprecated. Use nn.functional.interpolate instead.\n",
      "  warnings.warn(\"nn.Upsampling is deprecated. Use nn.functional.interpolate instead.\")\n",
      "/home/marc/anaconda3/lib/python3.6/site-packages/torch/nn/functional.py:1961: UserWarning: Default upsampling behavior when mode=bilinear is changed to align_corners=False since 0.4.0. Please specify align_corners=True if the old behavior is desired. See the documentation of nn.Upsample for details.\n",
      "  \"See the documentation of nn.Upsample for details.\".format(mode))\n",
      "Exception ignored in: <bound method _DataLoaderIter.__del__ of <torch.utils.data.dataloader._DataLoaderIter object at 0x7f625e469fd0>>\n",
      "Traceback (most recent call last):\n",
      "  File \"/home/marc/anaconda3/lib/python3.6/site-packages/torch/utils/data/dataloader.py\", line 399, in __del__\n",
      "    self._shutdown_workers()\n",
      "  File \"/home/marc/anaconda3/lib/python3.6/site-packages/torch/utils/data/dataloader.py\", line 378, in _shutdown_workers\n",
      "    self.worker_result_queue.get()\n",
      "  File \"/home/marc/anaconda3/lib/python3.6/multiprocessing/queues.py\", line 337, in get\n",
      "    return _ForkingPickler.loads(res)\n",
      "  File \"/home/marc/anaconda3/lib/python3.6/site-packages/torch/multiprocessing/reductions.py\", line 151, in rebuild_storage_fd\n",
      "    fd = df.detach()\n",
      "  File \"/home/marc/anaconda3/lib/python3.6/multiprocessing/resource_sharer.py\", line 58, in detach\n",
      "    return reduction.recv_handle(conn)\n",
      "  File \"/home/marc/anaconda3/lib/python3.6/multiprocessing/reduction.py\", line 182, in recv_handle\n",
      "    return recvfds(s, 1)[0]\n",
      "  File \"/home/marc/anaconda3/lib/python3.6/multiprocessing/reduction.py\", line 153, in recvfds\n",
      "    msg, ancdata, flags, addr = sock.recvmsg(1, socket.CMSG_LEN(bytes_size))\n",
      "ConnectionResetError: [Errno 104] Connection reset by peer\n"
     ]
    },
    {
     "name": "stdout",
     "output_type": "stream",
     "text": [
      "       G_loss    D_loss          FID        IS\n",
      "783 -0.251582  2.027959  1906.193428  1.436664\n"
     ]
    }
   ],
   "source": [
    "trainer.train(train_epochs)\n",
    "trainer.save_checkpoint()"
   ]
  },
  {
   "cell_type": "code",
   "execution_count": null,
   "metadata": {},
   "outputs": [],
   "source": []
  }
 ],
 "metadata": {
  "kernelspec": {
   "display_name": "Python 3",
   "language": "python",
   "name": "python3"
  },
  "language_info": {
   "codemirror_mode": {
    "name": "ipython",
    "version": 3
   },
   "file_extension": ".py",
   "mimetype": "text/x-python",
   "name": "python",
   "nbconvert_exporter": "python",
   "pygments_lexer": "ipython3",
   "version": "3.6.6"
  }
 },
 "nbformat": 4,
 "nbformat_minor": 2
}
