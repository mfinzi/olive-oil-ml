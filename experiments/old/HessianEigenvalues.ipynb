{
 "cells": [
  {
   "cell_type": "code",
   "execution_count": 24,
   "metadata": {},
   "outputs": [
    {
     "name": "stdout",
     "output_type": "stream",
     "text": [
      "The autoreload extension is already loaded. To reload it, use:\n",
      "  %reload_ext autoreload\n"
     ]
    }
   ],
   "source": [
    "import os\n",
    "os.environ[\"CUDA_DEVICE_ORDER\"]=\"PCI_BUS_ID\"   # see issue #152\n",
    "os.environ[\"CUDA_VISIBLE_DEVICES\"]=\"2\"\n",
    "import torch, torchvision\n",
    "import torch.optim as optim\n",
    "import torch.nn as nn\n",
    "import torch.nn.functional as F\n",
    "import time\n",
    "import numpy as np\n",
    "import matplotlib.pyplot as plt\n",
    "from copy import deepcopy\n",
    "from contextlib import contextmanager\n",
    "from itertools import islice\n",
    "\n",
    "from oil.cnnTrainer import CnnTrainer\n",
    "from oil.datasets import CIFAR10, C10augLayers\n",
    "from oil.networkparts import layer13, ConvSmallNWN\n",
    "from oil.schedules import cosLr\n",
    "from oil.utils import to_gpu\n",
    "from oil.extra.lanczos import lanczos_tridiag, lanczos_tridiag_to_diag\n",
    "from oil.extra.mvm import get_eigs,get_eigs_l, Hvm, Fvm, flatten, to_matmul,add, Fvm2\n",
    "from oil.extra.mvm import autoHvpBatch,autoFvpBatch, fdHvpBatch, fdFvpBatch\n",
    "\n",
    "%matplotlib inline\n",
    "%load_ext autoreload\n",
    "%autoreload 2"
   ]
  },
  {
   "cell_type": "markdown",
   "metadata": {},
   "source": [
    "## CNN Configuration"
   ]
  },
  {
   "cell_type": "code",
   "execution_count": 261,
   "metadata": {},
   "outputs": [],
   "source": [
    "train_epochs = 150\n",
    "net_config =        {'numClasses':10}\n",
    "opt_config =        {'lr':.1, 'momentum':.9, 'weight_decay':1e-4, 'nesterov':True}\n",
    "sched_config =      {'cycle_length':train_epochs,'cycle_mult':1}\n",
    "trainer_config =    {'amntLab':1, 'amntDev':5000,'dataseed':0,\n",
    "                    'lab_BS':50, 'num_workers':4, 'log':False, \n",
    "                    }\n",
    "trainer_config['description'] = \"13Layer network, {} dev\".format(trainer_config['amntDev'])\n",
    "savedir = None#'/home/maf388/tb-experiments/layer13dev/'\n",
    "\n",
    "def makeTrainer():\n",
    "    CNN = ConvSmallNWN(**net_config)\n",
    "    fullCNN = nn.Sequential(C10augLayers(),CNN)\n",
    "    datasets = CIFAR10(aug=False)\n",
    "    opt_constr = lambda params: optim.SGD(params, **opt_config)\n",
    "    lr_lambda = cosLr(**sched_config)\n",
    "    return CnnTrainer(fullCNN, datasets, opt_constr, lr_lambda, **trainer_config)"
   ]
  },
  {
   "cell_type": "code",
   "execution_count": 262,
   "metadata": {},
   "outputs": [
    {
     "name": "stdout",
     "output_type": "stream",
     "text": [
      "Files already downloaded and verified\n",
      "Files already downloaded and verified\n",
      "Creating Train, Dev split         with 45000 Train and 5000 Dev\n",
      "=> loading checkpoint '/home/maf388/tb-experiments/layer13nwn/checkpoints/c.150.ckpt'\n"
     ]
    }
   ],
   "source": [
    "trainer = makeTrainer()\n",
    "trainer.load_checkpoint('/home/maf388/tb-experiments/layer13nwn/checkpoints/c.150.ckpt')\n",
    "_ = trainer.CNN.eval()"
   ]
  },
  {
   "cell_type": "code",
   "execution_count": 258,
   "metadata": {},
   "outputs": [
    {
     "data": {
      "text/plain": [
       "0.9442"
      ]
     },
     "execution_count": 258,
     "metadata": {},
     "output_type": "execute_result"
    }
   ],
   "source": [
    "trainer.getAccuracy(trainer.dev)"
   ]
  },
  {
   "cell_type": "code",
   "execution_count": 235,
   "metadata": {},
   "outputs": [],
   "source": [
    "def norm(ray):\n",
    "    sum_sqrs = 0\n",
    "    for elem in ray:\n",
    "        sum_sqrs += torch.norm(elem.data)**2\n",
    "    return float(np.sqrt(sum_sqrs))"
   ]
  },
  {
   "cell_type": "code",
   "execution_count": 236,
   "metadata": {},
   "outputs": [
    {
     "name": "stdout",
     "output_type": "stream",
     "text": [
      "58.43932342529297\n",
      "99.10916900634766\n",
      "58.43932342529297\n"
     ]
    }
   ],
   "source": [
    "v = flatten([torch.ones_like(p).normal_() for p in trainer.CNN.parameters()])\n",
    "v /= v.norm()\n",
    "print(norm(trainer.CNN.parameters()))\n",
    "with add(trainer.CNN, 80*v):\n",
    "    print(norm(trainer.CNN.parameters()))\n",
    "print(norm(trainer.CNN.parameters()))"
   ]
  },
  {
   "cell_type": "code",
   "execution_count": 237,
   "metadata": {},
   "outputs": [],
   "source": [
    "derivStencils=[[-1.,1.], [1/12,-2/3,0.,2/3,-1/12],[-1/60,3/20,-3/4,0.,3/4,-3/20,1/60]]\n",
    "derivStencilOrders = [2,4,6]"
   ]
  },
  {
   "cell_type": "code",
   "execution_count": 238,
   "metadata": {},
   "outputs": [],
   "source": [
    "class myslice(object):\n",
    "    def __init__(self, dataloader, k):\n",
    "        self.k = k\n",
    "        self.dloader = dataloader\n",
    "    def __iter__(self):\n",
    "        return islice(iter(self.dloader),self.k)"
   ]
  },
  {
   "cell_type": "code",
   "execution_count": 239,
   "metadata": {},
   "outputs": [],
   "source": [
    "_ = trainer.CNN.eval()"
   ]
  },
  {
   "cell_type": "code",
   "execution_count": 245,
   "metadata": {},
   "outputs": [],
   "source": [
    "double = False\n",
    "cpu = False\n",
    "trials = 1\n",
    "epsValues = 10**np.linspace(-8,2,10)\n",
    "it = myslice(trainer.dev,1)\n",
    "if cpu: trainer.CNN.cpu()\n",
    "else: trainer.CNN.cuda()\n",
    "if double: trainer.CNN.double()\n",
    "else: trainer.CNN.float()"
   ]
  },
  {
   "cell_type": "code",
   "execution_count": 98,
   "metadata": {},
   "outputs": [],
   "source": [
    "v = flatten([torch.ones_like(p).normal_() for p in trainer.CNN.parameters()])\n",
    "trainData = to_gpu(next(iter(it)),double=double,cpu=cpu)\n",
    "x,y = trainData"
   ]
  },
  {
   "cell_type": "code",
   "execution_count": 12,
   "metadata": {},
   "outputs": [
    {
     "name": "stdout",
     "output_type": "stream",
     "text": [
      "4.93 ms ± 143 µs per loop (mean ± std. dev. of 7 runs, 100 loops each)\n"
     ]
    }
   ],
   "source": [
    "%timeit with torch.autograd.no_grad(): batch_loss = F.cross_entropy(trainer.CNN(x),y)"
   ]
  },
  {
   "cell_type": "code",
   "execution_count": 30,
   "metadata": {},
   "outputs": [
    {
     "name": "stdout",
     "output_type": "stream",
     "text": [
      "4.93 ms ± 186 µs per loop (mean ± std. dev. of 7 runs, 100 loops each)\n"
     ]
    }
   ],
   "source": [
    "%timeit with torch.autograd.no_grad(): batch_loss = F.cross_entropy(trainer.CNN(x),y)"
   ]
  },
  {
   "cell_type": "code",
   "execution_count": 38,
   "metadata": {},
   "outputs": [
    {
     "name": "stdout",
     "output_type": "stream",
     "text": [
      "1.59 s ± 2.45 ms per loop (mean ± std. dev. of 7 runs, 1 loop each)\n"
     ]
    }
   ],
   "source": [
    "%timeit autoFvpBatch(v, trainer.CNN, trainData)"
   ]
  },
  {
   "cell_type": "code",
   "execution_count": 37,
   "metadata": {},
   "outputs": [
    {
     "name": "stdout",
     "output_type": "stream",
     "text": [
      "33.5 ms ± 11.2 ms per loop (mean ± std. dev. of 7 runs, 1 loop each)\n"
     ]
    }
   ],
   "source": [
    "%timeit fdFvpBatch(v, trainer.CNN, trainData)"
   ]
  },
  {
   "cell_type": "code",
   "execution_count": 39,
   "metadata": {},
   "outputs": [
    {
     "name": "stdout",
     "output_type": "stream",
     "text": [
      "tensor([ 1.5182e-01, -1.0647e-02, -2.3925e-02,  ...,  7.4785e-04,\n",
      "         1.7159e-03,  6.2967e-03], device='cuda:0')\n",
      "tensor([ 1.6110e-01, -9.1617e-03, -7.9964e-02,  ...,  8.5713e-04,\n",
      "         2.0166e-03,  5.0224e-03], device='cuda:0')\n"
     ]
    }
   ],
   "source": [
    "print(autoFvpBatch(v, trainer.CNN, trainData))\n",
    "print(fdFvpBatch(v, trainer.CNN, trainData))"
   ]
  },
  {
   "cell_type": "code",
   "execution_count": null,
   "metadata": {},
   "outputs": [],
   "source": [
    "%timeit q = Hvm(v,trainer.CNN,it,auto=True)"
   ]
  },
  {
   "cell_type": "code",
   "execution_count": 242,
   "metadata": {},
   "outputs": [],
   "source": [
    "v = flatten([torch.ones_like(p).normal_() for p in trainer.CNN.parameters()])\n",
    "q = Fvm2(v,trainer.CNN,it,auto=True)"
   ]
  },
  {
   "cell_type": "code",
   "execution_count": 248,
   "metadata": {},
   "outputs": [],
   "source": [
    "q2  = Fvm2(v.float(),trainer.CNN,it,auto=True)"
   ]
  },
  {
   "cell_type": "code",
   "execution_count": 249,
   "metadata": {},
   "outputs": [
    {
     "data": {
      "text/plain": [
       "tensor(1.00000e-04 *\n",
       "       1.7901, dtype=torch.float64, device='cuda:0')"
      ]
     },
     "execution_count": 249,
     "metadata": {},
     "output_type": "execute_result"
    }
   ],
   "source": [
    "(q-q2.double()).norm()/q.norm()"
   ]
  },
  {
   "cell_type": "code",
   "execution_count": 250,
   "metadata": {},
   "outputs": [],
   "source": [
    "allfdiffs = []\n",
    "if not double: v1 = v.float()\n",
    "else: v1 = v\n",
    "#print(q)\n",
    "fdiffs = []\n",
    "for eps in epsValues:\n",
    "    qq = Fvm2(v1,trainer.CNN,it,eps=float(eps), auto=False).double()\n",
    "    fdiffs.append(float((qq-q).norm().cpu()/q.norm().cpu()))\n",
    "    #fdiffs.append(1- torch.abs(qq@q)/(qq.norm()*q.norm()))\n",
    "    #print(qq)\n",
    "allfdiffs.append(fdiffs)\n",
    "allfdiffs = np.array(allfdiffs)"
   ]
  },
  {
   "cell_type": "code",
   "execution_count": 211,
   "metadata": {},
   "outputs": [],
   "source": [
    "#ad = allfdiffs # Double precision"
   ]
  },
  {
   "cell_type": "code",
   "execution_count": 215,
   "metadata": {},
   "outputs": [],
   "source": [
    "#ad2 = allfdiffs # Single Precision"
   ]
  },
  {
   "cell_type": "code",
   "execution_count": 251,
   "metadata": {},
   "outputs": [
    {
     "data": {
      "text/plain": [
       "array([[1.16379366e+03, 1.77123080e+02, 1.18153517e+01, 9.17168508e-01,\n",
       "        1.34437572e-01, 1.19108776e-02, 3.02836371e-02, 1.33633850e-01,\n",
       "        8.36641054e-01,            nan]])"
      ]
     },
     "execution_count": 251,
     "metadata": {},
     "output_type": "execute_result"
    }
   ],
   "source": [
    "allfdiffs # Single Precision with Trick"
   ]
  },
  {
   "cell_type": "code",
   "execution_count": 224,
   "metadata": {},
   "outputs": [
    {
     "data": {
      "text/plain": [
       "array([[2.75798942e+02, 1.93232499e+01, 1.91085105e+00, 2.79547559e-01,\n",
       "        4.12826857e-02, 7.03478842e-03, 2.97355647e-02, 3.70081092e-01,\n",
       "        9.94238023e-01, 9.99830428e-01]])"
      ]
     },
     "execution_count": 224,
     "metadata": {},
     "output_type": "execute_result"
    }
   ],
   "source": [
    "allfdiffs"
   ]
  },
  {
   "cell_type": "code",
   "execution_count": 232,
   "metadata": {},
   "outputs": [
    {
     "name": "stderr",
     "output_type": "stream",
     "text": [
      "/home/maf388/libs/anaconda3/lib/python3.6/site-packages/matplotlib/scale.py:111: RuntimeWarning: invalid value encountered in less_equal\n",
      "  out[a <= 0] = -1000\n"
     ]
    },
    {
     "data": {
      "image/png": "[encoded data removed]",
      "text/plain": [
       "<matplotlib.figure.Figure at 0x7fa49822be10>"
      ]
     },
     "metadata": {},
     "output_type": "display_data"
    }
   ],
   "source": [
    "f = plt.figure()\n",
    "plt.style.use('ggplot')\n",
    "plt.xscale(\"log\", nonposx='clip')\n",
    "plt.yscale(\"log\")#, nonposy='clip')\n",
    "plt.gca().invert_xaxis()\n",
    "# for i in range(len(derivStencils)):\n",
    "#     means = alldiffs.mean(0)[i]\n",
    "#     stds = alldiffs.std(0)[i]\n",
    "#     p=plt.plot(epsValues, means)\n",
    "p = plt.plot(epsValues, ad2.mean(0), label = \"Single Precision\")\n",
    "p = plt.plot(epsValues, allfdiffs.mean(0), label = \"Single Precision + Trick\")\n",
    "p = plt.plot(epsValues,5e-6*np.ones(len(epsValues)),color='k', label=\"Single Precision Autograd\")\n",
    "p0 = plt.plot(epsValues, ad.mean(0),label=\"Double Precision\")\n",
    "\n",
    "    #plt.fill_between(epsValues,means-stds,means+stds,alpha=0.2,color=p[0].get_color())\n",
    "plt.ylabel(\"Relative error\")\n",
    "plt.xlabel(r'$\\epsilon$')\n",
    "#plt.legend(['order {}'.format(o) for o in derivStencilOrders].append(\"fd2\"))\n",
    "plt.title(\"Fisher vector product (w/ KL FD)\")\n",
    "plt.legend(loc = 3)\n",
    "f.savefig(\"F_mvm_fd_trick.pdf\", bbox_inches='tight')"
   ]
  },
  {
   "cell_type": "code",
   "execution_count": null,
   "metadata": {},
   "outputs": [],
   "source": []
  },
  {
   "cell_type": "code",
   "execution_count": null,
   "metadata": {},
   "outputs": [],
   "source": [
    "e =torch.load(\"feigs.t\");el =torch.load(\"feigs_l.t\") #auto"
   ]
  },
  {
   "cell_type": "code",
   "execution_count": null,
   "metadata": {},
   "outputs": [],
   "source": [
    "e1 =torch.load(\"feigs.t\");e1l =torch.load(\"feigs_l.t\") #fd eps=1e-1"
   ]
  },
  {
   "cell_type": "code",
   "execution_count": null,
   "metadata": {},
   "outputs": [],
   "source": [
    "#plt.axhline(0,color='k')\n",
    "plt.plot(e[e.argsort()[::-1]])\n",
    "plt.plot(el[el.argsort()[::-1]])\n",
    "plt.legend([\"linear CG\", \"Lanczos\"])\n",
    "plt.title(\"Eigenvalues\")"
   ]
  },
  {
   "cell_type": "code",
   "execution_count": null,
   "metadata": {},
   "outputs": [],
   "source": [
    "alldiffs = []\n",
    "for _ in range(trials):\n",
    "    v = flatten([torch.ones_like(p).normal_() for p in trainer.CNN.parameters()])\n",
    "    q = Fvm(v,trainer.CNN,it,auto=True)\n",
    "    diffs = []\n",
    "    for stencil in derivStencils:\n",
    "        diff = []\n",
    "        for eps in epsValues:\n",
    "            qq = Fvm(v,trainer.CNN,it,eps=float(eps),stencil=stencil)\n",
    "            diff.append(float((qq-q).norm().cpu())/float(q.norm().cpu()))\n",
    "        diffs.append(diff)\n",
    "    alldiffs.append(diffs)\n",
    "alldiffs = np.array(alldiffs)"
   ]
  },
  {
   "cell_type": "code",
   "execution_count": null,
   "metadata": {},
   "outputs": [],
   "source": [
    "plt.hist(e)\n",
    "plt.hist(el)"
   ]
  },
  {
   "cell_type": "code",
   "execution_count": null,
   "metadata": {},
   "outputs": [],
   "source": [
    "plt.hist(e[(e>-25000)*(e<100000)], bins=20)"
   ]
  },
  {
   "cell_type": "code",
   "execution_count": null,
   "metadata": {},
   "outputs": [],
   "source": []
  },
  {
   "cell_type": "code",
   "execution_count": null,
   "metadata": {},
   "outputs": [],
   "source": [
    "#plt.hist(eigs4[(eigs4>-25000)*(eigs4<100000)], bins=20)\n",
    "plt.hist(eigs5[(eigs5>-25000)*(eigs5<100000)], bins=30)\n",
    "plt.legend([\"fd\",\"auto\"])\n",
    "plt.show()"
   ]
  },
  {
   "cell_type": "code",
   "execution_count": null,
   "metadata": {},
   "outputs": [],
   "source": [
    "eigs5"
   ]
  },
  {
   "cell_type": "code",
   "execution_count": null,
   "metadata": {},
   "outputs": [],
   "source": [
    "i = torch.eye(10)"
   ]
  },
  {
   "cell_type": "code",
   "execution_count": null,
   "metadata": {},
   "outputs": [],
   "source": [
    "i[2,2]=3"
   ]
  },
  {
   "cell_type": "code",
   "execution_count": null,
   "metadata": {},
   "outputs": [],
   "source": [
    "e,v = torch.symeig(i, eigenvectors=True)"
   ]
  },
  {
   "cell_type": "code",
   "execution_count": null,
   "metadata": {},
   "outputs": [],
   "source": [
    "e"
   ]
  },
  {
   "cell_type": "code",
   "execution_count": null,
   "metadata": {},
   "outputs": [],
   "source": [
    "v"
   ]
  },
  {
   "cell_type": "code",
   "execution_count": null,
   "metadata": {},
   "outputs": [],
   "source": [
    "i.cuda().symeig()"
   ]
  },
  {
   "cell_type": "code",
   "execution_count": null,
   "metadata": {},
   "outputs": [],
   "source": [
    "import torch"
   ]
  },
  {
   "cell_type": "code",
   "execution_count": null,
   "metadata": {},
   "outputs": [],
   "source": [
    "a = torch.ones([32,3])\n",
    "b = torch.ones([32])"
   ]
  },
  {
   "cell_type": "code",
   "execution_count": null,
   "metadata": {},
   "outputs": [],
   "source": [
    "def partition(mbatch,k):\n",
    "    b = len(mbatch[0])\n",
    "    partitions = [[data[b*i//k:b*(i+1)//k] for data in mbatch] for i in range(k)]\n",
    "    return partitions"
   ]
  },
  {
   "cell_type": "code",
   "execution_count": null,
   "metadata": {},
   "outputs": [],
   "source": [
    "partition((a,b),2)[1][0].shape"
   ]
  },
  {
   "cell_type": "code",
   "execution_count": null,
   "metadata": {},
   "outputs": [],
   "source": [
    "a"
   ]
  }
 ],
 "metadata": {
  "kernelspec": {
   "display_name": "Python 3",
   "language": "python",
   "name": "python3"
  },
  "language_info": {
   "codemirror_mode": {
    "name": "ipython",
    "version": 3
   },
   "file_extension": ".py",
   "mimetype": "text/x-python",
   "name": "python",
   "nbconvert_exporter": "python",
   "pygments_lexer": "ipython3",
   "version": "3.6.6"
  }
 },
 "nbformat": 4,
 "nbformat_minor": 2
}
