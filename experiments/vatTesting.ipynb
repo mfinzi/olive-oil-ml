{
 "cells": [
  {
   "cell_type": "code",
   "execution_count": 1,
   "metadata": {},
   "outputs": [],
   "source": [
    "import torch, torchvision\n",
    "import torchvision.transforms as transforms\n",
    "from torch.utils.data import DataLoader\n",
    "from torchvision.datasets import CIFAR10\n",
    "\n",
    "from bgan.cnnTrainer import CnnTrainer\n",
    "from bgan.vatCnnTrainer import VatCnnTrainer\n",
    "from bgan.networkparts import layer13\n",
    "import bgan.augLayers as augLayers\n",
    "from bgan.schedules import cosLr, sigmoidConsRamp\n",
    "import torch.optim as optim\n",
    "import torch.nn as nn\n",
    "%matplotlib inline\n",
    "%load_ext autoreload\n",
    "%autoreload 2"
   ]
  },
  {
   "cell_type": "markdown",
   "metadata": {},
   "source": [
    "## CNN Configuration"
   ]
  },
  {
   "cell_type": "code",
   "execution_count": 2,
   "metadata": {},
   "outputs": [],
   "source": [
    "savedir = '/home/maf388/tb-experiments/vatTesting/'\n",
    "\n",
    "total_epochs = 1000\n",
    "opt_constr = lambda params, base_lr: optim.SGD(params, base_lr, .9, weight_decay=1e-4, nesterov=True)\n",
    "lr_lambda = cosLr(total_epochs, 1)\n",
    "\n",
    "config = {'base_lr':.1, 'amntLab':4000, \n",
    "          'lab_BS':50, 'ul_BS':50, 'num_workers':0,\n",
    "          'lr_lambda':lr_lambda, 'opt_constr':opt_constr,\n",
    "          #'advEps':32, 'entMin':False, \n",
    "          }\n",
    "\n",
    "baseCNN = layer13(numClasses=10)\n",
    "\n",
    "fullCNN = nn.Sequential(\n",
    "    augLayers.RandomTranslate(4),\n",
    "    augLayers.RandomHorizontalFlip(),\n",
    "    #augLayers.GaussianNoise(0.15),\n",
    "    baseCNN,\n",
    ")\n"
   ]
  },
  {
   "cell_type": "markdown",
   "metadata": {},
   "source": [
    "## Dataset"
   ]
  },
  {
   "cell_type": "code",
   "execution_count": 3,
   "metadata": {},
   "outputs": [
    {
     "name": "stdout",
     "output_type": "stream",
     "text": [
      "Files already downloaded and verified\n",
      "Files already downloaded and verified\n"
     ]
    }
   ],
   "source": [
    "img_size = 32\n",
    "transform_dev = transforms.Compose(\n",
    "    [transforms.Resize(img_size),\n",
    "     transforms.ToTensor(),\n",
    "     transforms.Normalize((0.4914, 0.4822, 0.4465), (0.2023, 0.1994, 0.2010))])\n",
    "\n",
    "transform_train = transform_dev\n",
    "# transform_train = transforms.Compose(\n",
    "#     [transforms.RandomCrop(32, padding=4),\n",
    "#      transforms.RandomHorizontalFlip(),\n",
    "#      transform_dev])\n",
    "\n",
    "pathToDataset = '/scratch/datasets/cifar10/'\n",
    "trainset = CIFAR10(pathToDataset, download=True, transform=transform_train)\n",
    "devset = CIFAR10(pathToDataset, train=False, download=True, transform=transform_dev)\n",
    "testset = None\n",
    "\n",
    "datasets = (trainset, devset, testset)"
   ]
  },
  {
   "cell_type": "code",
   "execution_count": 4,
   "metadata": {},
   "outputs": [],
   "source": [
    "trainer = CnnTrainer(fullCNN,datasets,savedir,**config)"
   ]
  },
  {
   "cell_type": "code",
   "execution_count": 5,
   "metadata": {
    "scrolled": true
   },
   "outputs": [],
   "source": [
    "#trainer.train(1000)"
   ]
  },
  {
   "cell_type": "code",
   "execution_count": 6,
   "metadata": {},
   "outputs": [
    {
     "data": {
      "text/plain": [
       "0.09982085987261147"
      ]
     },
     "execution_count": 6,
     "metadata": {},
     "output_type": "execute_result"
    }
   ],
   "source": [
    "trainer.getDevsetAccuracy()"
   ]
  },
  {
   "cell_type": "code",
   "execution_count": null,
   "metadata": {},
   "outputs": [],
   "source": [
    "trainer2 = VatCnnTrainer(fullCNN,datasets,savedir,**config)"
   ]
  },
  {
   "cell_type": "code",
   "execution_count": null,
   "metadata": {},
   "outputs": [],
   "source": [
    "from bgan.utils import to_var_gpu\n",
    "_,(X,_) = to_var_gpu(next(trainer2.train_iter))"
   ]
  },
  {
   "cell_type": "code",
   "execution_count": null,
   "metadata": {},
   "outputs": [],
   "source": [
    "import matplotlib.pyplot as plt\n",
    "import numpy as np\n",
    "import torchvision.utils as vutils\n",
    "def show(img):\n",
    "    npimg = img.numpy()\n",
    "    plt.imshow(np.transpose(npimg, (1,2,0)), interpolation='nearest')\n",
    "grid = vutils.make_grid(X.cpu().data,normalize=True,range=(-2.5,2.5))\n",
    "show(grid)"
   ]
  },
  {
   "cell_type": "code",
   "execution_count": null,
   "metadata": {},
   "outputs": [],
   "source": [
    "from bgan.vatCnnTrainer import kl_div_withlogits, _l2_normalize, norm\n",
    "from torch.autograd import Variable\n",
    "\n",
    "eps = 32\n",
    "adv = trainer2.getAdvPert(trainer2.CNN, X)\n",
    "x_adv = X+eps*adv\n",
    "rp = Variable(_l2_normalize(torch.randn(X.size())).cuda(),requires_grad=False)\n",
    "x_rp = X+eps*rp\n",
    "grid = vutils.make_grid(x_adv.cpu().data,normalize=True,range=(-2.5,2.5))\n",
    "show(grid)"
   ]
  },
  {
   "cell_type": "code",
   "execution_count": null,
   "metadata": {},
   "outputs": [],
   "source": [
    "trainer2.CNN.train(False)\n",
    "\n",
    "logits = trainer2.CNN(X)\n",
    "logits_adv = trainer2.CNN(x_adv)\n",
    "logits_rnd = trainer2.CNN(x_rp)\n",
    "adv_kl = kl_div_withlogits(logits.detach(), logits_adv)\n",
    "random_kl = kl_div_withlogits(logits.detach(), logits_rnd)\n",
    "print(\"kls %.4E, %.4E\"%(adv_kl,random_kl))"
   ]
  },
  {
   "cell_type": "code",
   "execution_count": null,
   "metadata": {},
   "outputs": [],
   "source": []
  },
  {
   "cell_type": "code",
   "execution_count": null,
   "metadata": {},
   "outputs": [],
   "source": []
  }
 ],
 "metadata": {
  "kernelspec": {
   "display_name": "Python 3",
   "language": "python",
   "name": "python3"
  },
  "language_info": {
   "codemirror_mode": {
    "name": "ipython",
    "version": 3
   },
   "file_extension": ".py",
   "mimetype": "text/x-python",
   "name": "python",
   "nbconvert_exporter": "python",
   "pygments_lexer": "ipython3",
   "version": "3.5.4"
  }
 },
 "nbformat": 4,
 "nbformat_minor": 2
}
