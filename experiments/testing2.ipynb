{
 "cells": [
  {
   "cell_type": "code",
   "execution_count": 59,
   "metadata": {},
   "outputs": [
    {
     "name": "stdout",
     "output_type": "stream",
     "text": [
      "The autoreload extension is already loaded. To reload it, use:\n",
      "  %reload_ext autoreload\n"
     ]
    }
   ],
   "source": [
    "import os\n",
    "os.environ[\"CUDA_DEVICE_ORDER\"]=\"PCI_BUS_ID\"   # see issue #152\n",
    "os.environ[\"CUDA_VISIBLE_DEVICES\"]=\"2\"\n",
    "import torch, torchvision\n",
    "import torch.optim as optim\n",
    "import torch.nn as nn\n",
    "import torch.nn.functional as F\n",
    "import numpy as np\n",
    "import scipy as sp\n",
    "import scipy.linalg\n",
    "import matplotlib.pyplot as plt\n",
    "import glob\n",
    "from itertools import accumulate, starmap, islice\n",
    "import pandas as pd\n",
    "from copy import deepcopy\n",
    "from mpmath import mp; mp.dps = 120; mp.prec =300\n",
    "from oil.utils.utils import multiGen, cur\n",
    "from oil.utils.utils import cosLr\n",
    "from oil.extra.eigen2 import oja_grad,oja_grad2, SGHA_grad,SGHA_grad2, GradLoader\n",
    "from oil.extra.eigen2 import SGD,SVRG, H_gen\n",
    "#from oil.extra.mvm import flatten, unflatten_like, autoHvpBatch, autoFvpBatch\n",
    "\n",
    "%matplotlib inline\n",
    "%load_ext autoreload\n",
    "%autoreload 2"
   ]
  },
  {
   "cell_type": "code",
   "execution_count": 60,
   "metadata": {},
   "outputs": [],
   "source": [
    "float_type = np.float64\n",
    "## Toy Problem 2 for stochastic eigen decomposition\n",
    "## PCA\n",
    "mb = 1000\n",
    "rank = 100\n",
    "n = int(1e6)\n",
    "toy_eigs2 = np.sqrt(.9*np.ones(rank))\n",
    "toy_eigs2[0] = 1\n",
    "toy_eigs2[:10] = np.array([1.1,.95,.7,.5,.3,.01,.001,-.4,-.7,-.94]).astype(np.float32)\n",
    "S = np.diag(toy_eigs2)\n",
    "#U = torch.ones(rank,1e6).normal_().numpy()\n",
    "U = np.random.randn(n,rank).astype(float_type)\n",
    "U,_ = np.linalg.qr(U)\n",
    "V = np.random.randn(rank,rank).astype(float_type)\n",
    "V,_ = np.linalg.qr(V)\n",
    "#V = V.astype(np.float64)\n",
    "X = (np.sqrt(n)*U@S@V.T).astype(float_type)\n",
    "cov = X.T@X/n\n",
    "\n",
    "index = toy_eigs2.argmax()\n",
    "v = V.T[index]\n",
    "\n",
    "def toy_A():\n",
    "    indices = np.random.permutation(n).reshape(n//mb,mb)\n",
    "    for batch_ids in indices:\n",
    "        m = len(batch_ids)\n",
    "        x = X[batch_ids]\n",
    "        yield [lambda v: (1/m)*x.T@(x@v)]\n",
    "        \n",
    "grads = GradLoader(oja_grad, multiGen(toy_A))"
   ]
  },
  {
   "cell_type": "code",
   "execution_count": 61,
   "metadata": {},
   "outputs": [],
   "source": [
    "sins = []\n",
    "lrs = []\n",
    "grad_norms = []\n",
    "ws = []\n",
    "sin_pair = lambda u, w: 1-((u@w)**2 /((w@w)*(u@u)))\n",
    "sin2 = lambda w: sin_pair(v,w)\n",
    "sin2 = lambda w: np.linalg.norm(v-w/np.linalg.norm(w))\n",
    "def grad_norm(w):\n",
    "    Aw = cov@w\n",
    "    grad = Aw - (w@Aw)*w\n",
    "    return np.linalg.norm(grad)\n",
    "\n",
    "log = lambda w,lrr,_: (sins.append(sin2(w)),grad_norms.append(grad_norm(w)),\n",
    "                       lrs.append(lrr),ws.append(w))"
   ]
  },
  {
   "cell_type": "code",
   "execution_count": 62,
   "metadata": {},
   "outputs": [],
   "source": [
    "w0 = np.random.randn(rank)\n",
    "w0 /= np.linalg.norm(w0)\n",
    "\n",
    "lr = lambda e: .3*.05#*2e-1*cosLr(num_epochs)(e)\n",
    "num_epochs = 10\n",
    "\n",
    "w = SVRG(grads,w0,lr,num_epochs,log)"
   ]
  },
  {
   "cell_type": "code",
   "execution_count": 58,
   "metadata": {},
   "outputs": [
    {
     "data": {
      "image/png": "[encoded data removed]",
      "text/plain": [
       "<matplotlib.figure.Figure at 0x7f1cc7295208>"
      ]
     },
     "metadata": {},
     "output_type": "display_data"
    }
   ],
   "source": [
    "w_avgs = list(starmap(lambda a,b: b/a, enumerate(accumulate(ws[int(1.5*len(sins)/4):]), 1)))\n",
    "avg_sins = [sin2(w) for w in w_avgs]\n",
    "colors = ['olive', 'teal', 'darkred']\n",
    "plt.style.use('ggplot')\n",
    "f = plt.figure()\n",
    "plt.plot(sins, lw=2,color=colors[2])\n",
    "plt.plot(lrs,color=colors[1])\n",
    "#plt.plot(np.arange(len(sins))[-len(avg_sins):], np.array(avg_sins))\n",
    "plt.plot(grad_norms, lw=2, color=colors[0])\n",
    "plt.plot(np.finfo(np.float64).eps*np.ones(len(sins)),color='k')\n",
    "plt.yscale('log')\n",
    "plt.ylabel('Relative Error',fontsize=14)\n",
    "plt.xlabel(\"Iterations\",fontsize=14)\n",
    "#plt.xscale('log')\n",
    "#plt.axhline(y=2.22e-16,label = r\"Machine $\\epsilon$\",color='k')\n",
    "#plt.axhline(y=2.22e-16,label = r\"Machine $\\epsilon$\",color='k')\n",
    "plt.legend([r\"$|\\sin|$\", \"lr\",#r\"SWA_$|\\sin|$\",\n",
    "            r\"$||\\nabla L||$\",r\"Machine $\\epsilon$\"],loc=3,fontsize=14)\n",
    "#plt.title(\"Top Eigenvector with Oja+SVRG\")\n",
    "plt.xticks(fontsize=14)\n",
    "plt.yticks(fontsize=14)\n",
    "f.savefig(\"Oja_convergence.pdf\", bbox_inches='tight')"
   ]
  },
  {
   "cell_type": "code",
   "execution_count": null,
   "metadata": {},
   "outputs": [],
   "source": [
    "## Toy Problem 3 for stochastic generalized eigen problem\n",
    "## PCA\n",
    "mb = 1000\n",
    "rank = 10\n",
    "n = int(1e5)\n",
    "\n",
    "#ideal_diag = np.abs(np.diag(2*np.random.randn(rank)+.5))# np.abs(np.eye(rank))#\n",
    "ideal_diag = np.abs(np.eye(rank))\n",
    "R = np.random.randn(rank,rank)\n",
    "R,_ = np.linalg.qr(R)\n",
    "B_ideal = R.T@ideal_diag@R\n",
    "\n",
    "Y = np.random.multivariate_normal(np.zeros(rank),B_ideal,n)\n",
    "B = Y.T@Y/n\n",
    "\n",
    "toy_eigs3 = np.sqrt(.9*np.ones(rank))\n",
    "#toy_eigs3[0] = 1\n",
    "toy_eigs3[:10] = np.array([1.1,.95,.7,.5,.3,.01,.001,.4,.7,.94])\n",
    "S = np.diag(toy_eigs3)\n",
    "#U = torch.ones(rank,1e6).normal_().numpy()\n",
    "U = np.random.randn(n,rank)\n",
    "U,_ = np.linalg.qr(U)\n",
    "V = np.random.randn(rank,rank)\n",
    "V,_ = np.linalg.qr(V)\n",
    "invSqrtB = sp.linalg.fractional_matrix_power(B,-1/2)\n",
    "V = invSqrtB@V # So that V.T@B@V = I (B orthogonal)\n",
    "X = (np.sqrt(n)*U@S@(B@V).T)\n",
    "A = X.T@X/n\n",
    "index = toy_eigs3.argmax()\n",
    "v = V.T[index]\n",
    "v = v/np.sqrt(v@B@v)\n",
    "def toy_AB1():\n",
    "    indices = np.random.permutation(n).reshape(n//mb,mb)\n",
    "    for batch_ids in indices:\n",
    "        m = len(batch_ids)\n",
    "        x = X[batch_ids]; At = lambda v: (1/m)*x.T@(x@v)\n",
    "        y = Y[batch_ids]; Bt = lambda v: (1/m)*y.T@(y@v)\n",
    "        yield [At, Bt]\n",
    "\n",
    "def toy_AB2():\n",
    "    Bt_ = lambda v: B@v\n",
    "    indices = np.random.permutation(n).reshape(n//mb,mb)\n",
    "    for batch_ids in indices:\n",
    "        m = len(batch_ids)\n",
    "        x = X[batch_ids]; At = lambda v: (1/m)*x.T@(x@v)\n",
    "        y = Y[batch_ids]; Bt = lambda v: (1/m)*y.T@(y@v)\n",
    "        yield [At,Bt,Bt_]\n",
    "        Bt_ = deepcopy(Bt)\n",
    "        \n",
    "grads = GradLoader(SGHA_grad, multiGen(toy_AB1))"
   ]
  },
  {
   "cell_type": "code",
   "execution_count": null,
   "metadata": {},
   "outputs": [],
   "source": [
    "sins = []\n",
    "lrs = []\n",
    "grad_norms = []\n",
    "ws = []\n",
    "#sin_pair = lambda u, w: 1-(u@B@w)**2 /((w@B@w)*(u@B@u))\n",
    "#sin2 = lambda w: np.sqrt(sin_pair(v,w))\n",
    "sin = lambda w: np.linalg.norm(v-w/np.sqrt(w@B@w))\n",
    "cos = lambda u,w: (u/np.sqrt(u@B@u))@B@(w/np.sqrt(w@B@w))\n",
    "#sin = lambda w: np.float64(mp.sqrt(mp.fabs(mp.mpf(1)-mp.mpf(str(cos(v,w)))**2)))\n",
    "#sin = lambda w: np.sqrt(np.abs(1 - cos(v,w)**2))\n",
    "def grad_norm(w):\n",
    "    Aw = A@w\n",
    "    grad = Aw - (w@Aw)*B@w\n",
    "    return np.linalg.norm(grad)\n",
    "\n",
    "log = lambda w,lrr,g: (sins.append(sin(w)),grad_norms.append(grad_norm(w)),\n",
    "                       lrs.append(lrr),ws.append(w))"
   ]
  },
  {
   "cell_type": "code",
   "execution_count": null,
   "metadata": {},
   "outputs": [],
   "source": [
    "w0 = np.random.randn(rank)\n",
    "w0 /= np.sqrt(w0@B@w0)\n",
    "\n",
    "lr = lambda e: 1e-1#*cosLr(num_epochs)(e)\n",
    "num_epochs = 15\n",
    "\n",
    "w = SVRG(grads,w0,lr,num_epochs,log)\n",
    "w /= np.sqrt(w@B@w)"
   ]
  },
  {
   "cell_type": "code",
   "execution_count": null,
   "metadata": {},
   "outputs": [],
   "source": [
    "w_avgs = list(starmap(lambda a,b: b/a, enumerate(accumulate(ws[int(1.5*len(sins)/4):]), 1)))\n",
    "avg_sins = [sin2(w) for w in w_avgs]\n",
    "colors = ['olive', 'teal', 'darkred']\n",
    "plt.style.use('ggplot')\n",
    "f = plt.figure()\n",
    "plt.plot(sins, lw=2,color=colors[2])\n",
    "#plt.plot(lrs,color=colors[1])\n",
    "#plt.plot(np.arange(len(sins))[-len(avg_sins):], np.array(avg_sins))\n",
    "plt.plot(grad_norms, lw=2, color=colors[0])\n",
    "plt.plot(np.finfo(np.float64).eps*np.ones(len(sins)),color='k')\n",
    "plt.yscale('log')\n",
    "plt.ylabel('Relative Error',fontsize=14)\n",
    "plt.xlabel(\"Iterations\",fontsize=14)\n",
    "#plt.xscale('log')\n",
    "#plt.axhline(y=2.22e-16,label = r\"Machine $\\epsilon$\",color='k')\n",
    "#plt.axhline(y=2.22e-16,label = r\"Machine $\\epsilon$\",color='k')\n",
    "plt.legend([r\"$|\\sin|$\",# \"lr\",#r\"SWA_$|\\sin|$\",\n",
    "            r\"$||\\nabla L||$\",r\"Machine $\\epsilon$\"],loc=3,fontsize=14)\n",
    "#plt.title(\"Top Eigenvector with Oja+SVRG\")\n",
    "plt.xticks(fontsize=14)\n",
    "plt.yticks(fontsize=14)\n",
    "f.savefig(\"SGHA_convergence.pdf\", bbox_inches='tight')\n",
    "plt.title(\"Top Generalized Eigenvector with SGHA+SVRG\")"
   ]
  },
  {
   "cell_type": "code",
   "execution_count": null,
   "metadata": {},
   "outputs": [],
   "source": [
    "from oil.cnnTrainer import CnnTrainer\n",
    "from oil.datasets import CIFAR10, C10augLayers\n",
    "from oil.networkparts import layer13, ConvSmallNWN"
   ]
  },
  {
   "cell_type": "code",
   "execution_count": null,
   "metadata": {},
   "outputs": [],
   "source": [
    "train_epochs = 150\n",
    "net_config =        {'numClasses':10}\n",
    "opt_config =        {'lr':.1, 'momentum':.9, 'weight_decay':1e-4, 'nesterov':True}\n",
    "sched_config =      {'cycle_length':train_epochs,'cycle_mult':1}\n",
    "trainer_config =    {'amntLab':1, 'amntDev':5000,'dataseed':0,\n",
    "                    'lab_BS':50, 'num_workers':4, 'log':False, \n",
    "                    }\n",
    "trainer_config['description'] = \"13Layer network, {} dev\".format(trainer_config['amntDev'])\n",
    "savedir = None#'/home/maf388/tb-experiments/layer13dev/'\n",
    "\n",
    "def makeTrainer():\n",
    "    CNN = ConvSmallNWN(**net_config)\n",
    "    fullCNN = nn.Sequential(C10augLayers(),CNN)\n",
    "    datasets = CIFAR10(aug=False)\n",
    "    opt_constr = lambda params: optim.SGD(params, **opt_config)\n",
    "    lr_lambda = cosLr(**sched_config)\n",
    "    return CnnTrainer(fullCNN, datasets, opt_constr, lr_lambda, **trainer_config)"
   ]
  },
  {
   "cell_type": "code",
   "execution_count": null,
   "metadata": {},
   "outputs": [],
   "source": [
    "trainer = makeTrainer()\n",
    "trainer.load_checkpoint('/home/maf388/tb-experiments/layer13nwn/checkpoints/c.150.ckpt')\n",
    "_ = trainer.CNN.eval()\n",
    "trainer.getAccuracy(trainer.dev)"
   ]
  },
  {
   "cell_type": "code",
   "execution_count": null,
   "metadata": {},
   "outputs": [],
   "source": [
    "import inspect"
   ]
  },
  {
   "cell_type": "code",
   "execution_count": null,
   "metadata": {},
   "outputs": [],
   "source": [
    "inspect.getcallargs(trainer.__init__)"
   ]
  },
  {
   "cell_type": "code",
   "execution_count": null,
   "metadata": {},
   "outputs": [],
   "source": [
    "class myslice(object):\n",
    "    def __init__(self, dataloader, k):\n",
    "        self.k = k\n",
    "        self.dloader = dataloader\n",
    "    def __iter__(self):\n",
    "        return islice(iter(self.dloader),self.k)"
   ]
  },
  {
   "cell_type": "code",
   "execution_count": null,
   "metadata": {},
   "outputs": [],
   "source": [
    "lrs = []\n",
    "grad_norms = []\n",
    "i = 0\n",
    "def grad_norm(w):\n",
    "    Aw = A@w\n",
    "    grad = Aw - (w@Aw)*B@w\n",
    "    return np.linalg.norm(grad)\n",
    "\n",
    "def log(w,lr,full_grad):\n",
    "    global i\n",
    "    i+=1\n",
    "    if i%10==0:\n",
    "        lrs.append(lr)\n",
    "        grad_norms.append(full_grad.norm())\n",
    "    pass\n",
    "#train_loader = myslice(trainer.train_iter,10)\n",
    "train_loader = myslice(trainer.dev,5)\n",
    "H_loader = multiGen(lambda:H_gen(train_loader,trainer.CNN))\n",
    "grads = GradLoader(oja_grad2,H_loader)"
   ]
  },
  {
   "cell_type": "code",
   "execution_count": null,
   "metadata": {},
   "outputs": [],
   "source": [
    "for k in train_loader:\n",
    "    pass#print(k)"
   ]
  },
  {
   "cell_type": "code",
   "execution_count": null,
   "metadata": {},
   "outputs": [],
   "source": [
    "p = flatten(trainer.CNN.parameters())\n",
    "w0 = torch.zeros_like(p)\n",
    "w0.normal_()\n",
    "w0 = w0/w0.norm()\n",
    "lr = lambda e: 1e-4#*cosLr(num_epochs)(e)\n",
    "num_epochs = 10\n",
    "\n",
    "w = SVRG(grads,w0,lr,num_epochs,log)\n",
    "lam = w@w\n",
    "w /= w.norm()"
   ]
  },
  {
   "cell_type": "code",
   "execution_count": null,
   "metadata": {},
   "outputs": [],
   "source": [
    "grad_norms"
   ]
  },
  {
   "cell_type": "code",
   "execution_count": null,
   "metadata": {},
   "outputs": [],
   "source": [
    "plt.plot(lrs)\n",
    "plt.plot(grad_norms)\n",
    "plt.plot(np.finfo(np.float64).eps*np.ones(len(lrs)),color='k')\n",
    "plt.yscale('log')\n",
    "plt.ylabel('Relative Error')\n",
    "plt.xlabel(\"Iterations\")\n",
    "#plt.xscale('log')\n",
    "plt.legend([\"lr\",r\"$||\\nabla L||$\",r\"Machine $\\epsilon$\"],loc=3)"
   ]
  },
  {
   "cell_type": "code",
   "execution_count": null,
   "metadata": {},
   "outputs": [],
   "source": [
    "w@B@v"
   ]
  },
  {
   "cell_type": "code",
   "execution_count": null,
   "metadata": {},
   "outputs": [],
   "source": [
    "w@A@w"
   ]
  },
  {
   "cell_type": "code",
   "execution_count": null,
   "metadata": {},
   "outputs": [],
   "source": [
    "print(q)"
   ]
  },
  {
   "cell_type": "code",
   "execution_count": null,
   "metadata": {},
   "outputs": [],
   "source": [
    "import torch"
   ]
  },
  {
   "cell_type": "code",
   "execution_count": null,
   "metadata": {},
   "outputs": [],
   "source": [
    "if torch.Tensor: print(\"hello\")"
   ]
  },
  {
   "cell_type": "code",
   "execution_count": null,
   "metadata": {},
   "outputs": [],
   "source": []
  }
 ],
 "metadata": {
  "kernelspec": {
   "display_name": "Python 3",
   "language": "python",
   "name": "python3"
  },
  "language_info": {
   "codemirror_mode": {
    "name": "ipython",
    "version": 3
   },
   "file_extension": ".py",
   "mimetype": "text/x-python",
   "name": "python",
   "nbconvert_exporter": "python",
   "pygments_lexer": "ipython3",
   "version": "3.6.4"
  }
 },
 "nbformat": 4,
 "nbformat_minor": 2
}
