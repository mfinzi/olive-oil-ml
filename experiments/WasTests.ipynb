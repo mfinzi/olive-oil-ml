{
 "cells": [
  {
   "cell_type": "code",
   "execution_count": 1,
   "metadata": {},
   "outputs": [],
   "source": [
    "import torch, torchvision\n",
    "import torchvision.transforms as transforms\n",
    "from torch.utils.data import DataLoader\n",
    "from torchvision.datasets import CIFAR10\n",
    "\n",
    "from bgan.cnnTrainer import CnnTrainer\n",
    "from bgan.wcnnTrainer import WcnnTrainer\n",
    "from bgan.networkparts import *\n",
    "\n",
    "%matplotlib inline\n",
    "%load_ext autoreload\n",
    "%autoreload 2"
   ]
  },
  {
   "cell_type": "markdown",
   "metadata": {},
   "source": [
    "## CNN Configuration"
   ]
  },
  {
   "cell_type": "code",
   "execution_count": 2,
   "metadata": {},
   "outputs": [],
   "source": [
    "savedir = '/scratch/maf388/experiments/wassCnn4000l/'\n",
    "config = {'lr':1e-4, 'amntLab':4000, \n",
    "          'lab_BS':32, 'ul_BS':32,\n",
    "          'gpscale':10, 'dirparam':1}\n",
    "cnn = BadGanDbn(d=96, numClasses=10)"
   ]
  },
  {
   "cell_type": "markdown",
   "metadata": {},
   "source": [
    "## Dataset"
   ]
  },
  {
   "cell_type": "code",
   "execution_count": 3,
   "metadata": {},
   "outputs": [
    {
     "name": "stdout",
     "output_type": "stream",
     "text": [
      "Files already downloaded and verified\n",
      "Files already downloaded and verified\n"
     ]
    }
   ],
   "source": [
    "img_size = 32\n",
    "transform_dev = transforms.Compose(\n",
    "    [transforms.Resize(img_size),\n",
    "     transforms.ToTensor(),\n",
    "     transforms.Normalize((0.4914, 0.4822, 0.4465), (0.2023, 0.1994, 0.2010))])\n",
    "\n",
    "transform_train = transform_dev\n",
    "# transform_train = transforms.Compose(\n",
    "#     [transforms.RandomCrop(32, padding=4),\n",
    "#      transforms.RandomHorizontalFlip(),\n",
    "#      transform_dev])\n",
    "\n",
    "pathToDataset = '/scratch/maf388/datasets/cifar10/'\n",
    "trainset = CIFAR10(pathToDataset, download=True, transform=transform_train)\n",
    "devset = CIFAR10(pathToDataset, train=False, download=True, transform=transform_dev)\n",
    "testset = None\n",
    "\n",
    "datasets = (trainset, devset, testset)"
   ]
  },
  {
   "cell_type": "code",
   "execution_count": null,
   "metadata": {},
   "outputs": [],
   "source": [
    "trainer = WcnnTrainer(cnn,datasets,savedir,**config)"
   ]
  },
  {
   "cell_type": "code",
   "execution_count": null,
   "metadata": {
    "scrolled": true
   },
   "outputs": [
    {
     "name": "stdout",
     "output_type": "stream",
     "text": [
      "[  0/640][     0/80000] Train_Acc: 0.031 Val_Acc: 0.109 Training_Loss: 6.142 \n",
      "[  8/640][  1000/80000] Train_Acc: 0.094 Val_Acc: 0.141 Training_Loss: 2.315 \n",
      "[ 16/640][  2000/80000] Train_Acc: 0.219 Val_Acc: 0.219 Training_Loss: 1.048 \n",
      "[ 24/640][  3000/80000] Train_Acc: 0.219 Val_Acc: 0.078 Training_Loss: -0.522 \n",
      "[ 32/640][  4000/80000] Train_Acc: 0.156 Val_Acc: 0.328 Training_Loss: -1.977 \n"
     ]
    }
   ],
   "source": [
    "trainer.train(640)"
   ]
  },
  {
   "cell_type": "code",
   "execution_count": null,
   "metadata": {},
   "outputs": [],
   "source": [
    "trainer.CNN.training"
   ]
  },
  {
   "cell_type": "code",
   "execution_count": null,
   "metadata": {},
   "outputs": [],
   "source": []
  }
 ],
 "metadata": {
  "kernelspec": {
   "display_name": "Python 3",
   "language": "python",
   "name": "python3"
  },
  "language_info": {
   "codemirror_mode": {
    "name": "ipython",
    "version": 3
   },
   "file_extension": ".py",
   "mimetype": "text/x-python",
   "name": "python",
   "nbconvert_exporter": "python",
   "pygments_lexer": "ipython3",
   "version": "3.5.4"
  }
 },
 "nbformat": 4,
 "nbformat_minor": 2
}
