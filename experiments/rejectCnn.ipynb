{
 "cells": [
  {
   "cell_type": "code",
   "execution_count": 1,
   "metadata": {},
   "outputs": [],
   "source": [
    "import torch, torchvision\n",
    "import torch.optim as optim\n",
    "\n",
    "from bgan.cnnTrainer import CnnTrainer\n",
    "from bgan.datasets import CIFAR10\n",
    "from bgan.networkparts import layer13\n",
    "from bgan.schedules import cosLr, sigmoidConsRamp\n",
    "\n",
    "%matplotlib inline\n",
    "%load_ext autoreload\n",
    "%autoreload 2"
   ]
  },
  {
   "cell_type": "markdown",
   "metadata": {},
   "source": [
    "## CNN Configuration"
   ]
  },
  {
   "cell_type": "code",
   "execution_count": 2,
   "metadata": {},
   "outputs": [
    {
     "name": "stdout",
     "output_type": "stream",
     "text": [
      "Files already downloaded and verified\n",
      "Files already downloaded and verified\n"
     ]
    }
   ],
   "source": [
    "savedir = '/home/maf388/tb-experiments/rejectCnnFull/'\n",
    "load_path = '/home/maf388/tb-experiments/rejectCnnFull/checkpoints/c.499.ckpt'\n",
    "total_epochs = 500\n",
    "opt_constr = lambda params, base_lr: optim.SGD(params, base_lr, .9, weight_decay=1e-4, nesterov=True)\n",
    "lr_lambda = cosLr(total_epochs, 1)\n",
    "\n",
    "config = {'base_lr':.1, 'amntLab':1, \n",
    "          'lab_BS':50, 'ul_BS':50, 'num_workers':2,\n",
    "          'lr_lambda':lr_lambda, 'opt_constr':opt_constr,\n",
    "          }\n",
    "\n",
    "CNN = layer13(numClasses=10)\n",
    "datasets = CIFAR10(aug=True)"
   ]
  },
  {
   "cell_type": "code",
   "execution_count": 3,
   "metadata": {},
   "outputs": [
    {
     "name": "stdout",
     "output_type": "stream",
     "text": [
      "=> loading checkpoint '/home/maf388/tb-experiments/rejectCnnFull/checkpoints/c.499.ckpt'\n"
     ]
    }
   ],
   "source": [
    "trainer = CnnTrainer(CNN, datasets, savedir, load_path, **config)"
   ]
  },
  {
   "cell_type": "code",
   "execution_count": null,
   "metadata": {
    "scrolled": true
   },
   "outputs": [],
   "source": [
    "# trainer.train(total_epochs)\n",
    "# trainer.save_checkpoint()"
   ]
  },
  {
   "cell_type": "code",
   "execution_count": null,
   "metadata": {},
   "outputs": [],
   "source": [
    "trainer.getDevsetAccuracy()"
   ]
  },
  {
   "cell_type": "code",
   "execution_count": null,
   "metadata": {},
   "outputs": [],
   "source": [
    "#trainer.constSWA(50, lr=1e-3)"
   ]
  },
  {
   "cell_type": "code",
   "execution_count": null,
   "metadata": {},
   "outputs": [],
   "source": [
    "#trainer.CNN.load_state_dict(trainer.SWA.state_dict())\n",
    "#trainer.getDevsetAccuracy()"
   ]
  },
  {
   "cell_type": "code",
   "execution_count": 4,
   "metadata": {},
   "outputs": [],
   "source": [
    "import matplotlib.pyplot as plt\n",
    "import numpy as np\n",
    "from bgan.utils import to_var_gpu"
   ]
  },
  {
   "cell_type": "code",
   "execution_count": 5,
   "metadata": {},
   "outputs": [],
   "source": [
    "trainer.CNN.train(False)\n",
    "max_logits = np.zeros(10000)\n",
    "i=0\n",
    "for (x, y) in trainer.dev:\n",
    "    x = to_var_gpu(x, volatile=True)\n",
    "    bs = x.size()[0]\n",
    "    max_logits[i:i+bs] = trainer.CNN(x).max(1)[0].cpu().data.numpy()\n",
    "    i += bs"
   ]
  },
  {
   "cell_type": "code",
   "execution_count": 6,
   "metadata": {},
   "outputs": [
    {
     "data": {
      "text/plain": [
       "(array([  9.,  34.,  97., 194., 285., 348., 432., 511., 659., 726., 728.,\n",
       "        814., 826., 873., 777., 681., 600., 468., 328., 237., 146., 109.,\n",
       "         53.,  25.,  16.,   9.,   5.,   5.,   1.,   4.]),\n",
       " array([ 3.31941247,  4.73173648,  6.14406048,  7.55638449,  8.9687085 ,\n",
       "        10.38103251, 11.79335651, 13.20568052, 14.61800453, 16.03032854,\n",
       "        17.44265254, 18.85497655, 20.26730056, 21.67962457, 23.09194857,\n",
       "        24.50427258, 25.91659659, 27.32892059, 28.7412446 , 30.15356861,\n",
       "        31.56589262, 32.97821662, 34.39054063, 35.80286464, 37.21518865,\n",
       "        38.62751265, 40.03983666, 41.45216067, 42.86448468, 44.27680868,\n",
       "        45.68913269]),\n",
       " <a list of 30 Patch objects>)"
      ]
     },
     "execution_count": 6,
     "metadata": {},
     "output_type": "execute_result"
    },
    {
     "data": {
      "image/png": "[encoded data removed]",
      "text/plain": [
       "<matplotlib.figure.Figure at 0x7fa3421c22b0>"
      ]
     },
     "metadata": {},
     "output_type": "display_data"
    }
   ],
   "source": [
    "plt.hist(max_logits,bins=30)"
   ]
  },
  {
   "cell_type": "code",
   "execution_count": null,
   "metadata": {},
   "outputs": [],
   "source": [
    "def reject(threshold):\n",
    "    trainer.CNN.train(False)\n",
    "    i=0\n",
    "    accSum = 0\n",
    "    for (x, y) in trainer.dev:\n",
    "        x = to_var_gpu(x, volatile=True)\n",
    "        y = to_var_gpu(y).cpu().data.numpy()\n",
    "        max_logit = trainer.CNN(x).max(1)[0].cpu().data.numpy()\n",
    "        pred = trainer.CNN(x).max(1)[1].cpu().data.numpy()\n",
    "        accepted = max_logit>threshold\n",
    "        accSum += (pred[accepted]==y[accepted]).sum()\n",
    "        i += np.sum(accepted)\n",
    "    return accSum/i, 1-i/10000"
   ]
  },
  {
   "cell_type": "code",
   "execution_count": null,
   "metadata": {},
   "outputs": [],
   "source": [
    "thresholds = np.linspace(0,19,30)"
   ]
  },
  {
   "cell_type": "code",
   "execution_count": null,
   "metadata": {},
   "outputs": [],
   "source": [
    "accs = np.zeros_like(thresholds)\n",
    "reject_rates = np.zeros_like(thresholds)\n",
    "for i, thresh in enumerate(thresholds):\n",
    "    accs[i], reject_rates[i] = reject(thresh)"
   ]
  },
  {
   "cell_type": "code",
   "execution_count": null,
   "metadata": {},
   "outputs": [],
   "source": [
    "plt.xlabel(\"Rejection Rate\")\n",
    "plt.ylabel(\"Test Error (%)\")\n",
    "plt.plot(reject_rates[:28], 100*(1-accs[:28]))"
   ]
  },
  {
   "cell_type": "code",
   "execution_count": 61,
   "metadata": {},
   "outputs": [],
   "source": [
    "def stratAcc(threshold, bin_width):\n",
    "    trainer.CNN.train(False)\n",
    "    #i=0\n",
    "    #accSum = 0\n",
    "    acceptedAccs = []\n",
    "    for (x, y) in trainer.dev:\n",
    "        x = to_var_gpu(x, volatile=True)\n",
    "        y = to_var_gpu(y).cpu().data.numpy()\n",
    "        max_logit = trainer.CNN(x).max(1)[0].cpu().data.numpy()\n",
    "        pred = trainer.CNN(x).max(1)[1].cpu().data.numpy()\n",
    "        accepted = (max_logit>threshold)&(max_logit <= threshold + bin_width)\n",
    "        if np.any(accepted):\n",
    "            acceptedAccs.append((pred[accepted]==y[accepted]).astype(np.int64))\n",
    "    if acceptedAccs != []:\n",
    "        acceptedAccs = np.concatenate(acceptedAccs).ravel()\n",
    "    count = len(acceptedAccs)\n",
    "    if count:\n",
    "#         print(acceptedAccs)\n",
    "#         print(acceptedAccs.shape)\n",
    "        std = acceptedAccs.std()\n",
    "        acc = acceptedAccs.mean()\n",
    "        #print(std)\n",
    "    else:\n",
    "        std = 0\n",
    "        acc = 0\n",
    "    return acc, count, std"
   ]
  },
  {
   "cell_type": "code",
   "execution_count": 62,
   "metadata": {},
   "outputs": [],
   "source": [
    "thresh2 = np.linspace(2,40,30)\n",
    "bin_width = thresh2[1]-thresh2[0]\n",
    "accs2 = np.zeros_like(thresh2)\n",
    "counts = np.zeros_like(thresh2)\n",
    "stds = np.zeros_like(thresh2)"
   ]
  },
  {
   "cell_type": "code",
   "execution_count": 63,
   "metadata": {},
   "outputs": [],
   "source": [
    "for i, thresh in enumerate(thresh2):\n",
    "    accs2[i], counts[i], stds[i] = stratAcc(thresh, bin_width)"
   ]
  },
  {
   "cell_type": "code",
   "execution_count": 79,
   "metadata": {},
   "outputs": [
    {
     "name": "stdout",
     "output_type": "stream",
     "text": [
      "[  0.   7.  26.  84. 157. 218. 318. 347. 445. 526. 624. 685. 686. 762.\n",
      " 761. 831. 692. 675. 581. 479. 349. 258. 184. 120.  84.  42.  20.  16.\n",
      "   7.   6.]\n"
     ]
    },
    {
     "data": {
      "image/png": "[encoded data removed]",
      "text/plain": [
       "<matplotlib.figure.Figure at 0x7fa342f17940>"
      ]
     },
     "metadata": {},
     "output_type": "display_data"
    }
   ],
   "source": [
    "print(counts)\n",
    "from matplotlib.ticker import ScalarFormatter\n",
    "fig, ax = plt.subplots()\n",
    "\n",
    "y = 100*(1-accs2)\n",
    "\n",
    "\n",
    "ax.bar(thresh2[1:], y[1:], bin_width, yerr=100*stds[1:]/np.sqrt(counts[1:]), bottom=.1)\n",
    "ax.set_xlabel(\"Max logit\")\n",
    "ax.set_ylabel(\"Test Error (%)\")\n",
    "ax.set_yscale('log')\n",
    "for axis in [ax.xaxis, ax.yaxis]:\n",
    "    axis.set_major_formatter(ScalarFormatter())\n",
    "plt.show()"
   ]
  },
  {
   "cell_type": "code",
   "execution_count": 80,
   "metadata": {},
   "outputs": [
    {
     "name": "stdout",
     "output_type": "stream",
     "text": [
      "[  0.   7.  26.  84. 157. 218. 318. 347. 445. 526. 624. 685. 686. 762.\n",
      " 761. 831. 692. 675. 581. 479. 349. 258. 184. 120.  84.  42.  20.  16.\n",
      "   7.   6.]\n"
     ]
    },
    {
     "data": {
      "image/png": "[encoded data removed]",
      "text/plain": [
       "<matplotlib.figure.Figure at 0x7fa342d28c50>"
      ]
     },
     "metadata": {},
     "output_type": "display_data"
    }
   ],
   "source": [
    "from matplotlib.ticker import ScalarFormatter\n",
    "fig, ax = plt.subplots()\n",
    "\n",
    "y = 100*(1-accs2)\n",
    "\n",
    "\n",
    "ax.bar(thresh2[1:], y[1:], bin_width, yerr=100*stds[1:]/np.sqrt(counts[1:]), bottom=.1)\n",
    "ax.set_xlabel(\"Max logit\")\n",
    "ax.set_ylabel(\"Test Error (%)\")\n",
    "plt.show()"
   ]
  },
  {
   "cell_type": "code",
   "execution_count": 124,
   "metadata": {},
   "outputs": [],
   "source": [
    "import torch.nn.functional as F\n",
    "trainer.CNN.train(False)\n",
    "max_ps = np.zeros(10000)\n",
    "i=0\n",
    "for (x, y) in trainer.dev:\n",
    "    x = to_var_gpu(x, volatile=True)\n",
    "    bs = x.size()[0]\n",
    "    max_ps[i:i+bs] = F.softmax(trainer.CNN(x),dim=1).max(1)[0].cpu().data.numpy()\n",
    "    i += bs"
   ]
  },
  {
   "cell_type": "code",
   "execution_count": 129,
   "metadata": {},
   "outputs": [
    {
     "data": {
      "text/plain": [
       "(array([8.000e+00, 7.000e+00, 1.000e+01, 1.600e+01, 1.300e+01, 6.000e+00,\n",
       "        1.100e+01, 8.000e+00, 1.200e+01, 1.900e+01, 1.900e+01, 1.200e+01,\n",
       "        2.300e+01, 1.800e+01, 2.700e+01, 1.900e+01, 2.700e+01, 1.700e+01,\n",
       "        2.400e+01, 2.600e+01, 3.000e+01, 3.100e+01, 4.200e+01, 4.700e+01,\n",
       "        5.300e+01, 6.200e+01, 7.400e+01, 1.510e+02, 2.480e+02, 7.212e+03]),\n",
       " array([-9.84437876e-04, -9.51623280e-04, -9.18808684e-04, -8.85994088e-04,\n",
       "        -8.53179492e-04, -8.20364897e-04, -7.87550301e-04, -7.54735705e-04,\n",
       "        -7.21921109e-04, -6.89106513e-04, -6.56291917e-04, -6.23477321e-04,\n",
       "        -5.90662726e-04, -5.57848130e-04, -5.25033534e-04, -4.92218938e-04,\n",
       "        -4.59404342e-04, -4.26589746e-04, -3.93775150e-04, -3.60960555e-04,\n",
       "        -3.28145959e-04, -2.95331363e-04, -2.62516767e-04, -2.29702171e-04,\n",
       "        -1.96887575e-04, -1.64072979e-04, -1.31258383e-04, -9.84437876e-05,\n",
       "        -6.56291917e-05, -3.28145959e-05,  0.00000000e+00]),\n",
       " <a list of 30 Patch objects>)"
      ]
     },
     "execution_count": 129,
     "metadata": {},
     "output_type": "execute_result"
    },
    {
     "data": {
      "image/png": "[encoded data removed]",
      "text/plain": [
       "<matplotlib.figure.Figure at 0x7fa34267e470>"
      ]
     },
     "metadata": {},
     "output_type": "display_data"
    }
   ],
   "source": [
    "plt.hist(np.log(max_ps[max_ps>.999]),bins=30)"
   ]
  },
  {
   "cell_type": "code",
   "execution_count": 85,
   "metadata": {},
   "outputs": [],
   "source": [
    "def stratAccP(threshold, bin_width):\n",
    "    trainer.CNN.train(False)\n",
    "    #i=0\n",
    "    #accSum = 0\n",
    "    acceptedAccs = []\n",
    "    for (x, y) in trainer.dev:\n",
    "        x = to_var_gpu(x, volatile=True)\n",
    "        y = to_var_gpu(y).cpu().data.numpy()\n",
    "        max_logit = F.softmax(trainer.CNN(x),dim=1).max(1)[0].cpu().data.numpy()\n",
    "        pred = trainer.CNN(x).max(1)[1].cpu().data.numpy()\n",
    "        accepted = (max_logit>threshold)&(max_logit <= threshold + bin_width)\n",
    "        if np.any(accepted):\n",
    "            acceptedAccs.append((pred[accepted]==y[accepted]).astype(np.int64))\n",
    "    if acceptedAccs != []:\n",
    "        acceptedAccs = np.concatenate(acceptedAccs).ravel()\n",
    "    count = len(acceptedAccs)\n",
    "    if count:\n",
    "#         print(acceptedAccs)\n",
    "#         print(acceptedAccs.shape)\n",
    "        std = acceptedAccs.std()\n",
    "        acc = acceptedAccs.mean()\n",
    "        #print(std)\n",
    "    else:\n",
    "        std = 0\n",
    "        acc = 0\n",
    "    return acc, count, std"
   ]
  },
  {
   "cell_type": "code",
   "execution_count": 113,
   "metadata": {},
   "outputs": [],
   "source": [
    "thresh3 = np.linspace(0.85,1,30)\n",
    "bin_width3 = thresh3[1]-thresh3[0]\n",
    "accs3 = np.zeros_like(thresh3)\n",
    "counts3 = np.zeros_like(thresh3)\n",
    "stds3 = np.zeros_like(thresh3)"
   ]
  },
  {
   "cell_type": "code",
   "execution_count": 118,
   "metadata": {},
   "outputs": [],
   "source": [
    "for i, thresh in enumerate(thresh3):\n",
    "    accs3[i], counts3[i], stds3[i] = stratAccP(thresh, bin_width3)"
   ]
  },
  {
   "cell_type": "code",
   "execution_count": 119,
   "metadata": {},
   "outputs": [
    {
     "data": {
      "image/png": "[encoded data removed]",
      "text/plain": [
       "<matplotlib.figure.Figure at 0x7fa342937a90>"
      ]
     },
     "metadata": {},
     "output_type": "display_data"
    }
   ],
   "source": [
    "fig, ax = plt.subplots()\n",
    "\n",
    "y = 100*(1-accs3)\n",
    "mk = counts3>0\n",
    "\n",
    "ax.bar(thresh3[mk], y[mk], bin_width3, yerr=100*stds3[mk]/np.sqrt(counts3[mk]))\n",
    "ax.set_xlabel(\"Max p\")\n",
    "ax.set_ylabel(\"Test Error (%)\")\n",
    "ax.set_yscale('linear')\n",
    "plt.show()"
   ]
  },
  {
   "cell_type": "code",
   "execution_count": 110,
   "metadata": {},
   "outputs": [
    {
     "name": "stdout",
     "output_type": "stream",
     "text": [
      "0.005172413793103403\n"
     ]
    }
   ],
   "source": [
    "print(bin_width3)"
   ]
  },
  {
   "cell_type": "code",
   "execution_count": 132,
   "metadata": {},
   "outputs": [
    {
     "name": "stdout",
     "output_type": "stream",
     "text": [
      "[  10    3   11    5   11   14   15   11   10   19   19   16   20   18\n",
      "   19   16   15    9   25   24   34   40   29   33   55   65  109  174\n",
      " 8721    0]\n"
     ]
    }
   ],
   "source": [
    "print(counts3.astype(int))"
   ]
  },
  {
   "cell_type": "code",
   "execution_count": 117,
   "metadata": {},
   "outputs": [
    {
     "name": "stdout",
     "output_type": "stream",
     "text": [
      "270349.0\n"
     ]
    }
   ],
   "source": [
    "print(counts3.sum())"
   ]
  },
  {
   "cell_type": "code",
   "execution_count": null,
   "metadata": {},
   "outputs": [],
   "source": []
  }
 ],
 "metadata": {
  "kernelspec": {
   "display_name": "Python 3",
   "language": "python",
   "name": "python3"
  },
  "language_info": {
   "codemirror_mode": {
    "name": "ipython",
    "version": 3
   },
   "file_extension": ".py",
   "mimetype": "text/x-python",
   "name": "python",
   "nbconvert_exporter": "python",
   "pygments_lexer": "ipython3",
   "version": "3.5.4"
  }
 },
 "nbformat": 4,
 "nbformat_minor": 2
}
