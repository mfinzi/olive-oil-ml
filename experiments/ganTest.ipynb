{
 "cells": [
  {
   "cell_type": "code",
   "execution_count": 6,
   "metadata": {},
   "outputs": [
    {
     "name": "stdout",
     "output_type": "stream",
     "text": [
      "The autoreload extension is already loaded. To reload it, use:\n",
      "  %reload_ext autoreload\n"
     ]
    }
   ],
   "source": [
    "import numpy as np\n",
    "import torch, torchvision\n",
    "import torchvision.transforms as transforms\n",
    "from torch.autograd import Variable\n",
    "from matplotlib import pyplot as plt\n",
    "from torch.utils.data import DataLoader\n",
    "from torchvision.datasets import CIFAR10, CIFAR100\n",
    "from bgan.ganTrainer import GanTrainer\n",
    "from bgan.wganTrainer import WganTrainer\n",
    "from bgan.networkparts import *\n",
    "%matplotlib inline\n",
    "%load_ext autoreload\n",
    "%autoreload 2"
   ]
  },
  {
   "cell_type": "markdown",
   "metadata": {},
   "source": [
    "## Gan Configuration"
   ]
  },
  {
   "cell_type": "code",
   "execution_count": 13,
   "metadata": {},
   "outputs": [],
   "source": [
    "savedir = '/scratch/maf388/experiments/layer13featMatch/'\n",
    "config = {'lr':5e-5, 'ul_BS':32, 'lab_BS':32,\n",
    "          'amntLab':4000,'featMatch':True}\n",
    "gen = DCganG()\n",
    "dis = layer13(numClasses=11)"
   ]
  },
  {
   "cell_type": "markdown",
   "metadata": {},
   "source": [
    "## Dataset"
   ]
  },
  {
   "cell_type": "code",
   "execution_count": 14,
   "metadata": {},
   "outputs": [
    {
     "name": "stdout",
     "output_type": "stream",
     "text": [
      "Files already downloaded and verified\n",
      "Files already downloaded and verified\n"
     ]
    }
   ],
   "source": [
    "img_size = 32\n",
    "transform_dev = transforms.Compose(\n",
    "    [transforms.Resize(img_size),\n",
    "     transforms.ToTensor(),\n",
    "     transforms.Normalize((.5,.5,.5),(.5,.5,.5))])\n",
    "     #transforms.Normalize((0.4914, 0.4822, 0.4465), (0.2023, 0.1994, 0.2010))])\n",
    "\n",
    "transform_train = transform_dev\n",
    "# transform_train = transforms.Compose(\n",
    "#     [transforms.RandomCrop(32, padding=4),\n",
    "#      transforms.RandomHorizontalFlip(),\n",
    "#      transform_dev])\n",
    "\n",
    "pathToDataset = '/scratch/maf388/datasets/cifar10/'\n",
    "trainset = CIFAR10(pathToDataset, download=True, transform=transform_train)\n",
    "devset = CIFAR10(pathToDataset, train=False, download=True, transform=transform_dev)\n",
    "testset = None\n",
    "\n",
    "datasets = (trainset, devset, testset)"
   ]
  },
  {
   "cell_type": "code",
   "execution_count": 15,
   "metadata": {},
   "outputs": [],
   "source": [
    "bgan = GanTrainer(gen, dis, datasets, savedir, **config)"
   ]
  },
  {
   "cell_type": "code",
   "execution_count": null,
   "metadata": {
    "scrolled": false
   },
   "outputs": [
    {
     "name": "stdout",
     "output_type": "stream",
     "text": [
      "Starting semiSupervised Training\n",
      "[  0/100][     0/156300] Val_Acc: 0.141 D_loss: 4.812 G_loss: 2.200 Train_Acc: 0.031 \n",
      "[  0/100][  1000/156300] Val_Acc: 0.250 D_loss: 2.588 G_loss: 46.523 Train_Acc: 0.406 \n",
      "[  1/100][  2000/156300] Val_Acc: 0.297 D_loss: 2.434 G_loss: 61.904 Train_Acc: 0.344 \n",
      "[  1/100][  3000/156300] Val_Acc: 0.406 D_loss: 2.122 G_loss: 61.387 Train_Acc: 0.469 \n",
      "[  2/100][  4000/156300] Val_Acc: 0.469 D_loss: 1.663 G_loss: 77.539 Train_Acc: 0.625 \n",
      "[  3/100][  5000/156300] Val_Acc: 0.516 D_loss: 1.673 G_loss: 78.111 Train_Acc: 0.594 \n",
      "[  3/100][  6000/156300] Val_Acc: 0.594 D_loss: 1.166 G_loss: 96.924 Train_Acc: 0.656 \n",
      "[  4/100][  7000/156300] Val_Acc: 0.594 D_loss: 1.510 G_loss: 101.298 Train_Acc: 0.594 \n",
      "[  5/100][  8000/156300] Val_Acc: 0.516 D_loss: 1.076 G_loss: 96.716 Train_Acc: 0.656 \n",
      "[  5/100][  9000/156300] Val_Acc: 0.594 D_loss: 1.280 G_loss: 107.790 Train_Acc: 0.719 \n",
      "[  6/100][ 10000/156300] Val_Acc: 0.453 D_loss: 1.147 G_loss: 109.493 Train_Acc: 0.562 \n",
      "[  7/100][ 11000/156300] Val_Acc: 0.578 D_loss: 0.849 G_loss: 111.547 Train_Acc: 0.750 \n"
     ]
    }
   ],
   "source": [
    "bgan.train(100)"
   ]
  },
  {
   "cell_type": "code",
   "execution_count": null,
   "metadata": {},
   "outputs": [],
   "source": [
    "# import dill\n",
    "# torch.save(bgan.G,'/home/maf388/bayesganfuture/models/dcganGswa.pt')\n",
    "# torch.save(bgan.D,'/home/maf388/bayesganfuture/models/dcganDswa.pt',pickle_module=dill)"
   ]
  },
  {
   "cell_type": "code",
   "execution_count": null,
   "metadata": {},
   "outputs": [],
   "source": []
  },
  {
   "cell_type": "code",
   "execution_count": null,
   "metadata": {},
   "outputs": [],
   "source": []
  },
  {
   "cell_type": "code",
   "execution_count": null,
   "metadata": {},
   "outputs": [],
   "source": []
  }
 ],
 "metadata": {
  "kernelspec": {
   "display_name": "Python 3",
   "language": "python",
   "name": "python3"
  },
  "language_info": {
   "codemirror_mode": {
    "name": "ipython",
    "version": 3
   },
   "file_extension": ".py",
   "mimetype": "text/x-python",
   "name": "python",
   "nbconvert_exporter": "python",
   "pygments_lexer": "ipython3",
   "version": "3.5.4"
  }
 },
 "nbformat": 4,
 "nbformat_minor": 2
}
