{
 "cells": [
  {
   "cell_type": "code",
   "execution_count": 8,
   "metadata": {},
   "outputs": [
    {
     "ename": "ImportError",
     "evalue": "No module named 'oil'",
     "output_type": "error",
     "traceback": [
      "\u001b[0;31m---------------------------------------------------------------------------\u001b[0m",
      "\u001b[0;31mImportError\u001b[0m                               Traceback (most recent call last)",
      "\u001b[0;32m<ipython-input-8-d8987be1ad14>\u001b[0m in \u001b[0;36m<module>\u001b[0;34m()\u001b[0m\n\u001b[1;32m      4\u001b[0m \u001b[0;32mimport\u001b[0m \u001b[0mtorch\u001b[0m\u001b[0;34m.\u001b[0m\u001b[0mnn\u001b[0m \u001b[0;32mas\u001b[0m \u001b[0mnn\u001b[0m\u001b[0;34m\u001b[0m\u001b[0m\n\u001b[1;32m      5\u001b[0m \u001b[0;34m\u001b[0m\u001b[0m\n\u001b[0;32m----> 6\u001b[0;31m \u001b[0;32mimport\u001b[0m \u001b[0moil\u001b[0m\u001b[0;34m\u001b[0m\u001b[0m\n\u001b[0m\u001b[1;32m      7\u001b[0m \u001b[0;32mfrom\u001b[0m \u001b[0moil\u001b[0m\u001b[0;34m.\u001b[0m\u001b[0mcnnTrainer\u001b[0m \u001b[0;32mimport\u001b[0m \u001b[0mCnnTrainer\u001b[0m\u001b[0;34m\u001b[0m\u001b[0m\n\u001b[1;32m      8\u001b[0m \u001b[0;32mfrom\u001b[0m \u001b[0moil\u001b[0m\u001b[0;34m.\u001b[0m\u001b[0mnetworkparts\u001b[0m \u001b[0;32mimport\u001b[0m \u001b[0mlayer13\u001b[0m\u001b[0;34m\u001b[0m\u001b[0m\n",
      "\u001b[0;31mImportError\u001b[0m: No module named 'oil'"
     ]
    }
   ],
   "source": [
    "import numpy as np\n",
    "import torch, torchvision\n",
    "import torch.optim as optim\n",
    "import torch.nn as nn\n",
    "\n",
    "import oil\n",
    "from oil.cnnTrainer import CnnTrainer\n",
    "from oil.networkparts import layer13\n",
    "import oil.augLayers as augLayers\n",
    "from oil.schedules import cosLr, sigmoidConsRamp\n",
    "from oil.datasets import CIFAR10, C10augLayers\n",
    "\n",
    "%matplotlib inline\n",
    "%load_ext autoreload\n",
    "%autoreload 2"
   ]
  },
  {
   "cell_type": "code",
   "execution_count": 2,
   "metadata": {},
   "outputs": [
    {
     "name": "stdout",
     "output_type": "stream",
     "text": [
      "Files already downloaded and verified\n",
      "Files already downloaded and verified\n"
     ]
    },
    {
     "ename": "NameError",
     "evalue": "name 'nn' is not defined",
     "output_type": "error",
     "traceback": [
      "\u001b[0;31m---------------------------------------------------------------------------\u001b[0m",
      "\u001b[0;31mNameError\u001b[0m                                 Traceback (most recent call last)",
      "\u001b[0;32m<ipython-input-2-252d97f14492>\u001b[0m in \u001b[0;36m<module>\u001b[0;34m()\u001b[0m\n\u001b[1;32m     12\u001b[0m \u001b[0mdatasets\u001b[0m \u001b[0;34m=\u001b[0m \u001b[0mCIFAR10\u001b[0m\u001b[0;34m(\u001b[0m\u001b[0maug\u001b[0m\u001b[0;34m=\u001b[0m\u001b[0;32mFalse\u001b[0m\u001b[0;34m)\u001b[0m\u001b[0;34m\u001b[0m\u001b[0m\n\u001b[1;32m     13\u001b[0m \u001b[0mCNN\u001b[0m \u001b[0;34m=\u001b[0m \u001b[0mlayer13\u001b[0m\u001b[0;34m(\u001b[0m\u001b[0mnumClasses\u001b[0m\u001b[0;34m=\u001b[0m\u001b[0;36m10\u001b[0m\u001b[0;34m)\u001b[0m\u001b[0;34m\u001b[0m\u001b[0m\n\u001b[0;32m---> 14\u001b[0;31m \u001b[0mfullCNN\u001b[0m \u001b[0;34m=\u001b[0m \u001b[0mnn\u001b[0m\u001b[0;34m.\u001b[0m\u001b[0mSequential\u001b[0m\u001b[0;34m(\u001b[0m\u001b[0mC10augLayers\u001b[0m\u001b[0;34m(\u001b[0m\u001b[0;34m)\u001b[0m\u001b[0;34m,\u001b[0m\u001b[0mCNN\u001b[0m\u001b[0;34m)\u001b[0m\u001b[0;34m\u001b[0m\u001b[0m\n\u001b[0m",
      "\u001b[0;31mNameError\u001b[0m: name 'nn' is not defined"
     ]
    }
   ],
   "source": [
    "total_epochs = 250\n",
    "\n",
    "opt_constr = lambda params, base_lr: optim.SGD(params, base_lr, .9, weight_decay=1e-4, nesterov=True)\n",
    "lr_lambda = cosLr(total_epochs, 1)\n",
    "\n",
    "savedir = '/home/maf388/tb-experiments/layer13lyrAug250/'\n",
    "config = {'base_lr':.1, 'amntLab':1,\n",
    "          'lab_BS':50, 'ul_BS':50, 'num_workers':2,\n",
    "          'lr_lambda':lr_lambda, 'opt_constr':opt_constr\n",
    "          }\n",
    "\n",
    "datasets = CIFAR10(aug=False)\n",
    "CNN = layer13(numClasses=10)\n",
    "fullCNN = nn.Sequential(C10augLayers(),CNN)"
   ]
  },
  {
   "cell_type": "code",
   "execution_count": 3,
   "metadata": {},
   "outputs": [],
   "source": [
    "load_path = '/home/maf388/tb-experiments/layer13lyrAug250/checkpoints/c.249.ckpt'"
   ]
  },
  {
   "cell_type": "code",
   "execution_count": 8,
   "metadata": {},
   "outputs": [
    {
     "name": "stdout",
     "output_type": "stream",
     "text": [
      "=> loading checkpoint '/home/maf388/tb-experiments/rejectCnn/checkpoints/c.999.ckpt'\n"
     ]
    }
   ],
   "source": [
    "trainer = CnnTrainer(fullCNN,datasets,savedir,load_path,**config)"
   ]
  },
  {
   "cell_type": "code",
   "execution_count": 9,
   "metadata": {},
   "outputs": [
    {
     "name": "stdout",
     "output_type": "stream",
     "text": [
      "[1000/1100][ 80000/88000] SWA_Val_Acc: 0.823 Val_Acc: 0.823 Train_Acc(Batch): 0.900 \n",
      "[1025/1125][ 82000/90000] SWA_Val_Acc: 0.839 Val_Acc: 0.803 Train_Acc(Batch): 0.940 \n",
      "[1050/1150][ 84000/92000] SWA_Val_Acc: 0.843 Val_Acc: 0.802 Train_Acc(Batch): 0.960 \n",
      "[1075/1175][ 86000/94000] SWA_Val_Acc: 0.843 Val_Acc: 0.791 Train_Acc(Batch): 0.900 \n"
     ]
    }
   ],
   "source": [
    "trainer.constSWA(100,1e-3)"
   ]
  },
  {
   "cell_type": "code",
   "execution_count": 10,
   "metadata": {},
   "outputs": [
    {
     "name": "stdout",
     "output_type": "stream",
     "text": [
      "[1100/1199][ 88000/95920] SWA_Val_Acc: 0.843 Val_Acc: 0.756 Train_Acc(Batch): 0.920 \n",
      "[1125/1199][ 90000/95920] SWA_Val_Acc: 0.844 Val_Acc: 0.764 Train_Acc(Batch): 0.940 \n",
      "[1150/1199][ 92000/95920] SWA_Val_Acc: 0.842 Val_Acc: 0.773 Train_Acc(Batch): 0.920 \n",
      "[1175/1199][ 94000/95920] SWA_Val_Acc: 0.847 Val_Acc: 0.795 Train_Acc(Batch): 1.000 \n"
     ]
    }
   ],
   "source": [
    "trainer.constSWA(100,1e-3)"
   ]
  },
  {
   "cell_type": "code",
   "execution_count": null,
   "metadata": {},
   "outputs": [],
   "source": []
  }
 ],
 "metadata": {
  "kernelspec": {
   "display_name": "Python 3",
   "language": "python",
   "name": "python3"
  },
  "language_info": {
   "codemirror_mode": {
    "name": "ipython",
    "version": 3
   },
   "file_extension": ".py",
   "mimetype": "text/x-python",
   "name": "python",
   "nbconvert_exporter": "python",
   "pygments_lexer": "ipython3",
   "version": "3.5.4"
  }
 },
 "nbformat": 4,
 "nbformat_minor": 2
}
