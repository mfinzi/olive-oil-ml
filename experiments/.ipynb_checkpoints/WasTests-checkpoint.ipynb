{
 "cells": [
  {
   "cell_type": "code",
   "execution_count": null,
   "metadata": {},
   "outputs": [],
   "source": [
    "import torch, torchvision\n",
    "import torchvision.transforms as transforms\n",
    "from torch.utils.data import DataLoader\n",
    "from torchvision.datasets import CIFAR10\n",
    "\n",
    "from bgan.cnnTrainer import CnnTrainer\n",
    "from bgan.wcnnTrainer import WcnnTrainer\n",
    "from bgan.networkparts import *\n",
    "\n",
    "%matplotlib inline\n",
    "%load_ext autoreload\n",
    "%autoreload 2"
   ]
  },
  {
   "cell_type": "markdown",
   "metadata": {},
   "source": [
    "## CNN Configuration"
   ]
  },
  {
   "cell_type": "code",
   "execution_count": null,
   "metadata": {},
   "outputs": [],
   "source": [
    "savedir = '/scratch/maf388/experiments/wassCnn4000/'\n",
    "config = {'lr':1e-4, 'amntLab':4000, \n",
    "          'lab_BS':32, 'ul_BS':32,\n",
    "          'gpscale':10, 'dirparam':1}\n",
    "cnn = BadGanDbn(d=96, numClasses=10)"
   ]
  },
  {
   "cell_type": "markdown",
   "metadata": {},
   "source": [
    "## Dataset"
   ]
  },
  {
   "cell_type": "code",
   "execution_count": null,
   "metadata": {},
   "outputs": [],
   "source": [
    "img_size = 32\n",
    "transform_dev = transforms.Compose(\n",
    "    [transforms.Resize(img_size),\n",
    "     transforms.ToTensor(),\n",
    "     transforms.Normalize((0.4914, 0.4822, 0.4465), (0.2023, 0.1994, 0.2010))])\n",
    "\n",
    "transform_train = transform_dev\n",
    "# transform_train = transforms.Compose(\n",
    "#     [transforms.RandomCrop(32, padding=4),\n",
    "#      transforms.RandomHorizontalFlip(),\n",
    "#      transform_dev])\n",
    "\n",
    "pathToDataset = '/scratch/maf388/datasets/cifar10/'\n",
    "trainset = CIFAR10(pathToDataset, download=True, transform=transform_train)\n",
    "devset = CIFAR10(pathToDataset, train=False, download=True, transform=transform_dev)\n",
    "testset = None\n",
    "\n",
    "datasets = (trainset, devset, testset)"
   ]
  },
  {
   "cell_type": "code",
   "execution_count": null,
   "metadata": {},
   "outputs": [],
   "source": [
    "trainer = WcnnTrainer(cnn,datasets,savedir,**config)"
   ]
  },
  {
   "cell_type": "code",
   "execution_count": null,
   "metadata": {
    "scrolled": true
   },
   "outputs": [
    {
     "name": "stdout",
     "output_type": "stream",
     "text": [
      "[  0/640][     0/80000] Train_LDS: 0.000 Val_Acc: 0.172 Train_loss: 2.316 Train_Acc: 0.094 \n",
      "[ 16/640][  2000/80000] Train_LDS: 0.001 Val_Acc: 0.094 Train_loss: 1.587 Train_Acc: 0.125 \n",
      "[ 32/640][  4000/80000] Train_LDS: 0.060 Val_Acc: 0.141 Train_loss: 1.683 Train_Acc: 0.219 \n",
      "[ 48/640][  6000/80000] Train_LDS: 0.202 Val_Acc: 0.094 Train_loss: 1.652 Train_Acc: 0.125 \n",
      "[ 64/640][  8000/80000] Train_LDS: 0.001 Val_Acc: 0.062 Train_loss: 1.289 Train_Acc: 0.062 \n",
      "[ 80/640][ 10000/80000] Train_LDS: 0.067 Val_Acc: 0.141 Train_loss: 1.401 Train_Acc: 0.062 \n",
      "[ 96/640][ 12000/80000] Train_LDS: 0.032 Val_Acc: 0.141 Train_loss: 1.269 Train_Acc: 0.062 \n",
      "[112/640][ 14000/80000] Train_LDS: 0.091 Val_Acc: 0.125 Train_loss: 1.602 Train_Acc: 0.031 \n",
      "[128/640][ 16000/80000] Train_LDS: 0.026 Val_Acc: 0.125 Train_loss: 1.424 Train_Acc: 0.094 \n",
      "[144/640][ 18000/80000] Train_LDS: 0.032 Val_Acc: 0.125 Train_loss: 1.368 Train_Acc: 0.125 \n",
      "[160/640][ 20000/80000] Train_LDS: 0.039 Val_Acc: 0.062 Train_loss: 1.315 Train_Acc: 0.094 \n",
      "[176/640][ 22000/80000] Train_LDS: 0.063 Val_Acc: 0.172 Train_loss: 1.198 Train_Acc: 0.125 \n",
      "[192/640][ 24000/80000] Train_LDS: 0.016 Val_Acc: 0.109 Train_loss: 1.484 Train_Acc: 0.062 \n",
      "[208/640][ 26000/80000] Train_LDS: 0.175 Val_Acc: 0.109 Train_loss: 1.382 Train_Acc: 0.062 \n",
      "[224/640][ 28000/80000] Train_LDS: 0.095 Val_Acc: 0.125 Train_loss: 1.298 Train_Acc: 0.062 \n",
      "[240/640][ 30000/80000] Train_LDS: 0.050 Val_Acc: 0.125 Train_loss: 1.120 Train_Acc: 0.062 \n",
      "[256/640][ 32000/80000] Train_LDS: 0.009 Val_Acc: 0.047 Train_loss: 1.182 Train_Acc: 0.094 \n",
      "[272/640][ 34000/80000] Train_LDS: 0.012 Val_Acc: 0.047 Train_loss: 1.407 Train_Acc: 0.094 \n",
      "[288/640][ 36000/80000] Train_LDS: 0.005 Val_Acc: 0.062 Train_loss: 1.070 Train_Acc: 0.125 \n",
      "[304/640][ 38000/80000] Train_LDS: 0.008 Val_Acc: 0.078 Train_loss: 1.363 Train_Acc: 0.125 \n",
      "[320/640][ 40000/80000] Train_LDS: 0.012 Val_Acc: 0.047 Train_loss: 1.106 Train_Acc: 0.125 \n"
     ]
    }
   ],
   "source": [
    "trainer.train(640)"
   ]
  },
  {
   "cell_type": "code",
   "execution_count": null,
   "metadata": {},
   "outputs": [],
   "source": [
    "trainer.CNN.training"
   ]
  },
  {
   "cell_type": "code",
   "execution_count": null,
   "metadata": {},
   "outputs": [],
   "source": []
  }
 ],
 "metadata": {
  "kernelspec": {
   "display_name": "Python 3",
   "language": "python",
   "name": "python3"
  },
  "language_info": {
   "codemirror_mode": {
    "name": "ipython",
    "version": 3
   },
   "file_extension": ".py",
   "mimetype": "text/x-python",
   "name": "python",
   "nbconvert_exporter": "python",
   "pygments_lexer": "ipython3",
   "version": "3.5.4"
  }
 },
 "nbformat": 4,
 "nbformat_minor": 2
}
