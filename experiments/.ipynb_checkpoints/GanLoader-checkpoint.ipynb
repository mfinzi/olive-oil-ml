{
 "cells": [
  {
   "cell_type": "code",
   "execution_count": 1,
   "metadata": {},
   "outputs": [],
   "source": [
    "import torch, torchvision\n",
    "from torch.autograd import Variable\n",
    "import numpy as np\n",
    "from torch.utils.data import DataLoader, Dataset\n",
    "import itertools, math\n",
    "import matplotlib.pyplot as plt"
   ]
  },
  {
   "cell_type": "code",
   "execution_count": 2,
   "metadata": {},
   "outputs": [],
   "source": [
    "G = torch.load('/home/maf388/bayesganfuture/models/c10dcgan.pt')"
   ]
  },
  {
   "cell_type": "code",
   "execution_count": 3,
   "metadata": {},
   "outputs": [],
   "source": [
    "class GanDataLoader(DataLoader):\n",
    "    def __init__(self, generator, batch_size):\n",
    "        self.G = generator.cuda()\n",
    "        self.batch_size = batch_size\n",
    "\n",
    "    def __iter__(self):\n",
    "        return self\n",
    "    \n",
    "    def __next__(self):\n",
    "        z = Variable(torch.randn(self.batch_size, self.G.z_dim).cuda())\n",
    "        return self.G(z).detach()\n",
    "    \n",
    "    def __len__(self):\n",
    "        inf = 2**63-1\n",
    "        return inf"
   ]
  },
  {
   "cell_type": "code",
   "execution_count": null,
   "metadata": {},
   "outputs": [],
   "source": [
    "thisLoader = GanDataLoader(G,32)"
   ]
  },
  {
   "cell_type": "code",
   "execution_count": null,
   "metadata": {},
   "outputs": [],
   "source": [
    "batch = next(thisLoader)\n",
    "imgs = torchvision.utils.make_grid(batch.cpu().data, normalize=True, nrow=8)\n",
    "plt.imshow(np.transpose(imgs, (1, 2, 0)))"
   ]
  }
 ],
 "metadata": {
  "kernelspec": {
   "display_name": "Python 3",
   "language": "python",
   "name": "python3"
  },
  "language_info": {
   "codemirror_mode": {
    "name": "ipython",
    "version": 3
   },
   "file_extension": ".py",
   "mimetype": "text/x-python",
   "name": "python",
   "nbconvert_exporter": "python",
   "pygments_lexer": "ipython3",
   "version": "3.5.4"
  }
 },
 "nbformat": 4,
 "nbformat_minor": 2
}
