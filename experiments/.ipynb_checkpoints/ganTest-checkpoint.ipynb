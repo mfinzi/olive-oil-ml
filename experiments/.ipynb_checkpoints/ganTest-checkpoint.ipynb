{
 "cells": [
  {
   "cell_type": "code",
   "execution_count": 6,
   "metadata": {},
   "outputs": [
    {
     "name": "stdout",
     "output_type": "stream",
     "text": [
      "The autoreload extension is already loaded. To reload it, use:\n",
      "  %reload_ext autoreload\n"
     ]
    }
   ],
   "source": [
    "import numpy as np\n",
    "import torch, torchvision\n",
    "import torchvision.transforms as transforms\n",
    "from torch.autograd import Variable\n",
    "from matplotlib import pyplot as plt\n",
    "from torch.utils.data import DataLoader\n",
    "from torchvision.datasets import CIFAR10, CIFAR100\n",
    "from bgan.ganTrainer import GanTrainer\n",
    "from bgan.wganTrainer import WganTrainer\n",
    "from bgan.networkparts import *\n",
    "%matplotlib inline\n",
    "%load_ext autoreload\n",
    "%autoreload 2"
   ]
  },
  {
   "cell_type": "markdown",
   "metadata": {},
   "source": [
    "## Gan Configuration"
   ]
  },
  {
   "cell_type": "code",
   "execution_count": 7,
   "metadata": {},
   "outputs": [],
   "source": [
    "savedir = '/scratch/maf388/experiments/13layer/'\n",
    "config = {'lr':5e-5, 'ul_BS':64}\n",
    "gen = DCganG()\n",
    "dis = DCganD(numClasses=1)"
   ]
  },
  {
   "cell_type": "markdown",
   "metadata": {},
   "source": [
    "## Dataset"
   ]
  },
  {
   "cell_type": "code",
   "execution_count": 3,
   "metadata": {},
   "outputs": [
    {
     "name": "stdout",
     "output_type": "stream",
     "text": [
      "Files already downloaded and verified\n"
     ]
    }
   ],
   "source": [
    "img_size = 32\n",
    "transform_dev = transforms.Compose(\n",
    "    [transforms.Resize(img_size),\n",
    "     transforms.ToTensor(),\n",
    "     transforms.Normalize((.5,.5,.5),(.5,.5,.5))])\n",
    "     #transforms.Normalize((0.4914, 0.4822, 0.4465), (0.2023, 0.1994, 0.2010))])\n",
    "\n",
    "transform_train = transform_dev\n",
    "# transform_train = transforms.Compose(\n",
    "#     [transforms.RandomCrop(32, padding=4),\n",
    "#      transforms.RandomHorizontalFlip(),\n",
    "#      transform_dev])\n",
    "\n",
    "pathToDataset = '/scratch/maf388/datasets/cifar10/'\n",
    "trainset = CIFAR10(pathToDataset, download=True, transform=transform_train)\n",
    "devset = CIFAR10(pathToDataset, train=False, download=True, transform=transform_dev)\n",
    "testset = None\n",
    "\n",
    "datasets = (trainset, devset, testset)"
   ]
  },
  {
   "cell_type": "code",
   "execution_count": null,
   "metadata": {},
   "outputs": [],
   "source": [
    "bgan = GanTrainer(gen, dis, datasets, savedir, **config)"
   ]
  },
  {
   "cell_type": "code",
   "execution_count": null,
   "metadata": {
    "scrolled": false
   },
   "outputs": [
    {
     "name": "stdout",
     "output_type": "stream",
     "text": [
      "Starting unsSupervised Training\n",
      "[  0/100][     0/78200] D_loss: -1.490 G_loss: 1.674 \n",
      "[  1/100][  1000/78200] D_loss: -42.291 G_loss: -39.957 \n",
      "[  2/100][  2000/78200] D_loss: -22.376 G_loss: -25.301 \n",
      "[  3/100][  3000/78200] D_loss: -17.961 G_loss: -24.796 \n",
      "[  5/100][  4000/78200] D_loss: -22.193 G_loss: -18.641 \n",
      "[  6/100][  5000/78200] D_loss: -4.553 G_loss: -22.964 \n",
      "[  7/100][  6000/78200] D_loss: -4.806 G_loss: -35.573 \n",
      "[  8/100][  7000/78200] D_loss: -4.369 G_loss: -30.784 \n",
      "[ 10/100][  8000/78200] D_loss: -178.603 G_loss: -33.542 \n",
      "[ 11/100][  9000/78200] D_loss: -4.208 G_loss: -61.339 \n",
      "[ 12/100][ 10000/78200] D_loss: -225.714 G_loss: -78.394 \n",
      "[ 14/100][ 11000/78200] D_loss: -21.671 G_loss: -55.588 \n",
      "[ 15/100][ 12000/78200] D_loss: -10.553 G_loss: -71.022 \n",
      "[ 16/100][ 13000/78200] D_loss: -196.573 G_loss: -128.089 \n",
      "[ 17/100][ 14000/78200] D_loss: -10.518 G_loss: -85.403 \n",
      "[ 19/100][ 15000/78200] D_loss: -228.039 G_loss: -113.386 \n",
      "[ 20/100][ 16000/78200] D_loss: -26.177 G_loss: -71.626 \n",
      "[ 21/100][ 17000/78200] D_loss: -11.487 G_loss: -106.433 \n",
      "[ 23/100][ 18000/78200] D_loss: -480.580 G_loss: -113.767 \n",
      "[ 24/100][ 19000/78200] D_loss: -38.675 G_loss: -45.970 \n",
      "[ 25/100][ 20000/78200] D_loss: -5.219 G_loss: -72.412 \n",
      "[ 26/100][ 21000/78200] D_loss: -4.005 G_loss: -43.641 \n",
      "[ 28/100][ 22000/78200] D_loss: -11.237 G_loss: -63.024 \n",
      "[ 29/100][ 23000/78200] D_loss: -6.853 G_loss: -76.383 \n",
      "[ 30/100][ 24000/78200] D_loss: 6.646 G_loss: -56.813 \n",
      "[ 31/100][ 25000/78200] D_loss: -6.627 G_loss: -20.360 \n",
      "[ 33/100][ 26000/78200] D_loss: -1.789 G_loss: -170.103 \n",
      "[ 34/100][ 27000/78200] D_loss: -490.814 G_loss: -580.943 \n",
      "[ 35/100][ 28000/78200] D_loss: -179.935 G_loss: -161.744 \n",
      "[ 37/100][ 29000/78200] D_loss: -212.609 G_loss: -509.314 \n",
      "[ 38/100][ 30000/78200] D_loss: -102.337 G_loss: -184.200 \n",
      "[ 39/100][ 31000/78200] D_loss: -9.435 G_loss: -81.317 \n",
      "[ 40/100][ 32000/78200] D_loss: -999.139 G_loss: -104.402 \n",
      "[ 42/100][ 33000/78200] D_loss: -6.036 G_loss: -141.470 \n",
      "[ 43/100][ 34000/78200] D_loss: -570.022 G_loss: -230.625 \n",
      "[ 44/100][ 35000/78200] D_loss: 1.171 G_loss: -240.456 \n",
      "[ 46/100][ 36000/78200] D_loss: -2303.799 G_loss: 2094.453 \n",
      "[ 47/100][ 37000/78200] D_loss: -172.365 G_loss: -47.244 \n",
      "[ 48/100][ 38000/78200] D_loss: -120.238 G_loss: -303.503 \n",
      "[ 49/100][ 39000/78200] D_loss: -12.914 G_loss: -265.044 \n",
      "[ 51/100][ 40000/78200] D_loss: -12.548 G_loss: -187.425 \n",
      "[ 52/100][ 41000/78200] D_loss: 32.846 G_loss: -344.753 \n"
     ]
    }
   ],
   "source": [
    "bgan.train(100)"
   ]
  },
  {
   "cell_type": "code",
   "execution_count": null,
   "metadata": {},
   "outputs": [],
   "source": [
    "torch.save(bgan.G,'/home/maf388/bayesganfuture/models/c10wdcgan.pt')"
   ]
  },
  {
   "cell_type": "code",
   "execution_count": null,
   "metadata": {},
   "outputs": [],
   "source": []
  }
 ],
 "metadata": {
  "kernelspec": {
   "display_name": "Python 3",
   "language": "python",
   "name": "python3"
  },
  "language_info": {
   "codemirror_mode": {
    "name": "ipython",
    "version": 3
   },
   "file_extension": ".py",
   "mimetype": "text/x-python",
   "name": "python",
   "nbconvert_exporter": "python",
   "pygments_lexer": "ipython3",
   "version": "3.5.4"
  }
 },
 "nbformat": 4,
 "nbformat_minor": 2
}
