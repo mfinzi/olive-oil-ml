{
 "cells": [
  {
   "cell_type": "code",
   "execution_count": 1,
   "metadata": {},
   "outputs": [],
   "source": [
    "import numpy as np\n",
    "import torch, torchvision\n",
    "import torchvision.transforms as transforms\n",
    "from torch.autograd import Variable\n",
    "from matplotlib import pyplot as plt\n",
    "%matplotlib inline\n",
    "%load_ext autoreload\n",
    "%autoreload 2"
   ]
  },
  {
   "cell_type": "code",
   "execution_count": 2,
   "metadata": {},
   "outputs": [
    {
     "name": "stdout",
     "output_type": "stream",
     "text": [
      "Files already downloaded and verified\n"
     ]
    }
   ],
   "source": [
    "img_size = 32\n",
    "\n",
    "transform_dev = transforms.Compose(\n",
    "    [transforms.Resize(img_size),\n",
    "     transforms.ToTensor(),\n",
    "     transforms.Normalize((0.5, 0.5, 0.5), (0.5, 0.5, 0.5))])\n",
    "\n",
    "transform_train = transform_dev\n",
    "# transform_train = transforms.Compose(\n",
    "#     [transforms.RandomCrop(32, padding=4),\n",
    "#      transforms.RandomHorizontalFlip(),\n",
    "#      transform_dev])\n",
    "\n",
    "\n",
    "trainset = torchvision.datasets.CIFAR10(root='/scratch/maf388/datasets/cifar10/', train=True,\n",
    "                                        download=True, transform=transform_train)\n",
    "trainloader = torch.utils.data.DataLoader(trainset, batch_size=64,\n",
    "                                          shuffle=True, num_workers=2)\n",
    "\n",
    "devset = torchvision.datasets.CIFAR10(root='/scratch/maf388/datasets/cifar10/', train=False,\n",
    "                                        download=False, transform=transform_dev)\n",
    "devloader = torch.utils.data.DataLoader(devset, batch_size=64,\n",
    "                                          shuffle=False, num_workers=2)\n",
    "\n",
    "\n",
    "dloaders = (trainloader,devloader,None)\n",
    "\n",
    "savedir = '/scratch/maf388/experiments/dcClassifier'"
   ]
  },
  {
   "cell_type": "code",
   "execution_count": 7,
   "metadata": {},
   "outputs": [],
   "source": [
    "from bgan.cnnTrainer import CnnTrainer\n",
    "from bgan.networkparts import BadGanD, BadGanDbn\n",
    "cnn = BadGanD(numClasses=10)\n",
    "trainer = CnnTrainer(cnn,dloaders,savedir,eta=2e-4)"
   ]
  },
  {
   "cell_type": "code",
   "execution_count": null,
   "metadata": {},
   "outputs": [],
   "source": []
  },
  {
   "cell_type": "code",
   "execution_count": 8,
   "metadata": {},
   "outputs": [
    {
     "name": "stdout",
     "output_type": "stream",
     "text": [
      "[  0/100][ 781/782] Train Loss: 1.8887    Train Acc: 0.310   Test Acc: 0.330\n",
      "[  1/100][ 781/782] Train Loss: 1.6161    Train Acc: 0.435   Test Acc: 0.424\n",
      "[  2/100][ 781/782] Train Loss: 1.4554    Train Acc: 0.478   Test Acc: 0.471\n",
      "[  3/100][ 781/782] Train Loss: 1.3348    Train Acc: 0.558   Test Acc: 0.551\n",
      "[  4/100][ 781/782] Train Loss: 1.3036    Train Acc: 0.547   Test Acc: 0.549\n",
      "[  5/100][ 781/782] Train Loss: 1.2346    Train Acc: 0.585   Test Acc: 0.585\n",
      "[  6/100][ 781/782] Train Loss: 1.1415    Train Acc: 0.621   Test Acc: 0.603\n",
      "[  7/100][ 781/782] Train Loss: 1.1117    Train Acc: 0.645   Test Acc: 0.634\n",
      "[  8/100][ 781/782] Train Loss: 1.1425    Train Acc: 0.621   Test Acc: 0.641\n",
      "[  9/100][ 781/782] Train Loss: 1.0034    Train Acc: 0.692   Test Acc: 0.665\n",
      "[ 10/100][ 781/782] Train Loss: 0.9679    Train Acc: 0.703   Test Acc: 0.625\n",
      "[ 11/100][ 781/782] Train Loss: 0.9855    Train Acc: 0.690   Test Acc: 0.656\n",
      "[ 12/100][ 781/782] Train Loss: 0.8948    Train Acc: 0.719   Test Acc: 0.701\n",
      "[ 13/100][ 781/782] Train Loss: 1.0048    Train Acc: 0.681   Test Acc: 0.701\n",
      "[ 14/100][ 781/782] Train Loss: 0.9228    Train Acc: 0.696   Test Acc: 0.737\n",
      "[ 15/100][ 781/782] Train Loss: 0.8968    Train Acc: 0.712   Test Acc: 0.705\n",
      "[ 16/100][ 781/782] Train Loss: 0.8782    Train Acc: 0.746   Test Acc: 0.699\n",
      "[ 17/100][ 781/782] Train Loss: 0.7572    Train Acc: 0.761   Test Acc: 0.743\n",
      "[ 18/100][ 781/782] Train Loss: 0.8110    Train Acc: 0.754   Test Acc: 0.759\n",
      "[ 19/100][ 781/782] Train Loss: 0.7182    Train Acc: 0.806   Test Acc: 0.763\n",
      "[ 20/100][ 781/782] Train Loss: 0.8337    Train Acc: 0.737   Test Acc: 0.757\n",
      "[ 21/100][ 781/782] Train Loss: 0.7460    Train Acc: 0.788   Test Acc: 0.759\n",
      "[ 22/100][ 781/782] Train Loss: 0.7304    Train Acc: 0.801   Test Acc: 0.770\n",
      "[ 23/100][ 781/782] Train Loss: 0.6935    Train Acc: 0.786   Test Acc: 0.743\n",
      "[ 24/100][ 781/782] Train Loss: 0.7315    Train Acc: 0.788   Test Acc: 0.768\n",
      "[ 25/100][ 781/782] Train Loss: 0.7288    Train Acc: 0.801   Test Acc: 0.777\n",
      "[ 26/100][ 781/782] Train Loss: 0.7397    Train Acc: 0.797   Test Acc: 0.728\n",
      "[ 27/100][ 781/782] Train Loss: 0.6982    Train Acc: 0.824   Test Acc: 0.812\n",
      "[ 28/100][ 781/782] Train Loss: 0.6542    Train Acc: 0.815   Test Acc: 0.804\n",
      "[ 29/100][ 781/782] Train Loss: 0.5479    Train Acc: 0.859   Test Acc: 0.795\n",
      "[ 30/100][ 781/782] Train Loss: 0.6233    Train Acc: 0.828   Test Acc: 0.812\n",
      "[ 31/100][ 781/782] Train Loss: 0.6301    Train Acc: 0.826   Test Acc: 0.775\n",
      "[ 32/100][ 781/782] Train Loss: 0.5649    Train Acc: 0.819   Test Acc: 0.786\n",
      "[ 33/100][ 781/782] Train Loss: 0.6274    Train Acc: 0.826   Test Acc: 0.808\n",
      "[ 34/100][ 781/782] Train Loss: 0.5666    Train Acc: 0.846   Test Acc: 0.779\n",
      "[ 35/100][ 781/782] Train Loss: 0.5493    Train Acc: 0.868   Test Acc: 0.815\n",
      "[ 36/100][ 781/782] Train Loss: 0.5880    Train Acc: 0.835   Test Acc: 0.786\n",
      "[ 37/100][ 781/782] Train Loss: 0.5281    Train Acc: 0.857   Test Acc: 0.817\n",
      "[ 38/100][ 781/782] Train Loss: 0.5091    Train Acc: 0.846   Test Acc: 0.797\n",
      "[ 39/100][ 781/782] Train Loss: 0.5690    Train Acc: 0.844   Test Acc: 0.817\n",
      "[ 40/100][ 781/782] Train Loss: 0.5881    Train Acc: 0.853   Test Acc: 0.790\n",
      "[ 41/100][ 781/782] Train Loss: 0.5899    Train Acc: 0.857   Test Acc: 0.837\n",
      "[ 42/100][ 781/782] Train Loss: 0.5177    Train Acc: 0.864   Test Acc: 0.790\n",
      "[ 43/100][ 781/782] Train Loss: 0.4841    Train Acc: 0.871   Test Acc: 0.786\n",
      "[ 44/100][ 781/782] Train Loss: 0.4992    Train Acc: 0.875   Test Acc: 0.826\n",
      "[ 45/100][ 781/782] Train Loss: 0.5362    Train Acc: 0.873   Test Acc: 0.792\n",
      "[ 46/100][ 781/782] Train Loss: 0.4407    Train Acc: 0.875   Test Acc: 0.824\n",
      "[ 47/100][ 781/782] Train Loss: 0.5662    Train Acc: 0.855   Test Acc: 0.848\n",
      "[ 48/100][ 781/782] Train Loss: 0.5330    Train Acc: 0.839   Test Acc: 0.808\n",
      "[ 49/100][ 781/782] Train Loss: 0.4364    Train Acc: 0.893   Test Acc: 0.812\n",
      "[ 50/100][ 781/782] Train Loss: 0.4785    Train Acc: 0.875   Test Acc: 0.804\n",
      "[ 51/100][ 781/782] Train Loss: 0.5101    Train Acc: 0.853   Test Acc: 0.833\n",
      "[ 52/100][ 781/782] Train Loss: 0.4054    Train Acc: 0.893   Test Acc: 0.808\n",
      "[ 53/100][ 781/782] Train Loss: 0.4156    Train Acc: 0.886   Test Acc: 0.817\n",
      "[ 54/100][ 781/782] Train Loss: 0.4690    Train Acc: 0.891   Test Acc: 0.830\n",
      "[ 55/100][ 781/782] Train Loss: 0.4147    Train Acc: 0.911   Test Acc: 0.835\n",
      "[ 56/100][ 781/782] Train Loss: 0.4733    Train Acc: 0.902   Test Acc: 0.848\n",
      "[ 57/100][ 781/782] Train Loss: 0.4290    Train Acc: 0.906   Test Acc: 0.828\n",
      "[ 58/100][ 781/782] Train Loss: 0.4258    Train Acc: 0.902   Test Acc: 0.801\n",
      "[ 59/100][ 781/782] Train Loss: 0.4795    Train Acc: 0.871   Test Acc: 0.842\n",
      "[ 60/100][ 781/782] Train Loss: 0.4366    Train Acc: 0.895   Test Acc: 0.826\n",
      "[ 61/100][ 781/782] Train Loss: 0.4244    Train Acc: 0.902   Test Acc: 0.839\n",
      "[ 62/100][ 781/782] Train Loss: 0.4192    Train Acc: 0.900   Test Acc: 0.806\n",
      "[ 63/100][ 781/782] Train Loss: 0.4291    Train Acc: 0.893   Test Acc: 0.815\n",
      "[ 64/100][ 781/782] Train Loss: 0.4691    Train Acc: 0.864   Test Acc: 0.853\n",
      "[ 65/100][ 781/782] Train Loss: 0.4028    Train Acc: 0.908   Test Acc: 0.790\n",
      "[ 66/100][ 781/782] Train Loss: 0.4399    Train Acc: 0.893   Test Acc: 0.833\n",
      "[ 67/100][ 781/782] Train Loss: 0.4382    Train Acc: 0.891   Test Acc: 0.839\n",
      "[ 68/100][ 781/782] Train Loss: 0.4232    Train Acc: 0.900   Test Acc: 0.833\n",
      "[ 69/100][ 781/782] Train Loss: 0.4118    Train Acc: 0.893   Test Acc: 0.855\n",
      "[ 70/100][ 781/782] Train Loss: 0.3554    Train Acc: 0.904   Test Acc: 0.819\n",
      "[ 71/100][ 781/782] Train Loss: 0.4596    Train Acc: 0.882   Test Acc: 0.846\n",
      "[ 72/100][ 781/782] Train Loss: 0.4193    Train Acc: 0.897   Test Acc: 0.837\n",
      "[ 73/100][ 781/782] Train Loss: 0.4028    Train Acc: 0.904   Test Acc: 0.835\n",
      "[ 74/100][ 781/782] Train Loss: 0.4761    Train Acc: 0.900   Test Acc: 0.853\n",
      "[ 75/100][ 781/782] Train Loss: 0.4007    Train Acc: 0.904   Test Acc: 0.819\n",
      "[ 76/100][ 781/782] Train Loss: 0.4502    Train Acc: 0.884   Test Acc: 0.873\n",
      "[ 77/100][ 781/782] Train Loss: 0.4061    Train Acc: 0.888   Test Acc: 0.839\n",
      "[ 78/100][ 781/782] Train Loss: 0.3516    Train Acc: 0.922   Test Acc: 0.855\n",
      "[ 79/100][ 781/782] Train Loss: 0.3766    Train Acc: 0.904   Test Acc: 0.853\n",
      "[ 80/100][ 781/782] Train Loss: 0.3616    Train Acc: 0.908   Test Acc: 0.828\n",
      "[ 81/100][ 781/782] Train Loss: 0.4186    Train Acc: 0.913   Test Acc: 0.857\n",
      "[ 82/100][ 781/782] Train Loss: 0.3473    Train Acc: 0.917   Test Acc: 0.799\n",
      "[ 83/100][ 781/782] Train Loss: 0.4158    Train Acc: 0.902   Test Acc: 0.853\n",
      "[ 84/100][ 781/782] Train Loss: 0.3655    Train Acc: 0.920   Test Acc: 0.855\n",
      "[ 85/100][ 781/782] Train Loss: 0.3691    Train Acc: 0.917   Test Acc: 0.828\n",
      "[ 86/100][ 781/782] Train Loss: 0.3960    Train Acc: 0.895   Test Acc: 0.875\n",
      "[ 87/100][ 781/782] Train Loss: 0.3147    Train Acc: 0.931   Test Acc: 0.855\n",
      "[ 88/100][ 781/782] Train Loss: 0.4062    Train Acc: 0.906   Test Acc: 0.850\n",
      "[ 89/100][ 781/782] Train Loss: 0.3643    Train Acc: 0.913   Test Acc: 0.846\n",
      "[ 90/100][ 781/782] Train Loss: 0.3540    Train Acc: 0.897   Test Acc: 0.837\n",
      "[ 91/100][ 781/782] Train Loss: 0.3979    Train Acc: 0.920   Test Acc: 0.839\n",
      "[ 92/100][ 781/782] Train Loss: 0.3477    Train Acc: 0.913   Test Acc: 0.837\n",
      "[ 93/100][ 781/782] Train Loss: 0.4011    Train Acc: 0.924   Test Acc: 0.842\n",
      "[ 94/100][ 781/782] Train Loss: 0.3434    Train Acc: 0.913   Test Acc: 0.862\n",
      "[ 95/100][ 781/782] Train Loss: 0.3612    Train Acc: 0.933   Test Acc: 0.850\n",
      "[ 96/100][ 781/782] Train Loss: 0.3094    Train Acc: 0.926   Test Acc: 0.868\n",
      "[ 97/100][ 781/782] Train Loss: 0.3528    Train Acc: 0.922   Test Acc: 0.850\n",
      "[ 98/100][ 781/782] Train Loss: 0.3777    Train Acc: 0.908   Test Acc: 0.866\n",
      "[ 99/100][ 781/782] Train Loss: 0.2850    Train Acc: 0.938   Test Acc: 0.850\n"
     ]
    }
   ],
   "source": [
    "trainer.train(100)"
   ]
  },
  {
   "cell_type": "code",
   "execution_count": null,
   "metadata": {},
   "outputs": [],
   "source": [
    "print(torch.__version__)"
   ]
  },
  {
   "cell_type": "code",
   "execution_count": 1,
   "metadata": {},
   "outputs": [
    {
     "name": "stdout",
     "output_type": "stream",
     "text": [
      "4\n",
      "4\n",
      "4\n",
      "4\n",
      "4\n"
     ]
    }
   ],
   "source": [
    "for i in range(5):\n",
    "    for j in range(5):\n",
    "        k = j\n",
    "    print(k)"
   ]
  },
  {
   "cell_type": "code",
   "execution_count": null,
   "metadata": {},
   "outputs": [],
   "source": []
  }
 ],
 "metadata": {
  "kernelspec": {
   "display_name": "Python 3",
   "language": "python",
   "name": "python3"
  },
  "language_info": {
   "codemirror_mode": {
    "name": "ipython",
    "version": 3
   },
   "file_extension": ".py",
   "mimetype": "text/x-python",
   "name": "python",
   "nbconvert_exporter": "python",
   "pygments_lexer": "ipython3",
   "version": "3.5.4"
  }
 },
 "nbformat": 4,
 "nbformat_minor": 2
}
