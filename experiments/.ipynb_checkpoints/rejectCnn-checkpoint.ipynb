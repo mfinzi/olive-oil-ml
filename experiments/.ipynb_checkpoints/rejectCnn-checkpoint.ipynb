{
 "cells": [
  {
   "cell_type": "code",
   "execution_count": 16,
   "metadata": {},
   "outputs": [
    {
     "name": "stdout",
     "output_type": "stream",
     "text": [
      "The autoreload extension is already loaded. To reload it, use:\n",
      "  %reload_ext autoreload\n"
     ]
    }
   ],
   "source": [
    "import torch, torchvision\n",
    "import torch.optim as optim\n",
    "import torch.nn as nn\n",
    "import torch.nn.functional as F\n",
    "\n",
    "from oil.utils import to_var_gpu\n",
    "from oil.cnnTrainer import CnnTrainer\n",
    "from oil.datasets import CIFAR10, C10augLayers\n",
    "from oil.networkparts import layer13\n",
    "from oil.schedules import cosLr, sigmoidConsRamp\n",
    "from oil.calibration import getLogitsAndLabels, get_logit_mean_std, max_logit_calib_rule, get_temperature, evaluate_ECE\n",
    "%matplotlib inline\n",
    "%load_ext autoreload\n",
    "%autoreload 2"
   ]
  },
  {
   "cell_type": "markdown",
   "metadata": {},
   "source": [
    "## CNN Configuration"
   ]
  },
  {
   "cell_type": "code",
   "execution_count": 2,
   "metadata": {},
   "outputs": [
    {
     "name": "stdout",
     "output_type": "stream",
     "text": [
      "Files already downloaded and verified\n",
      "Files already downloaded and verified\n"
     ]
    }
   ],
   "source": [
    "savedir = None\n",
    "load_path = '/home/maf388/tb-experiments/layer13dev/checkpoints/c.249.ckpt'\n",
    "total_epochs = 250\n",
    "opt_constr = lambda params, base_lr: optim.SGD(params, base_lr, .9, weight_decay=1e-4, nesterov=True)\n",
    "lr_lambda = cosLr(total_epochs, 1)\n",
    "\n",
    "config = {'base_lr':.1, 'amntLab':1, 'amntDev':5000,\n",
    "          'lab_BS':50, 'ul_BS':50, 'num_workers':4,\n",
    "          'lr_lambda':lr_lambda, 'opt_constr':opt_constr,\n",
    "          'log':False,\n",
    "          }\n",
    "\n",
    "fullCNN = nn.Sequential(C10augLayers(),layer13(numClasses=10))\n",
    "datasets = CIFAR10(aug=False)"
   ]
  },
  {
   "cell_type": "code",
   "execution_count": 3,
   "metadata": {},
   "outputs": [
    {
     "name": "stdout",
     "output_type": "stream",
     "text": [
      "Creating Train, Dev split         with 45000 Train and 5000 Dev\n",
      "=> loading checkpoint '/home/maf388/tb-experiments/layer13dev/checkpoints/c.249.ckpt'\n"
     ]
    }
   ],
   "source": [
    "trainer = CnnTrainer(fullCNN, datasets, savedir, load_path, **config)"
   ]
  },
  {
   "cell_type": "code",
   "execution_count": 4,
   "metadata": {},
   "outputs": [
    {
     "data": {
      "text/plain": [
       "0.948"
      ]
     },
     "execution_count": 4,
     "metadata": {},
     "output_type": "execute_result"
    }
   ],
   "source": [
    "trainer.getAccuracy(trainer.dev, trainer.CNN)"
   ]
  },
  {
   "cell_type": "code",
   "execution_count": 6,
   "metadata": {},
   "outputs": [],
   "source": [
    "import matplotlib.pyplot as plt\n",
    "import numpy as np\n",
    "from oil.utils import to_var_gpu"
   ]
  },
  {
   "cell_type": "code",
   "execution_count": 19,
   "metadata": {},
   "outputs": [
    {
     "data": {
      "text/plain": [
       "True"
      ]
     },
     "execution_count": 19,
     "metadata": {},
     "output_type": "execute_result"
    }
   ],
   "source": [
    "trainer.CNN.train(False)\n",
    "devlogits, labels = getLogitsAndLabels(trainer.CNN, trainer.dev)\n",
    "max_logits, predictions = torch.max(devlogits, 1)\n",
    "mean, std = get_logit_mean_std(devlogits)\n",
    "standard_max_logits = (max_logits-mean)/std\n",
    "\n",
    "p_list = []\n",
    "for xy in trainer.dev:\n",
    "    x,y = to_var_gpu(xy)\n",
    "    p_list.append(F.softmax(trainer.CNN(x),dim=1).detach())\n",
    "devps = torch.cat(p_list)\n",
    "max_ps, predictions2 = torch.max(devps,1)\n",
    "(predictions==predictions2).cpu().data.numpy().all()"
   ]
  },
  {
   "cell_type": "code",
   "execution_count": 22,
   "metadata": {},
   "outputs": [
    {
     "data": {
      "text/plain": [
       "(array([  5.,  13.,  33.,  68.,  95., 133., 182., 177., 209., 278., 307.,\n",
       "        366., 364., 390., 364., 346., 366., 316., 259., 225., 172., 114.,\n",
       "         82.,  58.,  29.,  11.,  22.,   7.,   6.,   3.]),\n",
       " array([-2.74410939, -2.54315711, -2.34220483, -2.14125254, -1.94030026,\n",
       "        -1.73934797, -1.53839569, -1.33744341, -1.13649112, -0.93553884,\n",
       "        -0.73458656, -0.53363427, -0.33268199, -0.13172971,  0.06922258,\n",
       "         0.27017486,  0.47112714,  0.67207943,  0.87303171,  1.073984  ,\n",
       "         1.27493628,  1.47588856,  1.67684085,  1.87779313,  2.07874541,\n",
       "         2.2796977 ,  2.48064998,  2.68160226,  2.88255455,  3.08350683,\n",
       "         3.28445911]),\n",
       " <a list of 30 Patch objects>)"
      ]
     },
     "execution_count": 22,
     "metadata": {},
     "output_type": "execute_result"
    },
    {
     "data": {
      "image/png": "[encoded data removed]",
      "text/plain": [
       "<matplotlib.figure.Figure at 0x7fe24d30e588>"
      ]
     },
     "metadata": {},
     "output_type": "display_data"
    }
   ],
   "source": [
    "plt.hist(standard_max_logits.cpu().data.numpy(),bins=30)"
   ]
  },
  {
   "cell_type": "code",
   "execution_count": 39,
   "metadata": {},
   "outputs": [],
   "source": [
    "def rejectLogit(percentile):\n",
    "    trainer.CNN.train(False)\n",
    "    i=0\n",
    "    accSum = 0\n",
    "    threshold = np.percentile(max_logits.cpu().data.numpy(),percentile)\n",
    "    for (x, y) in trainer.dev:\n",
    "        x = to_var_gpu(x, volatile=True)\n",
    "        y = to_var_gpu(y).cpu().data.numpy()\n",
    "        max_logit, pred = trainer.CNN(x).max(1)\n",
    "        max_logit = max_logit.cpu().data.numpy()\n",
    "        pred = pred.cpu().data.numpy()\n",
    "        \n",
    "        accepted = max_logit>threshold\n",
    "        accSum += (pred[accepted]==y[accepted]).sum()\n",
    "        i += np.sum(accepted)\n",
    "    return accSum/i, 1-i/5000\n",
    "\n",
    "def rejectP(percentile):\n",
    "    trainer.CNN.train(False)\n",
    "    i=0\n",
    "    accSum = 0\n",
    "    threshold = np.percentile(max_ps.cpu().data.numpy(),percentile)\n",
    "    for (x, y) in trainer.dev:\n",
    "        x = to_var_gpu(x, volatile=True)\n",
    "        y = to_var_gpu(y).cpu().data.numpy()\n",
    "        max_p, pred = F.softmax(trainer.CNN(x), dim=1).max(1)\n",
    "        max_p = max_p.cpu().data.numpy()\n",
    "        pred = pred.cpu().data.numpy()\n",
    "        \n",
    "        accepted = max_p>threshold\n",
    "        accSum += (pred[accepted]==y[accepted]).sum()\n",
    "        i += np.sum(accepted)\n",
    "    return accSum/i, 1-i/5000"
   ]
  },
  {
   "cell_type": "code",
   "execution_count": 45,
   "metadata": {},
   "outputs": [],
   "source": [
    "thresholds = np.linspace(0,25,20)"
   ]
  },
  {
   "cell_type": "code",
   "execution_count": 46,
   "metadata": {},
   "outputs": [],
   "source": [
    "accsL = np.zeros_like(thresholds)\n",
    "reject_ratesL = np.zeros_like(thresholds)\n",
    "accsP = np.zeros_like(thresholds)\n",
    "reject_ratesP = np.zeros_like(thresholds)\n",
    "\n",
    "for i, thresh in enumerate(thresholds):\n",
    "    accsL[i], reject_ratesL[i] = rejectLogit(thresh)\n",
    "    accsP[i], reject_ratesP[i] = rejectP(thresh)"
   ]
  },
  {
   "cell_type": "code",
   "execution_count": 49,
   "metadata": {},
   "outputs": [
    {
     "data": {
      "text/plain": [
       "<matplotlib.legend.Legend at 0x7fe24cfe1588>"
      ]
     },
     "execution_count": 49,
     "metadata": {},
     "output_type": "execute_result"
    },
    {
     "data": {
      "image/png": "[encoded data removed]",
      "text/plain": [
       "<matplotlib.figure.Figure at 0x7fe24d0164e0>"
      ]
     },
     "metadata": {},
     "output_type": "display_data"
    }
   ],
   "source": [
    "plt.xlabel(\"Rejection Rate\")\n",
    "plt.ylabel(\"Test Error (%)\")\n",
    "plt.plot(reject_ratesL, 100*(1-accsL),color='green')\n",
    "plt.plot(reject_ratesP, 100*(1-accsP),color='blue')\n",
    "plt.legend([\"Maximum logit rejection\", \"Maximum prob rejection\"])"
   ]
  },
  {
   "cell_type": "code",
   "execution_count": 38,
   "metadata": {},
   "outputs": [
    {
     "data": {
      "text/plain": [
       "array([ 0.  ,  6.25, 12.5 , 18.75, 25.  ])"
      ]
     },
     "execution_count": 38,
     "metadata": {},
     "output_type": "execute_result"
    }
   ],
   "source": [
    "thresholds"
   ]
  },
  {
   "cell_type": "code",
   "execution_count": 61,
   "metadata": {},
   "outputs": [],
   "source": [
    "def stratAcc(threshold, bin_width):\n",
    "    trainer.CNN.train(False)\n",
    "    #i=0\n",
    "    #accSum = 0\n",
    "    acceptedAccs = []\n",
    "    for (x, y) in trainer.dev:\n",
    "        x = to_var_gpu(x, volatile=True)\n",
    "        y = to_var_gpu(y).cpu().data.numpy()\n",
    "        max_logit = trainer.CNN(x).max(1)[0].cpu().data.numpy()\n",
    "        pred = trainer.CNN(x).max(1)[1].cpu().data.numpy()\n",
    "        accepted = (max_logit>threshold)&(max_logit <= threshold + bin_width)\n",
    "        if np.any(accepted):\n",
    "            acceptedAccs.append((pred[accepted]==y[accepted]).astype(np.int64))\n",
    "    if acceptedAccs != []:\n",
    "        acceptedAccs = np.concatenate(acceptedAccs).ravel()\n",
    "    count = len(acceptedAccs)\n",
    "    if count:\n",
    "#         print(acceptedAccs)\n",
    "#         print(acceptedAccs.shape)\n",
    "        std = acceptedAccs.std()\n",
    "        acc = acceptedAccs.mean()\n",
    "        #print(std)\n",
    "    else:\n",
    "        std = 0\n",
    "        acc = 0\n",
    "    return acc, count, std"
   ]
  },
  {
   "cell_type": "code",
   "execution_count": 62,
   "metadata": {},
   "outputs": [],
   "source": [
    "thresh2 = np.linspace(2,40,30)\n",
    "bin_width = thresh2[1]-thresh2[0]\n",
    "accs2 = np.zeros_like(thresh2)\n",
    "counts = np.zeros_like(thresh2)\n",
    "stds = np.zeros_like(thresh2)"
   ]
  },
  {
   "cell_type": "code",
   "execution_count": 63,
   "metadata": {},
   "outputs": [],
   "source": [
    "for i, thresh in enumerate(thresh2):\n",
    "    accs2[i], counts[i], stds[i] = stratAcc(thresh, bin_width)"
   ]
  },
  {
   "cell_type": "code",
   "execution_count": 79,
   "metadata": {},
   "outputs": [
    {
     "name": "stdout",
     "output_type": "stream",
     "text": [
      "[  0.   7.  26.  84. 157. 218. 318. 347. 445. 526. 624. 685. 686. 762.\n",
      " 761. 831. 692. 675. 581. 479. 349. 258. 184. 120.  84.  42.  20.  16.\n",
      "   7.   6.]\n"
     ]
    },
    {
     "data": {
      "image/png": "[encoded data removed]",
      "text/plain": [
       "<matplotlib.figure.Figure at 0x7fa342f17940>"
      ]
     },
     "metadata": {},
     "output_type": "display_data"
    }
   ],
   "source": [
    "print(counts)\n",
    "from matplotlib.ticker import ScalarFormatter\n",
    "fig, ax = plt.subplots()\n",
    "\n",
    "y = 100*(1-accs2)\n",
    "\n",
    "\n",
    "ax.bar(thresh2[1:], y[1:], bin_width, yerr=100*stds[1:]/np.sqrt(counts[1:]), bottom=.1)\n",
    "ax.set_xlabel(\"Max logit\")\n",
    "ax.set_ylabel(\"Test Error (%)\")\n",
    "ax.set_yscale('log')\n",
    "for axis in [ax.xaxis, ax.yaxis]:\n",
    "    axis.set_major_formatter(ScalarFormatter())\n",
    "plt.show()"
   ]
  },
  {
   "cell_type": "code",
   "execution_count": 80,
   "metadata": {},
   "outputs": [
    {
     "name": "stdout",
     "output_type": "stream",
     "text": [
      "[  0.   7.  26.  84. 157. 218. 318. 347. 445. 526. 624. 685. 686. 762.\n",
      " 761. 831. 692. 675. 581. 479. 349. 258. 184. 120.  84.  42.  20.  16.\n",
      "   7.   6.]\n"
     ]
    },
    {
     "data": {
      "image/png": "[encoded data removed]",
      "text/plain": [
       "<matplotlib.figure.Figure at 0x7fa342d28c50>"
      ]
     },
     "metadata": {},
     "output_type": "display_data"
    }
   ],
   "source": [
    "from matplotlib.ticker import ScalarFormatter\n",
    "fig, ax = plt.subplots()\n",
    "\n",
    "y = 100*(1-accs2)\n",
    "\n",
    "\n",
    "ax.bar(thresh2[1:], y[1:], bin_width, yerr=100*stds[1:]/np.sqrt(counts[1:]), bottom=.1)\n",
    "ax.set_xlabel(\"Max logit\")\n",
    "ax.set_ylabel(\"Test Error (%)\")\n",
    "plt.show()"
   ]
  },
  {
   "cell_type": "code",
   "execution_count": 124,
   "metadata": {},
   "outputs": [],
   "source": [
    "import torch.nn.functional as F\n",
    "trainer.CNN.train(False)\n",
    "max_ps = np.zeros(10000)\n",
    "i=0\n",
    "for (x, y) in trainer.dev:\n",
    "    x = to_var_gpu(x, volatile=True)\n",
    "    bs = x.size()[0]\n",
    "    max_ps[i:i+bs] = F.softmax(trainer.CNN(x),dim=1).max(1)[0].cpu().data.numpy()\n",
    "    i += bs"
   ]
  },
  {
   "cell_type": "code",
   "execution_count": 77,
   "metadata": {},
   "outputs": [
    {
     "data": {
      "text/plain": [
       "(array([2342.,    0.,    0.,    0.,    0.,    0.,    0.,    0.,    0.,\n",
       "         203.,  181.,  167.,  147.,  177.,  153.,  168.,  132.,  132.,\n",
       "         109.,  122.,  129.,   95.,   83.,   88.,   91.,   85.,   91.,\n",
       "         100.,  109.,   96.]),\n",
       " array([-23.0258503 , -22.26790736, -21.50996443, -20.75202149,\n",
       "        -19.99407856, -19.23613562, -18.47819269, -17.72024975,\n",
       "        -16.96230682, -16.20436388, -15.44642095, -14.68847801,\n",
       "        -13.93053508, -13.17259214, -12.41464921, -11.65670627,\n",
       "        -10.89876334, -10.1408204 ,  -9.38287747,  -8.62493453,\n",
       "         -7.8669916 ,  -7.10904866,  -6.35110573,  -5.59316279,\n",
       "         -4.83521986,  -4.07727693,  -3.31933399,  -2.56139106,\n",
       "         -1.80344812,  -1.04550519,  -0.28756225]),\n",
       " <a list of 30 Patch objects>)"
      ]
     },
     "execution_count": 77,
     "metadata": {},
     "output_type": "execute_result"
    },
    {
     "data": {
      "image/png": "[encoded data removed]",
      "text/plain": [
       "<matplotlib.figure.Figure at 0x7fe24cbb3dd8>"
      ]
     },
     "metadata": {},
     "output_type": "display_data"
    }
   ],
   "source": [
    "plt.hist(np.log(1-max_ps.cpu().data.numpy()+1e-10),bins=30)"
   ]
  },
  {
   "cell_type": "code",
   "execution_count": 54,
   "metadata": {},
   "outputs": [],
   "source": [
    "def stratAccP(lower, upper):\n",
    "    trainer.CNN.train(False)\n",
    "    #i=0\n",
    "    #accSum = 0\n",
    "    acceptedAccs = []\n",
    "    for (x, y) in trainer.dev:\n",
    "        x = to_var_gpu(x, volatile=True)\n",
    "        y = to_var_gpu(y).cpu().data.numpy()\n",
    "        max_p, pred = F.softmax(trainer.CNN(x),dim=1).max(1)\n",
    "        max_p = max_p.cpu().data.numpy()\n",
    "        pred = pred.cpu().data.numpy()\n",
    "        accepted = (max_p>lower)&(max_p <= upper)\n",
    "        if np.any(accepted):\n",
    "            acceptedAccs.append((pred[accepted]==y[accepted]).astype(np.int64))\n",
    "    if acceptedAccs != []:\n",
    "        acceptedAccs = np.concatenate(acceptedAccs).ravel()\n",
    "    count = len(acceptedAccs)\n",
    "    if count:\n",
    "#         print(acceptedAccs)\n",
    "#         print(acceptedAccs.shape)\n",
    "        std = acceptedAccs.std()\n",
    "        acc = acceptedAccs.mean()\n",
    "        #print(std)\n",
    "    else:\n",
    "        std = 0\n",
    "        acc = 0\n",
    "    return acc, count, std"
   ]
  },
  {
   "cell_type": "code",
   "execution_count": 55,
   "metadata": {},
   "outputs": [],
   "source": [
    "percentiles = np.linspace(0,100,30)\n",
    "thresholds = np.percentile(max_ps.cpu().data.numpy(),percentiles)\n",
    "accs = np.zeros_like(thresholds)\n",
    "counts = np.zeros_like(thresholds)\n",
    "stds = np.zeros_like(thresholds)"
   ]
  },
  {
   "cell_type": "code",
   "execution_count": 56,
   "metadata": {},
   "outputs": [],
   "source": [
    "for i, (lower, upper) in enumerate(zip(thresholds[:-1],thresholds[1:])):\n",
    "    accs[i], counts[i], stds[i] = stratAccP(lower, upper)"
   ]
  },
  {
   "cell_type": "code",
   "execution_count": 72,
   "metadata": {},
   "outputs": [
    {
     "data": {
      "image/png": "[encoded data removed]",
      "text/plain": [
       "<matplotlib.figure.Figure at 0x7fe24cca6cf8>"
      ]
     },
     "metadata": {},
     "output_type": "display_data"
    }
   ],
   "source": [
    "fig, ax = plt.subplots()\n",
    "\n",
    "y = 100*(1-accs)\n",
    "mk = counts>0\n",
    "bin_widths = np.append(thresholds[1:]-thresholds[:-1],.1)\n",
    "ax.bar(1-thresholds[mk], y[mk], bin_widths[mk], yerr=100*stds[mk]/np.sqrt(counts[mk]), bottom=.1)\n",
    "ax.set_xlabel(\"1 - Max p\")\n",
    "ax.set_ylabel(\"Test Error (%)\")\n",
    "ax.set_yscale('log')\n",
    "ax.set_xscale('log')\n",
    "plt.show()"
   ]
  },
  {
   "cell_type": "code",
   "execution_count": 81,
   "metadata": {},
   "outputs": [
    {
     "data": {
      "text/plain": [
       "array([ 0.        ,  3.44827586,  6.89655172, 10.34482759, 13.79310345,\n",
       "       17.24137931, 20.68965517, 24.13793103, 27.5862069 , 31.03448276,\n",
       "       34.48275862, 37.93103448, 41.37931034, 44.82758621, 48.27586207,\n",
       "       51.72413793])"
      ]
     },
     "execution_count": 81,
     "metadata": {},
     "output_type": "execute_result"
    }
   ],
   "source": [
    "counts[:20]\n",
    "percentiles[:16]"
   ]
  },
  {
   "cell_type": "code",
   "execution_count": 132,
   "metadata": {},
   "outputs": [
    {
     "name": "stdout",
     "output_type": "stream",
     "text": [
      "[  10    3   11    5   11   14   15   11   10   19   19   16   20   18\n",
      "   19   16   15    9   25   24   34   40   29   33   55   65  109  174\n",
      " 8721    0]\n"
     ]
    }
   ],
   "source": [
    "print(counts3.astype(int))"
   ]
  },
  {
   "cell_type": "code",
   "execution_count": 117,
   "metadata": {},
   "outputs": [
    {
     "name": "stdout",
     "output_type": "stream",
     "text": [
      "270349.0\n"
     ]
    }
   ],
   "source": [
    "print(counts3.sum())"
   ]
  },
  {
   "cell_type": "code",
   "execution_count": null,
   "metadata": {},
   "outputs": [],
   "source": []
  }
 ],
 "metadata": {
  "kernelspec": {
   "display_name": "Python 3",
   "language": "python",
   "name": "python3"
  },
  "language_info": {
   "codemirror_mode": {
    "name": "ipython",
    "version": 3
   },
   "file_extension": ".py",
   "mimetype": "text/x-python",
   "name": "python",
   "nbconvert_exporter": "python",
   "pygments_lexer": "ipython3",
   "version": "3.5.4"
  }
 },
 "nbformat": 4,
 "nbformat_minor": 2
}
